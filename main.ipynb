{
 "cells": [
  {
   "cell_type": "markdown",
   "metadata": {
    "cell_id": "00000-d31ee0f1-54ab-446e-adc3-6dc6c0f0d273",
    "deepnote_cell_type": "markdown",
    "id": "qAfDiglRgUgn",
    "output_cleared": false,
    "tags": []
   },
   "source": [
    "# NLP - Disaster Data"
   ]
  },
  {
   "cell_type": "code",
   "execution_count": 1,
   "metadata": {
    "cell_id": "00002-dee8c0b3-b99a-42db-bc73-d2041dd76b96",
    "deepnote_cell_type": "code",
    "deepnote_to_be_reexecuted": false,
    "execution_millis": 1,
    "execution_start": 1617894026660,
    "id": "szgSF7tvgUgq",
    "output_cleared": false,
    "source_hash": "124f3ce4",
    "tags": []
   },
   "outputs": [],
   "source": [
    "import pandas as pd\n",
    "import numpy as np\n",
    "\n",
    "train_data = pd.read_csv(\"train.csv\")\n",
    "test_data = pd.read_csv(\"test.csv\")"
   ]
  },
  {
   "cell_type": "code",
   "execution_count": 2,
   "metadata": {
    "cell_id": "00003-3b258036-3925-4be1-8219-b08b9ac85294",
    "colab": {
     "base_uri": "https://localhost:8080/"
    },
    "deepnote_cell_type": "code",
    "deepnote_to_be_reexecuted": false,
    "execution_millis": 657,
    "execution_start": 1617894027000,
    "id": "qXgw7u-RgUgr",
    "outputId": "8aa6523c-40ca-406f-ae02-303f351a49f6",
    "output_cleared": false,
    "source_hash": "d36b4982",
    "tags": []
   },
   "outputs": [
    {
     "name": "stdout",
     "output_type": "stream",
     "text": [
      "Training Data:\n",
      "Shape - (7613, 5)\n",
      "Columns - Index(['id', 'keyword', 'location', 'text', 'target'], dtype='object')\n",
      "Memory Usage - 0.29 MB\n",
      "\n",
      "Testing Data:\n",
      "Shape - (3263, 4)\n",
      "Columns - Index(['id', 'keyword', 'location', 'text'], dtype='object')\n",
      "Memory Usage - 0.10 MB\n"
     ]
    }
   ],
   "source": [
    "print(\"Training Data:\")\n",
    "print(\"Shape - {}\".format(train_data.shape))\n",
    "print(\"Columns - {}\".format(train_data.columns))\n",
    "print(\"Memory Usage - {:.2f} MB\".format(train_data.memory_usage().sum() / 1024**2))\n",
    "\n",
    "print(\"\\nTesting Data:\")\n",
    "print(\"Shape - {}\".format(test_data.shape))\n",
    "print(\"Columns - {}\".format(test_data.columns))\n",
    "print(\"Memory Usage - {:.2f} MB\".format(test_data.memory_usage().sum() / 1024**2))\n"
   ]
  },
  {
   "cell_type": "code",
   "execution_count": 3,
   "metadata": {
    "cell_id": "00004-528044a5-3c32-4a2a-a9ba-a6d7cb2f7c37",
    "colab": {
     "base_uri": "https://localhost:8080/",
     "height": 194
    },
    "deepnote_cell_type": "code",
    "deepnote_to_be_reexecuted": false,
    "execution_millis": 635,
    "execution_start": 1617894027239,
    "id": "w3RjtALhgUgs",
    "outputId": "5d3414b2-5661-4309-8fbd-a396493e2f53",
    "output_cleared": false,
    "source_hash": "33e89837",
    "tags": []
   },
   "outputs": [
    {
     "data": {
      "text/html": [
       "<div>\n",
       "<style scoped>\n",
       "    .dataframe tbody tr th:only-of-type {\n",
       "        vertical-align: middle;\n",
       "    }\n",
       "\n",
       "    .dataframe tbody tr th {\n",
       "        vertical-align: top;\n",
       "    }\n",
       "\n",
       "    .dataframe thead th {\n",
       "        text-align: right;\n",
       "    }\n",
       "</style>\n",
       "<table border=\"1\" class=\"dataframe\">\n",
       "  <thead>\n",
       "    <tr style=\"text-align: right;\">\n",
       "      <th></th>\n",
       "      <th>id</th>\n",
       "      <th>keyword</th>\n",
       "      <th>location</th>\n",
       "      <th>text</th>\n",
       "      <th>target</th>\n",
       "    </tr>\n",
       "  </thead>\n",
       "  <tbody>\n",
       "    <tr>\n",
       "      <th>0</th>\n",
       "      <td>1</td>\n",
       "      <td>NaN</td>\n",
       "      <td>NaN</td>\n",
       "      <td>Our Deeds are the Reason of this #earthquake M...</td>\n",
       "      <td>1</td>\n",
       "    </tr>\n",
       "    <tr>\n",
       "      <th>1</th>\n",
       "      <td>4</td>\n",
       "      <td>NaN</td>\n",
       "      <td>NaN</td>\n",
       "      <td>Forest fire near La Ronge Sask. Canada</td>\n",
       "      <td>1</td>\n",
       "    </tr>\n",
       "    <tr>\n",
       "      <th>2</th>\n",
       "      <td>5</td>\n",
       "      <td>NaN</td>\n",
       "      <td>NaN</td>\n",
       "      <td>All residents asked to 'shelter in place' are ...</td>\n",
       "      <td>1</td>\n",
       "    </tr>\n",
       "    <tr>\n",
       "      <th>3</th>\n",
       "      <td>6</td>\n",
       "      <td>NaN</td>\n",
       "      <td>NaN</td>\n",
       "      <td>13,000 people receive #wildfires evacuation or...</td>\n",
       "      <td>1</td>\n",
       "    </tr>\n",
       "    <tr>\n",
       "      <th>4</th>\n",
       "      <td>7</td>\n",
       "      <td>NaN</td>\n",
       "      <td>NaN</td>\n",
       "      <td>Just got sent this photo from Ruby #Alaska as ...</td>\n",
       "      <td>1</td>\n",
       "    </tr>\n",
       "  </tbody>\n",
       "</table>\n",
       "</div>"
      ],
      "text/plain": [
       "   id keyword  ...                                               text target\n",
       "0   1     NaN  ...  Our Deeds are the Reason of this #earthquake M...      1\n",
       "1   4     NaN  ...             Forest fire near La Ronge Sask. Canada      1\n",
       "2   5     NaN  ...  All residents asked to 'shelter in place' are ...      1\n",
       "3   6     NaN  ...  13,000 people receive #wildfires evacuation or...      1\n",
       "4   7     NaN  ...  Just got sent this photo from Ruby #Alaska as ...      1\n",
       "\n",
       "[5 rows x 5 columns]"
      ]
     },
     "execution_count": 3,
     "metadata": {
      "tags": []
     },
     "output_type": "execute_result"
    }
   ],
   "source": [
    "train_data.head()"
   ]
  },
  {
   "cell_type": "code",
   "execution_count": 4,
   "metadata": {
    "cell_id": "00005-4d4aa59d-0f6a-440d-981f-c57d64c049f8",
    "colab": {
     "base_uri": "https://localhost:8080/",
     "height": 194
    },
    "deepnote_cell_type": "code",
    "deepnote_to_be_reexecuted": false,
    "execution_millis": 178,
    "execution_start": 1617894027699,
    "id": "YuR7s6rpgUgt",
    "outputId": "709d594c-ce66-4947-8535-b06d5f3ed64f",
    "output_cleared": false,
    "source_hash": "74dc1ffb",
    "tags": []
   },
   "outputs": [
    {
     "data": {
      "text/html": [
       "<div>\n",
       "<style scoped>\n",
       "    .dataframe tbody tr th:only-of-type {\n",
       "        vertical-align: middle;\n",
       "    }\n",
       "\n",
       "    .dataframe tbody tr th {\n",
       "        vertical-align: top;\n",
       "    }\n",
       "\n",
       "    .dataframe thead th {\n",
       "        text-align: right;\n",
       "    }\n",
       "</style>\n",
       "<table border=\"1\" class=\"dataframe\">\n",
       "  <thead>\n",
       "    <tr style=\"text-align: right;\">\n",
       "      <th></th>\n",
       "      <th>id</th>\n",
       "      <th>keyword</th>\n",
       "      <th>location</th>\n",
       "      <th>text</th>\n",
       "    </tr>\n",
       "  </thead>\n",
       "  <tbody>\n",
       "    <tr>\n",
       "      <th>0</th>\n",
       "      <td>0</td>\n",
       "      <td>NaN</td>\n",
       "      <td>NaN</td>\n",
       "      <td>Just happened a terrible car crash</td>\n",
       "    </tr>\n",
       "    <tr>\n",
       "      <th>1</th>\n",
       "      <td>2</td>\n",
       "      <td>NaN</td>\n",
       "      <td>NaN</td>\n",
       "      <td>Heard about #earthquake is different cities, s...</td>\n",
       "    </tr>\n",
       "    <tr>\n",
       "      <th>2</th>\n",
       "      <td>3</td>\n",
       "      <td>NaN</td>\n",
       "      <td>NaN</td>\n",
       "      <td>there is a forest fire at spot pond, geese are...</td>\n",
       "    </tr>\n",
       "    <tr>\n",
       "      <th>3</th>\n",
       "      <td>9</td>\n",
       "      <td>NaN</td>\n",
       "      <td>NaN</td>\n",
       "      <td>Apocalypse lighting. #Spokane #wildfires</td>\n",
       "    </tr>\n",
       "    <tr>\n",
       "      <th>4</th>\n",
       "      <td>11</td>\n",
       "      <td>NaN</td>\n",
       "      <td>NaN</td>\n",
       "      <td>Typhoon Soudelor kills 28 in China and Taiwan</td>\n",
       "    </tr>\n",
       "  </tbody>\n",
       "</table>\n",
       "</div>"
      ],
      "text/plain": [
       "   id keyword location                                               text\n",
       "0   0     NaN      NaN                 Just happened a terrible car crash\n",
       "1   2     NaN      NaN  Heard about #earthquake is different cities, s...\n",
       "2   3     NaN      NaN  there is a forest fire at spot pond, geese are...\n",
       "3   9     NaN      NaN           Apocalypse lighting. #Spokane #wildfires\n",
       "4  11     NaN      NaN      Typhoon Soudelor kills 28 in China and Taiwan"
      ]
     },
     "execution_count": 4,
     "metadata": {
      "tags": []
     },
     "output_type": "execute_result"
    }
   ],
   "source": [
    "test_data.head()"
   ]
  },
  {
   "cell_type": "code",
   "execution_count": 5,
   "metadata": {
    "cell_id": "00006-2954681a-bf44-4558-80c6-b84f508f9820",
    "colab": {
     "base_uri": "https://localhost:8080/"
    },
    "deepnote_cell_type": "code",
    "deepnote_to_be_reexecuted": false,
    "execution_millis": 81,
    "execution_start": 1617894027796,
    "id": "BFfG9IzngUgu",
    "outputId": "12188d61-1eb7-412f-bfda-15ff9aa058d5",
    "output_cleared": false,
    "source_hash": "198bef5",
    "tags": []
   },
   "outputs": [
    {
     "name": "stdout",
     "output_type": "stream",
     "text": [
      "Distinct keywords for test data: 221\n",
      "Distinct keywords for test data: 221\n"
     ]
    }
   ],
   "source": [
    "print(\"Distinct keywords for test data: {}\".format(test_data.keyword.drop_duplicates().count()))\n",
    "print(\"Distinct keywords for test data: {}\".format(train_data.keyword.drop_duplicates().count()))"
   ]
  },
  {
   "cell_type": "code",
   "execution_count": 6,
   "metadata": {
    "cell_id": "00007-86c5ca97-3e2f-411d-b1dc-8f8e4e8a5bd3",
    "colab": {
     "base_uri": "https://localhost:8080/"
    },
    "deepnote_cell_type": "code",
    "deepnote_to_be_reexecuted": false,
    "execution_millis": 11,
    "execution_start": 1617894029150,
    "id": "1jhVGz3vgUgu",
    "outputId": "efe86f9e-3adb-4d19-ed24-a466dafc96f7",
    "output_cleared": false,
    "source_hash": "1f7ca3b1",
    "tags": []
   },
   "outputs": [
    {
     "name": "stdout",
     "output_type": "stream",
     "text": [
      "Count of words in training data that aren't in test data: 1\n"
     ]
    }
   ],
   "source": [
    "# Find count of words that are in both \n",
    "keywords = []\n",
    "for word in test_data.keyword.drop_duplicates():\n",
    "    keywords.append(word)\n",
    "for word in train_data.keyword.drop_duplicates():\n",
    "    if word not in keywords:\n",
    "        keywords.append(word)\n",
    "\n",
    "print(\"Count of words in training data that aren't in test data: {}\".format(len(keywords) - test_data.keyword.drop_duplicates().count()))"
   ]
  },
  {
   "cell_type": "markdown",
   "metadata": {
    "cell_id": "00008-c6526973-6c63-4fc2-be4b-4b8ef94b6991",
    "deepnote_cell_type": "markdown",
    "id": "JcjqlU6fgUgv",
    "output_cleared": false,
    "tags": []
   },
   "source": [
    "Both datasets have the same number of keywords. There is one keyword in training dataset that isn't in testing dataset. "
   ]
  },
  {
   "cell_type": "code",
   "execution_count": 7,
   "metadata": {
    "cell_id": "00009-fe890b1a-4f4b-4a93-aec9-e7d8fedd0d18",
    "colab": {
     "base_uri": "https://localhost:8080/"
    },
    "deepnote_cell_type": "code",
    "deepnote_to_be_reexecuted": false,
    "execution_millis": 20,
    "execution_start": 1617894029836,
    "id": "lDNyH4bcgUgw",
    "outputId": "2615e055-6d27-4d40-c00b-63ec3d74fbe8",
    "output_cleared": false,
    "source_hash": "2c250b3a",
    "tags": []
   },
   "outputs": [
    {
     "data": {
      "text/plain": [
       "0    4342\n",
       "1    3271\n",
       "Name: target, dtype: int64"
      ]
     },
     "execution_count": 7,
     "metadata": {
      "tags": []
     },
     "output_type": "execute_result"
    }
   ],
   "source": [
    "train_data.target.value_counts()"
   ]
  },
  {
   "cell_type": "code",
   "execution_count": 8,
   "metadata": {
    "cell_id": "00010-2b284002-409c-4c65-921d-4fa8198dd612",
    "colab": {
     "base_uri": "https://localhost:8080/",
     "height": 614
    },
    "deepnote_cell_type": "code",
    "deepnote_to_be_reexecuted": false,
    "execution_millis": 269,
    "execution_start": 1617894030739,
    "id": "i07_YC9IgUgw",
    "outputId": "c2dc8a46-fcf1-4ac2-e575-717be26deabd",
    "output_cleared": false,
    "source_hash": "773472cc",
    "tags": []
   },
   "outputs": [
    {
     "data": {
      "text/plain": [
       "<matplotlib.axes._subplots.AxesSubplot at 0x7f1699f73f10>"
      ]
     },
     "execution_count": 8,
     "metadata": {
      "tags": []
     },
     "output_type": "execute_result"
    },
    {
     "data": {
      "image/png": "[encoded data removed]",
      "text/plain": [
       "<Figure size 2160x720 with 1 Axes>"
      ]
     },
     "metadata": {
      "tags": []
     },
     "output_type": "display_data"
    }
   ],
   "source": [
    "import matplotlib.pyplot as plt\n",
    "\n",
    "plt.figure(figsize=(30,10))\n",
    "plt.title(\"Train Data: target\", fontsize=20)\n",
    "train_data.target.value_counts().plot(kind=\"pie\",\n",
    "                                    labels=[\"Real\", \"Fake\"],\n",
    "                                    wedgeprops=dict(width=.7),\n",
    "                                    autopct=\"%1.0f%%\",\n",
    "                                    startangle=-20,\n",
    "                                    textprops={\"fontsize\": 15})"
   ]
  },
  {
   "cell_type": "markdown",
   "metadata": {
    "cell_id": "00011-4eb24dc4-1489-44bc-ac9f-a5f0cd2b6170",
    "deepnote_cell_type": "markdown",
    "id": "nfdfGyPQgUgx",
    "output_cleared": false,
    "tags": []
   },
   "source": [
    "There are a few more real examples than there are fake ones, it's good that it's a faily even split, it will be good to have plenty of both instances to work with."
   ]
  },
  {
   "cell_type": "markdown",
   "metadata": {
    "cell_id": "00011-d67fa81f-6bec-4987-84e0-4d8caf2335c1",
    "deepnote_cell_type": "markdown",
    "id": "5ZBh6pA2gUgx",
    "tags": []
   },
   "source": [
    "Now we preprocess the data."
   ]
  },
  {
   "cell_type": "code",
   "execution_count": 9,
   "metadata": {
    "cell_id": "00012-bb31f8d6-81b7-418d-993b-dedf54d4a580",
    "colab": {
     "base_uri": "https://localhost:8080/"
    },
    "deepnote_cell_type": "code",
    "deepnote_to_be_reexecuted": false,
    "execution_millis": 136,
    "execution_start": 1617894032865,
    "id": "mjiyrQzHgUgy",
    "outputId": "2e3f655b-7452-4bea-c66b-5dc93546eed8",
    "output_cleared": false,
    "source_hash": "9075bbb0",
    "tags": []
   },
   "outputs": [
    {
     "data": {
      "text/plain": [
       "0    Our Deeds are the Reason of this #earthquake M...\n",
       "1               Forest fire near La Ronge Sask. Canada\n",
       "2    All residents asked to 'shelter in place' are ...\n",
       "3    13,000 people receive #wildfires evacuation or...\n",
       "4    Just got sent this photo from Ruby #Alaska as ...\n",
       "Name: text, dtype: object"
      ]
     },
     "execution_count": 9,
     "metadata": {
      "tags": []
     },
     "output_type": "execute_result"
    }
   ],
   "source": [
    "train_data.text.head()"
   ]
  },
  {
   "cell_type": "code",
   "execution_count": 10,
   "metadata": {
    "cell_id": "00013-9868aa9a-1db6-43bb-b416-9d6975dcbfff",
    "colab": {
     "base_uri": "https://localhost:8080/"
    },
    "deepnote_cell_type": "code",
    "deepnote_to_be_reexecuted": false,
    "execution_millis": 7488,
    "execution_start": 1617894033934,
    "id": "BNOUojE1gUgy",
    "outputId": "331e0c5f-cc09-48ab-921c-b7cdd8b6d3d4",
    "output_cleared": false,
    "source_hash": "6864db81",
    "tags": []
   },
   "outputs": [
    {
     "name": "stdout",
     "output_type": "stream",
     "text": [
      "Requirement already satisfied: nltk==3.5 in /usr/local/lib/python3.7/dist-packages (3.5)\n",
      "Requirement already satisfied: tqdm in /usr/local/lib/python3.7/dist-packages (from nltk==3.5) (4.41.1)\n",
      "Requirement already satisfied: click in /usr/local/lib/python3.7/dist-packages (from nltk==3.5) (7.1.2)\n",
      "Requirement already satisfied: joblib in /usr/local/lib/python3.7/dist-packages (from nltk==3.5) (1.0.1)\n",
      "Requirement already satisfied: regex in /usr/local/lib/python3.7/dist-packages (from nltk==3.5) (2019.12.20)\n"
     ]
    },
    {
     "name": "stderr",
     "output_type": "stream",
     "text": [
      "[nltk_data] Downloading package stopwords to /root/nltk_data...\n",
      "[nltk_data]   Package stopwords is already up-to-date!\n"
     ]
    },
    {
     "name": "stdout",
     "output_type": "stream",
     "text": [
      "Requirement already satisfied: textblob==0.15.3 in /usr/local/lib/python3.7/dist-packages (0.15.3)\n",
      "Requirement already satisfied: nltk>=3.1 in /usr/local/lib/python3.7/dist-packages (from textblob==0.15.3) (3.5)\n",
      "Requirement already satisfied: joblib in /usr/local/lib/python3.7/dist-packages (from nltk>=3.1->textblob==0.15.3) (1.0.1)\n",
      "Requirement already satisfied: click in /usr/local/lib/python3.7/dist-packages (from nltk>=3.1->textblob==0.15.3) (7.1.2)\n",
      "Requirement already satisfied: tqdm in /usr/local/lib/python3.7/dist-packages (from nltk>=3.1->textblob==0.15.3) (4.41.1)\n",
      "Requirement already satisfied: regex in /usr/local/lib/python3.7/dist-packages (from nltk>=3.1->textblob==0.15.3) (2019.12.20)\n",
      "[nltk_data] Downloading package brown to /root/nltk_data...\n",
      "[nltk_data]   Package brown is already up-to-date!\n",
      "[nltk_data] Downloading package punkt to /root/nltk_data...\n",
      "[nltk_data]   Package punkt is already up-to-date!\n",
      "[nltk_data] Downloading package wordnet to /root/nltk_data...\n",
      "[nltk_data]   Package wordnet is already up-to-date!\n",
      "[nltk_data] Downloading package averaged_perceptron_tagger to\n",
      "[nltk_data]     /root/nltk_data...\n",
      "[nltk_data]   Package averaged_perceptron_tagger is already up-to-\n",
      "[nltk_data]       date!\n",
      "[nltk_data] Downloading package conll2000 to /root/nltk_data...\n",
      "[nltk_data]   Package conll2000 is already up-to-date!\n",
      "[nltk_data] Downloading package movie_reviews to /root/nltk_data...\n",
      "[nltk_data]   Package movie_reviews is already up-to-date!\n",
      "Finished.\n"
     ]
    }
   ],
   "source": [
    "!pip install nltk==3.5\n",
    "import nltk; nltk.download(\"stopwords\")\n",
    "!pip install textblob==0.15.3\n",
    "!python -m textblob.download_corpora\n",
    "\n",
    "def preprocessing_data(data):\n",
    "    # Change all text to lowercase\n",
    "    data.text = data.text.apply(lambda x: \" \".join(x.lower() for x in x.split()))\n",
    "    \n",
    "    # Remove punctuation \n",
    "    data.text = data.text.str.replace(\"[^\\w\\s]\",\"\")\n",
    "\n",
    "    # Remove stopwords\n",
    "    from nltk.corpus import stopwords\n",
    "    stop = stopwords.words(\"english\")\n",
    "    data.text = data.text.apply(lambda x: \" \".join(x for x in x.split() if x not in stop))\n",
    "\n",
    "    # Lemmatize words\n",
    "    from textblob import Word\n",
    "    data.text = data.text.apply(lambda x: \" \".join([Word(word).lemmatize() for word in x.split()]))\n",
    "\n",
    "    # Remove words with length below 3\n",
    "    data.text = data.text.apply(lambda x: \" \".join(x for x in x.split() if len(x) > 2))\n",
    "\n",
    "    # Remove rare words\n",
    "    freq = pd.Series(\" \".join(data).split()).value_counts()[-10:]\n",
    "    freq = list(freq.index)\n",
    "    data.text = data.text.apply(lambda x: \" \".join(x for x in x.split() if x not in freq))\n",
    "\n",
    "    # Remove common words\n",
    "    freq = pd.Series(\" \".join(data).split()).value_counts()[:10]\n",
    "    freq = list(freq.index) \n",
    "    data.text = data.text.apply(lambda x: \" \".join(x for x in x.split() if x not in freq))\n",
    "\n",
    "    return data"
   ]
  },
  {
   "cell_type": "code",
   "execution_count": 11,
   "metadata": {
    "cell_id": "00014-659b2051-33ae-477c-baf4-ff2c8d59d57f",
    "deepnote_cell_type": "code",
    "deepnote_to_be_reexecuted": false,
    "execution_millis": 1101,
    "execution_start": 1617894041410,
    "id": "ISGZN5ZQgUgz",
    "output_cleared": false,
    "source_hash": "b2f2eb2e",
    "tags": []
   },
   "outputs": [],
   "source": [
    "train_data = preprocessing_data(train_data)\n",
    "test_data = preprocessing_data(test_data)"
   ]
  },
  {
   "cell_type": "code",
   "execution_count": 12,
   "metadata": {
    "cell_id": "00015-ebeb8451-67df-451f-a70e-d0b46140430f",
    "colab": {
     "base_uri": "https://localhost:8080/",
     "height": 194
    },
    "deepnote_cell_type": "code",
    "deepnote_to_be_reexecuted": false,
    "execution_millis": 435,
    "execution_start": 1617894042517,
    "id": "eArsLeHLgUg0",
    "outputId": "8e823876-e721-4da2-9757-8f32de775c49",
    "output_cleared": false,
    "source_hash": "33e89837",
    "tags": []
   },
   "outputs": [
    {
     "data": {
      "text/html": [
       "<div>\n",
       "<style scoped>\n",
       "    .dataframe tbody tr th:only-of-type {\n",
       "        vertical-align: middle;\n",
       "    }\n",
       "\n",
       "    .dataframe tbody tr th {\n",
       "        vertical-align: top;\n",
       "    }\n",
       "\n",
       "    .dataframe thead th {\n",
       "        text-align: right;\n",
       "    }\n",
       "</style>\n",
       "<table border=\"1\" class=\"dataframe\">\n",
       "  <thead>\n",
       "    <tr style=\"text-align: right;\">\n",
       "      <th></th>\n",
       "      <th>id</th>\n",
       "      <th>keyword</th>\n",
       "      <th>location</th>\n",
       "      <th>text</th>\n",
       "      <th>target</th>\n",
       "    </tr>\n",
       "  </thead>\n",
       "  <tbody>\n",
       "    <tr>\n",
       "      <th>0</th>\n",
       "      <td>1</td>\n",
       "      <td>NaN</td>\n",
       "      <td>NaN</td>\n",
       "      <td>deed reason earthquake may allah forgive</td>\n",
       "      <td>1</td>\n",
       "    </tr>\n",
       "    <tr>\n",
       "      <th>1</th>\n",
       "      <td>4</td>\n",
       "      <td>NaN</td>\n",
       "      <td>NaN</td>\n",
       "      <td>forest fire near ronge sask canada</td>\n",
       "      <td>1</td>\n",
       "    </tr>\n",
       "    <tr>\n",
       "      <th>2</th>\n",
       "      <td>5</td>\n",
       "      <td>NaN</td>\n",
       "      <td>NaN</td>\n",
       "      <td>resident asked shelter place notified officer ...</td>\n",
       "      <td>1</td>\n",
       "    </tr>\n",
       "    <tr>\n",
       "      <th>3</th>\n",
       "      <td>6</td>\n",
       "      <td>NaN</td>\n",
       "      <td>NaN</td>\n",
       "      <td>13000 people receive wildfire evacuation order...</td>\n",
       "      <td>1</td>\n",
       "    </tr>\n",
       "    <tr>\n",
       "      <th>4</th>\n",
       "      <td>7</td>\n",
       "      <td>NaN</td>\n",
       "      <td>NaN</td>\n",
       "      <td>got sent photo ruby alaska smoke wildfire pour...</td>\n",
       "      <td>1</td>\n",
       "    </tr>\n",
       "  </tbody>\n",
       "</table>\n",
       "</div>"
      ],
      "text/plain": [
       "   id keyword  ...                                               text target\n",
       "0   1     NaN  ...           deed reason earthquake may allah forgive      1\n",
       "1   4     NaN  ...                 forest fire near ronge sask canada      1\n",
       "2   5     NaN  ...  resident asked shelter place notified officer ...      1\n",
       "3   6     NaN  ...  13000 people receive wildfire evacuation order...      1\n",
       "4   7     NaN  ...  got sent photo ruby alaska smoke wildfire pour...      1\n",
       "\n",
       "[5 rows x 5 columns]"
      ]
     },
     "execution_count": 12,
     "metadata": {
      "tags": []
     },
     "output_type": "execute_result"
    }
   ],
   "source": [
    "train_data.head()"
   ]
  },
  {
   "cell_type": "code",
   "execution_count": 13,
   "metadata": {
    "cell_id": "00016-f4e5bf7e-6806-4d51-90a7-88d11ed23fff",
    "colab": {
     "base_uri": "https://localhost:8080/",
     "height": 194
    },
    "deepnote_cell_type": "code",
    "deepnote_to_be_reexecuted": false,
    "execution_millis": 394,
    "execution_start": 1617894042561,
    "id": "EGg65hA3gUg0",
    "outputId": "e0b54b40-add9-498c-e1b0-90c860b6f42f",
    "output_cleared": false,
    "source_hash": "74dc1ffb",
    "tags": []
   },
   "outputs": [
    {
     "data": {
      "text/html": [
       "<div>\n",
       "<style scoped>\n",
       "    .dataframe tbody tr th:only-of-type {\n",
       "        vertical-align: middle;\n",
       "    }\n",
       "\n",
       "    .dataframe tbody tr th {\n",
       "        vertical-align: top;\n",
       "    }\n",
       "\n",
       "    .dataframe thead th {\n",
       "        text-align: right;\n",
       "    }\n",
       "</style>\n",
       "<table border=\"1\" class=\"dataframe\">\n",
       "  <thead>\n",
       "    <tr style=\"text-align: right;\">\n",
       "      <th></th>\n",
       "      <th>id</th>\n",
       "      <th>keyword</th>\n",
       "      <th>location</th>\n",
       "      <th>text</th>\n",
       "    </tr>\n",
       "  </thead>\n",
       "  <tbody>\n",
       "    <tr>\n",
       "      <th>0</th>\n",
       "      <td>0</td>\n",
       "      <td>NaN</td>\n",
       "      <td>NaN</td>\n",
       "      <td>happened terrible car crash</td>\n",
       "    </tr>\n",
       "    <tr>\n",
       "      <th>1</th>\n",
       "      <td>2</td>\n",
       "      <td>NaN</td>\n",
       "      <td>NaN</td>\n",
       "      <td>heard earthquake different city stay safe ever...</td>\n",
       "    </tr>\n",
       "    <tr>\n",
       "      <th>2</th>\n",
       "      <td>3</td>\n",
       "      <td>NaN</td>\n",
       "      <td>NaN</td>\n",
       "      <td>forest fire spot pond goose fleeing across str...</td>\n",
       "    </tr>\n",
       "    <tr>\n",
       "      <th>3</th>\n",
       "      <td>9</td>\n",
       "      <td>NaN</td>\n",
       "      <td>NaN</td>\n",
       "      <td>apocalypse lighting spokane wildfire</td>\n",
       "    </tr>\n",
       "    <tr>\n",
       "      <th>4</th>\n",
       "      <td>11</td>\n",
       "      <td>NaN</td>\n",
       "      <td>NaN</td>\n",
       "      <td>typhoon soudelor kill china taiwan</td>\n",
       "    </tr>\n",
       "  </tbody>\n",
       "</table>\n",
       "</div>"
      ],
      "text/plain": [
       "   id keyword location                                               text\n",
       "0   0     NaN      NaN                        happened terrible car crash\n",
       "1   2     NaN      NaN  heard earthquake different city stay safe ever...\n",
       "2   3     NaN      NaN  forest fire spot pond goose fleeing across str...\n",
       "3   9     NaN      NaN               apocalypse lighting spokane wildfire\n",
       "4  11     NaN      NaN                 typhoon soudelor kill china taiwan"
      ]
     },
     "execution_count": 13,
     "metadata": {
      "tags": []
     },
     "output_type": "execute_result"
    }
   ],
   "source": [
    "test_data.head()"
   ]
  },
  {
   "cell_type": "code",
   "execution_count": 14,
   "metadata": {
    "id": "MRgCrXjthPED"
   },
   "outputs": [],
   "source": [
    "from sklearn import feature_extraction\n",
    "from sklearn.metrics import accuracy_score\n",
    "from sklearn.linear_model import LogisticRegression\n",
    "from sklearn.feature_extraction.text import TfidfVectorizer\n",
    "from sklearn.metrics import accuracy_score"
   ]
  },
  {
   "cell_type": "markdown",
   "metadata": {
    "id": "GMhsGD35hEan"
   },
   "source": [
    "## Logistic Regression"
   ]
  },
  {
   "cell_type": "code",
   "execution_count": 15,
   "metadata": {
    "colab": {
     "base_uri": "https://localhost:8080/"
    },
    "id": "qJp-DwUnhUsA",
    "outputId": "50150b79-6873-4af2-ea2b-19a0b1f2ac97"
   },
   "outputs": [
    {
     "name": "stdout",
     "output_type": "stream",
     "text": [
      "(7613, 20858)\n",
      "(3263, 20858)\n"
     ]
    }
   ],
   "source": [
    "vectorizer = feature_extraction.text.CountVectorizer()\n",
    "train_vectors = vectorizer.fit_transform(train_data[\"text\"])\n",
    "test_vectors = vectorizer.transform(test_data[\"text\"])\n",
    "\n",
    "print(train_vectors.shape)\n",
    "print(test_vectors.shape)"
   ]
  },
  {
   "cell_type": "code",
   "execution_count": 16,
   "metadata": {
    "colab": {
     "base_uri": "https://localhost:8080/"
    },
    "id": "qNc6GRI5hcYo",
    "outputId": "0beb1932-ebf7-4d2f-8745-e69c14512826"
   },
   "outputs": [
    {
     "data": {
      "text/plain": [
       "LogisticRegression(C=1.0, class_weight=None, dual=False, fit_intercept=True,\n",
       "                   intercept_scaling=1, l1_ratio=None, max_iter=1000,\n",
       "                   multi_class='auto', n_jobs=None, penalty='l2',\n",
       "                   random_state=None, solver='lbfgs', tol=0.0001, verbose=0,\n",
       "                   warm_start=False)"
      ]
     },
     "execution_count": 16,
     "metadata": {
      "tags": []
     },
     "output_type": "execute_result"
    }
   ],
   "source": [
    "# create logistic regression model\n",
    "model = LogisticRegression(max_iter=1000)\n",
    "model.fit(train_vectors, train_data[\"target\"])"
   ]
  },
  {
   "cell_type": "code",
   "execution_count": 17,
   "metadata": {
    "colab": {
     "base_uri": "https://localhost:8080/"
    },
    "id": "T54dtKF_Jhb4",
    "outputId": "a700dffb-feb1-4c97-eb1e-502b8080dbff"
   },
   "outputs": [
    {
     "data": {
      "text/plain": [
       "0.9645343491396295"
      ]
     },
     "execution_count": 17,
     "metadata": {
      "tags": []
     },
     "output_type": "execute_result"
    }
   ],
   "source": [
    "train_preds = model.predict(train_vectors)\n",
    "accuracy_score(train_data[\"target\"], train_preds)"
   ]
  },
  {
   "cell_type": "code",
   "execution_count": 18,
   "metadata": {
    "id": "41D2IV_Ghhgn"
   },
   "outputs": [],
   "source": [
    "# save the predictions on the testing data to submit to kaggle\n",
    "df = pd.DataFrame()\n",
    "test_preds = model.predict(test_vectors)\n",
    "df[\"id\"] = test_data[\"id\"]\n",
    "df[\"target\"] = test_preds\n",
    "df.to_csv(\"logistic_regression.csv\", index=False)"
   ]
  },
  {
   "cell_type": "markdown",
   "metadata": {
    "id": "pa4wCS-cg0g0"
   },
   "source": [
    "## SVM"
   ]
  },
  {
   "cell_type": "code",
   "execution_count": 19,
   "metadata": {
    "cell_id": "00017-675d1a4a-143e-4834-8c4e-a568db4930b4",
    "deepnote_cell_type": "code",
    "deepnote_to_be_reexecuted": false,
    "execution_millis": 77,
    "execution_start": 1617894042611,
    "id": "akvPsM95gUg1",
    "source_hash": "dfb131eb",
    "tags": []
   },
   "outputs": [],
   "source": [
    "X_train = train_data[\"text\"]\n",
    "y_train = train_data[\"target\"]\n",
    "X_test = test_data[\"text\"]\n",
    "\n",
    "vectorizer = TfidfVectorizer()\n",
    "X_train = vectorizer.fit_transform(X_train)"
   ]
  },
  {
   "cell_type": "code",
   "execution_count": 20,
   "metadata": {
    "cell_id": "00018-47016025-f4e4-4e22-abf9-d6429e52a3b5",
    "colab": {
     "base_uri": "https://localhost:8080/"
    },
    "deepnote_cell_type": "code",
    "deepnote_to_be_reexecuted": false,
    "execution_millis": 7516,
    "execution_start": 1617894042722,
    "id": "XJTxFgAmgUg1",
    "outputId": "80d96318-3de8-45d8-a8f2-d101d7f5ccd1",
    "source_hash": "ef6f8860",
    "tags": []
   },
   "outputs": [
    {
     "data": {
      "text/plain": [
       "SVC(C=100, break_ties=False, cache_size=200, class_weight=None, coef0=0.0,\n",
       "    decision_function_shape='ovr', degree=3, gamma='scale', kernel='rbf',\n",
       "    max_iter=-1, probability=False, random_state=None, shrinking=True,\n",
       "    tol=0.001, verbose=False)"
      ]
     },
     "execution_count": 20,
     "metadata": {
      "tags": []
     },
     "output_type": "execute_result"
    }
   ],
   "source": [
    "from sklearn import svm\n",
    "\n",
    "svm = svm.SVC(C=100)\n",
    "\n",
    "svm.fit(X_train, y_train)"
   ]
  },
  {
   "cell_type": "code",
   "execution_count": 21,
   "metadata": {
    "colab": {
     "base_uri": "https://localhost:8080/"
    },
    "id": "hLDTKY5nLy9H",
    "outputId": "199e0627-86cc-4180-bdf3-82770e328223"
   },
   "outputs": [
    {
     "data": {
      "text/plain": [
       "0.996453434913963"
      ]
     },
     "execution_count": 21,
     "metadata": {
      "tags": []
     },
     "output_type": "execute_result"
    }
   ],
   "source": [
    "train_preds = svm.predict(X_train)\n",
    "accuracy_score(y_train, train_preds)"
   ]
  },
  {
   "cell_type": "code",
   "execution_count": 22,
   "metadata": {
    "cell_id": "00019-05320b9a-fb8c-4944-8b95-a89047ac1f02",
    "deepnote_cell_type": "code",
    "deepnote_to_be_reexecuted": false,
    "execution_millis": 1997,
    "execution_start": 1617894050267,
    "id": "Go7eLoDNgUg2",
    "source_hash": "3656e2f3",
    "tags": []
   },
   "outputs": [],
   "source": [
    "X_test = vectorizer.transform(X_test)\n",
    "test_preds = svm.predict(X_test)\n",
    "\n",
    "df = pd.DataFrame()\n",
    "df[\"id\"] = test_data[\"id\"]\n",
    "df[\"target\"] = test_preds \n",
    "df.to_csv(\"svm.csv\", index=False)"
   ]
  },
  {
   "cell_type": "markdown",
   "metadata": {
    "id": "l9zy-S_5iBiq"
   },
   "source": [
    "## LSTM"
   ]
  },
  {
   "cell_type": "code",
   "execution_count": 23,
   "metadata": {
    "cell_id": "00020-2e5cab5c-e169-47b1-a355-e3389d65a180",
    "deepnote_cell_type": "code",
    "id": "zm2zfS9HgUg3",
    "tags": []
   },
   "outputs": [],
   "source": [
    "from keras.preprocessing.text import Tokenizer\n",
    "from keras.preprocessing.sequence import pad_sequences\n",
    "from keras.models import Sequential\n",
    "from keras.optimizers import Adam\n",
    "from keras.layers import Dense, Embedding, LSTM, SpatialDropout1D\n",
    "from keras.callbacks import EarlyStopping\n",
    "from keras.layers import Dropout"
   ]
  },
  {
   "cell_type": "code",
   "execution_count": 24,
   "metadata": {
    "colab": {
     "base_uri": "https://localhost:8080/"
    },
    "id": "Ktyg7Yg-iHAE",
    "outputId": "29925849-6cfc-45d5-a02e-0c18583e85e8"
   },
   "outputs": [
    {
     "name": "stdout",
     "output_type": "stream",
     "text": [
      "Found 20956 unique tokens\n"
     ]
    }
   ],
   "source": [
    "# The maximum number of words to be used. (most frequent)\n",
    "MAX_SEQUENCE_LENGTH = 25\n",
    "EMBEDDING_DIM = 128\n",
    "\n",
    "tokenizer = Tokenizer(lower=False)\n",
    "tokenizer.fit_on_texts(train_data['text'].values)\n",
    "word_index = tokenizer.word_index\n",
    "print(f\"Found {len(word_index)} unique tokens\")"
   ]
  },
  {
   "cell_type": "code",
   "execution_count": 25,
   "metadata": {
    "colab": {
     "base_uri": "https://localhost:8080/"
    },
    "id": "42n6r_xkiNVA",
    "outputId": "dc49fb02-b2fc-4aa7-ab3a-14c9f8bb1de7"
   },
   "outputs": [
    {
     "name": "stdout",
     "output_type": "stream",
     "text": [
      "(7613, 25) (7613, 1)\n",
      "(3263, 25)\n"
     ]
    }
   ],
   "source": [
    "X_train = tokenizer.texts_to_sequences(train_data['text'].values)\n",
    "X_train = pad_sequences(X_train, maxlen=MAX_SEQUENCE_LENGTH)\n",
    "Y_train = train_data['target'].values\n",
    "Y_train = Y_train.reshape((-1, 1))\n",
    "\n",
    "X_test = tokenizer.texts_to_sequences(test_data['text'].values)\n",
    "X_test = pad_sequences(X_test, maxlen=MAX_SEQUENCE_LENGTH)\n",
    "\n",
    "print(X_train.shape, Y_train.shape)\n",
    "print(X_test.shape)"
   ]
  },
  {
   "cell_type": "code",
   "execution_count": 26,
   "metadata": {
    "colab": {
     "base_uri": "https://localhost:8080/"
    },
    "id": "jyaCjBfsiUMH",
    "outputId": "991d42b0-a994-43a3-f279-cee155fff95b"
   },
   "outputs": [
    {
     "name": "stdout",
     "output_type": "stream",
     "text": [
      "Model: \"sequential\"\n",
      "_________________________________________________________________\n",
      "Layer (type)                 Output Shape              Param #   \n",
      "=================================================================\n",
      "embedding (Embedding)        (None, 25, 128)           2682496   \n",
      "_________________________________________________________________\n",
      "spatial_dropout1d (SpatialDr (None, 25, 128)           0         \n",
      "_________________________________________________________________\n",
      "lstm (LSTM)                  (None, 128)               131584    \n",
      "_________________________________________________________________\n",
      "dropout (Dropout)            (None, 128)               0         \n",
      "_________________________________________________________________\n",
      "dense (Dense)                (None, 64)                8256      \n",
      "_________________________________________________________________\n",
      "dropout_1 (Dropout)          (None, 64)                0         \n",
      "_________________________________________________________________\n",
      "dense_1 (Dense)              (None, 1)                 65        \n",
      "=================================================================\n",
      "Total params: 2,822,401\n",
      "Trainable params: 2,822,401\n",
      "Non-trainable params: 0\n",
      "_________________________________________________________________\n",
      "None\n"
     ]
    }
   ],
   "source": [
    "model = Sequential()\n",
    "model.add(Embedding(len(tokenizer.word_counts) + 1, EMBEDDING_DIM, input_length=X_train.shape[1]))\n",
    "model.add(SpatialDropout1D(0.2))\n",
    "model.add(LSTM(128))\n",
    "model.add(Dropout(0.2))\n",
    "model.add(Dense(64, activation='relu'))\n",
    "model.add(Dropout(0.2))\n",
    "model.add(Dense(1, activation='sigmoid'))\n",
    "optimizer = Adam(learning_rate=0.0001)\n",
    "model.compile(loss='binary_crossentropy', optimizer=optimizer, metrics=['accuracy'])\n",
    "print(model.summary())"
   ]
  },
  {
   "cell_type": "code",
   "execution_count": 27,
   "metadata": {
    "colab": {
     "base_uri": "https://localhost:8080/"
    },
    "id": "OoNwJl4qiWyB",
    "outputId": "6e6b33c0-a011-440d-e0f6-3c07d8e488dd"
   },
   "outputs": [
    {
     "name": "stdout",
     "output_type": "stream",
     "text": [
      "Epoch 1/6\n",
      "96/96 [==============================] - 7s 36ms/step - loss: 0.6870 - accuracy: 0.5744 - val_loss: 0.6827 - val_accuracy: 0.5345\n",
      "Epoch 2/6\n",
      "96/96 [==============================] - 3s 29ms/step - loss: 0.6652 - accuracy: 0.5774 - val_loss: 0.6621 - val_accuracy: 0.5410\n",
      "Epoch 3/6\n",
      "96/96 [==============================] - 3s 29ms/step - loss: 0.6195 - accuracy: 0.6454 - val_loss: 0.6010 - val_accuracy: 0.7446\n",
      "Epoch 4/6\n",
      "96/96 [==============================] - 3s 29ms/step - loss: 0.4913 - accuracy: 0.8160 - val_loss: 0.4856 - val_accuracy: 0.7787\n",
      "Epoch 5/6\n",
      "96/96 [==============================] - 3s 29ms/step - loss: 0.3186 - accuracy: 0.8849 - val_loss: 0.4882 - val_accuracy: 0.7649\n",
      "Epoch 6/6\n",
      "96/96 [==============================] - 3s 29ms/step - loss: 0.2540 - accuracy: 0.9057 - val_loss: 0.4933 - val_accuracy: 0.7715\n"
     ]
    }
   ],
   "source": [
    "epochs = 6\n",
    "batch_size = 64\n",
    "\n",
    "history = model.fit(X_train, Y_train, epochs=epochs, batch_size=batch_size,validation_split=0.2)"
   ]
  },
  {
   "cell_type": "code",
   "execution_count": 28,
   "metadata": {
    "colab": {
     "base_uri": "https://localhost:8080/",
     "height": 295
    },
    "id": "4yzo1waLNQhV",
    "outputId": "f19166d3-b75c-4cc7-f475-35105a5f45c2"
   },
   "outputs": [
    {
     "data": {
      "image/png": "[encoded data removed]",
      "text/plain": [
       "<Figure size 432x288 with 1 Axes>"
      ]
     },
     "metadata": {
      "needs_background": "light",
      "tags": []
     },
     "output_type": "display_data"
    }
   ],
   "source": [
    "# plot accuracy\n",
    "plt.plot(history.history['accuracy'])\n",
    "plt.plot(history.history['val_accuracy'])\n",
    "plt.title('model accuracy')\n",
    "plt.ylabel('accuracy')\n",
    "plt.xlabel('epoch')\n",
    "plt.legend(['train', 'validation'], loc='upper left')\n",
    "plt.savefig('lstm_acc.png')\n",
    "plt.show()"
   ]
  },
  {
   "cell_type": "code",
   "execution_count": 29,
   "metadata": {
    "colab": {
     "base_uri": "https://localhost:8080/",
     "height": 295
    },
    "id": "bMLCTdaENSST",
    "outputId": "1c6f18cb-5562-4573-898f-dd27b8873013"
   },
   "outputs": [
    {
     "data": {
      "image/png": "[encoded data removed]",
      "text/plain": [
       "<Figure size 432x288 with 1 Axes>"
      ]
     },
     "metadata": {
      "needs_background": "light",
      "tags": []
     },
     "output_type": "display_data"
    }
   ],
   "source": [
    "# plot loss\n",
    "plt.plot(history.history['loss'])\n",
    "plt.plot(history.history['val_loss'])\n",
    "plt.title('model loss')\n",
    "plt.ylabel('loss')\n",
    "plt.xlabel('epoch')\n",
    "plt.legend(['train', 'validation'], loc='upper left')\n",
    "plt.savefig('lstm_loss.png')\n",
    "plt.show()"
   ]
  },
  {
   "cell_type": "code",
   "execution_count": 30,
   "metadata": {
    "colab": {
     "base_uri": "https://localhost:8080/"
    },
    "id": "UyL6b9s0QMC3",
    "outputId": "00022c3b-fac4-42bf-84cf-e322be674d55"
   },
   "outputs": [
    {
     "data": {
      "text/plain": [
       "0.9071325364508078"
      ]
     },
     "execution_count": 30,
     "metadata": {
      "tags": []
     },
     "output_type": "execute_result"
    }
   ],
   "source": [
    "raw_train_preds = model.predict(X_train)\n",
    "train_preds = np.where(raw_train_preds > 0.5, 1, 0)\n",
    "accuracy_score(Y_train, train_preds)"
   ]
  },
  {
   "cell_type": "code",
   "execution_count": 31,
   "metadata": {
    "id": "ktcrJw29iYyh"
   },
   "outputs": [],
   "source": [
    "df = pd.DataFrame()\n",
    "raw_preds = model.predict(X_test)\n",
    "test_preds = np.where(raw_preds > 0.5, 1, 0)\n",
    "df[\"id\"] = test_data[\"id\"]\n",
    "df[\"target\"] = test_preds\n",
    "df.to_csv(\"lstm.csv\", index=False)"
   ]
  },
  {
   "cell_type": "code",
   "execution_count": 32,
   "metadata": {
    "id": "aiQaLpj8jFeL"
   },
   "outputs": [],
   "source": [
    "# nice - this gets 0.77811 accuracy"
   ]
  },
  {
   "cell_type": "markdown",
   "metadata": {
    "id": "Ivvp4GP4-Lag"
   },
   "source": [
    "## Bidirectional LSTM"
   ]
  },
  {
   "cell_type": "code",
   "execution_count": 33,
   "metadata": {
    "id": "UIhTz5jl-uO1"
   },
   "outputs": [],
   "source": [
    "from keras.layers import Bidirectional"
   ]
  },
  {
   "cell_type": "code",
   "execution_count": 34,
   "metadata": {
    "colab": {
     "base_uri": "https://localhost:8080/"
    },
    "id": "uKWK0VYH-Kwo",
    "outputId": "fc02640e-00c2-4e8f-da90-2ca59940ae66"
   },
   "outputs": [
    {
     "name": "stdout",
     "output_type": "stream",
     "text": [
      "Model: \"sequential_1\"\n",
      "_________________________________________________________________\n",
      "Layer (type)                 Output Shape              Param #   \n",
      "=================================================================\n",
      "embedding_1 (Embedding)      (None, 25, 128)           2682496   \n",
      "_________________________________________________________________\n",
      "bidirectional (Bidirectional (None, 25, 128)           98816     \n",
      "_________________________________________________________________\n",
      "bidirectional_1 (Bidirection (None, 128)               98816     \n",
      "_________________________________________________________________\n",
      "dense_2 (Dense)              (None, 16)                2064      \n",
      "_________________________________________________________________\n",
      "dense_3 (Dense)              (None, 1)                 17        \n",
      "=================================================================\n",
      "Total params: 2,882,209\n",
      "Trainable params: 2,882,209\n",
      "Non-trainable params: 0\n",
      "_________________________________________________________________\n",
      "None\n"
     ]
    }
   ],
   "source": [
    "bi_lstm_model = Sequential()\n",
    "bi_lstm_model.add(Embedding(len(tokenizer.word_counts) + 1, EMBEDDING_DIM, input_length=X_train.shape[1]))\n",
    "bi_lstm_model.add(Bidirectional(LSTM(64, return_sequences=True)))\n",
    "bi_lstm_model.add(Bidirectional(LSTM(64)))\n",
    "bi_lstm_model.add(Dense(16, activation='relu'))\n",
    "bi_lstm_model.add(Dense(1, activation='sigmoid'))\n",
    "optimizer = Adam(learning_rate=0.00002)\n",
    "bi_lstm_model.compile(loss='binary_crossentropy', optimizer=optimizer, metrics=['accuracy'])\n",
    "print(bi_lstm_model.summary())"
   ]
  },
  {
   "cell_type": "code",
   "execution_count": 35,
   "metadata": {
    "colab": {
     "base_uri": "https://localhost:8080/"
    },
    "id": "OF2w4K0G_EGu",
    "outputId": "4402aff2-5ac2-444b-e7dc-9631adc37987"
   },
   "outputs": [
    {
     "name": "stdout",
     "output_type": "stream",
     "text": [
      "Epoch 1/10\n",
      "96/96 [==============================] - 9s 48ms/step - loss: 0.6925 - accuracy: 0.5197 - val_loss: 0.6900 - val_accuracy: 0.5345\n",
      "Epoch 2/10\n",
      "96/96 [==============================] - 3s 36ms/step - loss: 0.6844 - accuracy: 0.5851 - val_loss: 0.6869 - val_accuracy: 0.5345\n",
      "Epoch 3/10\n",
      "96/96 [==============================] - 3s 36ms/step - loss: 0.6736 - accuracy: 0.5868 - val_loss: 0.6862 - val_accuracy: 0.5345\n",
      "Epoch 4/10\n",
      "96/96 [==============================] - 3s 36ms/step - loss: 0.6678 - accuracy: 0.5839 - val_loss: 0.6825 - val_accuracy: 0.5345\n",
      "Epoch 5/10\n",
      "96/96 [==============================] - 3s 36ms/step - loss: 0.6587 - accuracy: 0.5844 - val_loss: 0.6730 - val_accuracy: 0.5345\n",
      "Epoch 6/10\n",
      "96/96 [==============================] - 3s 36ms/step - loss: 0.6469 - accuracy: 0.5798 - val_loss: 0.6538 - val_accuracy: 0.5758\n",
      "Epoch 7/10\n",
      "96/96 [==============================] - 3s 36ms/step - loss: 0.5956 - accuracy: 0.6853 - val_loss: 0.6082 - val_accuracy: 0.7157\n",
      "Epoch 8/10\n",
      "96/96 [==============================] - 3s 36ms/step - loss: 0.4852 - accuracy: 0.8215 - val_loss: 0.5359 - val_accuracy: 0.7380\n",
      "Epoch 9/10\n",
      "96/96 [==============================] - 3s 36ms/step - loss: 0.3466 - accuracy: 0.8764 - val_loss: 0.5062 - val_accuracy: 0.7715\n",
      "Epoch 10/10\n",
      "96/96 [==============================] - 4s 36ms/step - loss: 0.2712 - accuracy: 0.9030 - val_loss: 0.5177 - val_accuracy: 0.7761\n"
     ]
    }
   ],
   "source": [
    "epochs = 10\n",
    "batch_size = 64\n",
    "\n",
    "history = bi_lstm_model.fit(X_train, Y_train, epochs=epochs, batch_size=batch_size,validation_split=0.2)"
   ]
  },
  {
   "cell_type": "code",
   "execution_count": 36,
   "metadata": {
    "colab": {
     "base_uri": "https://localhost:8080/",
     "height": 295
    },
    "id": "9JIgRHQwNEHF",
    "outputId": "f53ecc7b-fc72-4893-915b-7a63a60507e0"
   },
   "outputs": [
    {
     "data": {
      "image/png": "[encoded data removed]",
      "text/plain": [
       "<Figure size 432x288 with 1 Axes>"
      ]
     },
     "metadata": {
      "needs_background": "light",
      "tags": []
     },
     "output_type": "display_data"
    }
   ],
   "source": [
    "# plot accuracy\n",
    "plt.plot(history.history['accuracy'])\n",
    "plt.plot(history.history['val_accuracy'])\n",
    "plt.title('model accuracy')\n",
    "plt.ylabel('accuracy')\n",
    "plt.xlabel('epoch')\n",
    "plt.legend(['train', 'test'], loc='upper left')\n",
    "plt.savefig('bi_lstm_acc.png')\n",
    "plt.show()"
   ]
  },
  {
   "cell_type": "code",
   "execution_count": 37,
   "metadata": {
    "colab": {
     "base_uri": "https://localhost:8080/",
     "height": 295
    },
    "id": "N3_CAaRoNGp9",
    "outputId": "cdceb76e-da46-4457-e3e4-d9c9994ebe21"
   },
   "outputs": [
    {
     "data": {
      "image/png": "[encoded data removed]",
      "text/plain": [
       "<Figure size 432x288 with 1 Axes>"
      ]
     },
     "metadata": {
      "needs_background": "light",
      "tags": []
     },
     "output_type": "display_data"
    }
   ],
   "source": [
    "# plot loss\n",
    "plt.plot(history.history['loss'])\n",
    "plt.plot(history.history['val_loss'])\n",
    "plt.title('model loss')\n",
    "plt.ylabel('loss')\n",
    "plt.xlabel('epoch')\n",
    "plt.legend(['train', 'test'], loc='upper left')\n",
    "plt.savefig('bi_lstm_loss.png')\n",
    "plt.show()"
   ]
  },
  {
   "cell_type": "code",
   "execution_count": 38,
   "metadata": {
    "colab": {
     "base_uri": "https://localhost:8080/"
    },
    "id": "MYELuoQ6XPJE",
    "outputId": "f687bc02-ce2b-4002-9a2d-ceebc248478f"
   },
   "outputs": [
    {
     "data": {
      "text/plain": [
       "0.8912386706948641"
      ]
     },
     "execution_count": 38,
     "metadata": {
      "tags": []
     },
     "output_type": "execute_result"
    }
   ],
   "source": [
    "raw_train_preds = bi_lstm_model.predict(X_train)\n",
    "train_preds = np.where(raw_train_preds > 0.5, 1, 0)\n",
    "accuracy_score(Y_train, train_preds)"
   ]
  },
  {
   "cell_type": "code",
   "execution_count": 39,
   "metadata": {
    "id": "3cpbN5Xx_VCl"
   },
   "outputs": [],
   "source": [
    "df = pd.DataFrame()\n",
    "raw_preds = bi_lstm_model.predict(X_test)\n",
    "test_preds = np.where(raw_preds > 0.5, 1, 0)\n",
    "df[\"id\"] = test_data[\"id\"]\n",
    "df[\"target\"] = test_preds\n",
    "df.to_csv(\"bi_dir_lstm.csv\", index=False)"
   ]
  },
  {
   "cell_type": "code",
   "execution_count": 40,
   "metadata": {
    "id": "L3bBQfauAcRZ"
   },
   "outputs": [],
   "source": [
    "# this gets about 0.79. Not much improvement"
   ]
  },
  {
   "cell_type": "markdown",
   "metadata": {
    "id": "gKWJCf_-MXFp"
   },
   "source": [
    "## Naive Bayes (ish)"
   ]
  },
  {
   "cell_type": "markdown",
   "metadata": {},
   "source": [
    "Because of the nature of naive bayes, we were unable to find any sort of library to handle what we needed to to. Because of this we developed our own naive bayes like model described in our paper and final presentation. Because this file is a quite a lot of code, we have attached it as naive_bayes.py.\n",
    "\n",
    "The model got an accuracy of 0.75666. Not too bad."
   ]
  },
  {
   "cell_type": "markdown",
   "metadata": {},
   "source": [
    "## Ensemble Model"
   ]
  },
  {
   "cell_type": "markdown",
   "metadata": {},
   "source": [
    "We decided to do an ensemble model using the output of each of our other five models. Since all of our models produced an accuracy of around 75-80% and there were an odd number of models there really wasn't a point to use the exact accuracy scores of each file. Instead we just went with a majority rule system shown below. We did also implement a version of this using the exact accuracy score of each result set, but it got the same scores. It can be found in our repo under the /ensemble directory."
   ]
  },
  {
   "cell_type": "code",
   "execution_count": 2,
   "metadata": {},
   "outputs": [],
   "source": [
    "import csv\n",
    "import pandas as pd\n",
    "\n",
    "naive_bayes = pd.read_csv(\"ensemble/naive_bayes.csv\").to_dict()[\"target\"]\n",
    "bi_dir_ltsm = pd.read_csv(\"ensemble/bi_dir_lstm.csv\").to_dict()[\"target\"]\n",
    "logistic_regression = pd.read_csv(\"ensemble/logistic_regression.csv\").to_dict()[\"target\"]\n",
    "ltsm = pd.read_csv(\"ensemble/lstm.csv\").to_dict()[\"target\"]\n",
    "svm = pd.read_csv(\"ensemble/svm.csv\").to_dict()[\"target\"]\n",
    "ids = pd.read_csv(\"ensemble/svm.csv\").to_dict()[\"id\"]\n",
    "\n",
    "with open('ensemble.csv', 'w', newline='') as csvfile:\n",
    "    writer = csv.writer(csvfile, delimiter=',',quotechar='|', quoting=csv.QUOTE_MINIMAL)\n",
    "    writer.writerow([\"id\", \"target\"])\n",
    "    for key in svm.keys():\n",
    "        num_yes = naive_bayes[key] + bi_dir_ltsm[key] + logistic_regression[key] + ltsm[key] + svm[key]\n",
    "        writer.writerow([ids[key], int(num_yes >= 3)])"
   ]
  },
  {
   "cell_type": "markdown",
   "metadata": {},
   "source": [
    "This got an accuracy score of 0.80447. Barely higher than our previous high model, but still interesting to t"
   ]
  }
 ],
 "metadata": {
  "accelerator": "GPU",
  "colab": {
   "collapsed_sections": [],
   "name": "svm_model.ipynb",
   "provenance": [],
   "toc_visible": true
  },
  "deepnote": {},
  "deepnote_execution_queue": [],
  "deepnote_notebook_id": "c4a13d9a-9adf-48b2-96f2-208711a47f35",
  "kernelspec": {
   "display_name": "Python 3",
   "language": "python",
   "name": "python3"
  },
  "language_info": {
   "codemirror_mode": {
    "name": "ipython",
    "version": 3
   },
   "file_extension": ".py",
   "mimetype": "text/x-python",
   "name": "python",
   "nbconvert_exporter": "python",
   "pygments_lexer": "ipython3",
   "version": "3.7.9"
  }
 },
 "nbformat": 4,
 "nbformat_minor": 1
}
