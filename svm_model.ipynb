{
  "nbformat": 4,
  "nbformat_minor": 0,
  "metadata": {
    "orig_nbformat": 2,
    "deepnote_notebook_id": "c4a13d9a-9adf-48b2-96f2-208711a47f35",
    "deepnote_execution_queue": [],
    "deepnote": {},
    "colab": {
      "name": "svm_model.ipynb",
      "provenance": [],
      "collapsed_sections": [],
      "toc_visible": true
    },
    "language_info": {
      "name": "python"
    },
    "kernelspec": {
      "name": "python3",
      "display_name": "Python 3"
    },
    "accelerator": "GPU"
  },
  "cells": [
    {
      "cell_type": "markdown",
      "metadata": {
        "tags": [],
        "output_cleared": false,
        "cell_id": "00000-d31ee0f1-54ab-446e-adc3-6dc6c0f0d273",
        "deepnote_cell_type": "markdown",
        "id": "qAfDiglRgUgn"
      },
      "source": [
        "# NLP - Disaster Data"
      ]
    },
    {
      "cell_type": "code",
      "metadata": {
        "tags": [],
        "output_cleared": false,
        "source_hash": "124f3ce4",
        "execution_millis": 1,
        "deepnote_to_be_reexecuted": false,
        "cell_id": "00002-dee8c0b3-b99a-42db-bc73-d2041dd76b96",
        "execution_start": 1617894026660,
        "deepnote_cell_type": "code",
        "id": "szgSF7tvgUgq"
      },
      "source": [
        "import pandas as pd\n",
        "import numpy as np\n",
        "\n",
        "train_data = pd.read_csv(\"train.csv\")\n",
        "test_data = pd.read_csv(\"test.csv\")"
      ],
      "execution_count": 1,
      "outputs": []
    },
    {
      "cell_type": "code",
      "metadata": {
        "tags": [],
        "output_cleared": false,
        "source_hash": "d36b4982",
        "execution_millis": 657,
        "deepnote_to_be_reexecuted": false,
        "cell_id": "00003-3b258036-3925-4be1-8219-b08b9ac85294",
        "execution_start": 1617894027000,
        "deepnote_cell_type": "code",
        "colab": {
          "base_uri": "https://localhost:8080/"
        },
        "id": "qXgw7u-RgUgr",
        "outputId": "ed7b54f6-eb66-4362-cb86-af4f0eb84775"
      },
      "source": [
        "print(\"Training Data:\")\n",
        "print(\"Shape - {}\".format(train_data.shape))\n",
        "print(\"Columns - {}\".format(train_data.columns))\n",
        "print(\"Memory Usage - {:.2f} MB\".format(train_data.memory_usage().sum() / 1024**2))\n",
        "\n",
        "print(\"\\nTesting Data:\")\n",
        "print(\"Shape - {}\".format(test_data.shape))\n",
        "print(\"Columns - {}\".format(test_data.columns))\n",
        "print(\"Memory Usage - {:.2f} MB\".format(test_data.memory_usage().sum() / 1024**2))\n"
      ],
      "execution_count": 2,
      "outputs": [
        {
          "output_type": "stream",
          "text": [
            "Training Data:\n",
            "Shape - (7613, 5)\n",
            "Columns - Index(['id', 'keyword', 'location', 'text', 'target'], dtype='object')\n",
            "Memory Usage - 0.29 MB\n",
            "\n",
            "Testing Data:\n",
            "Shape - (3263, 4)\n",
            "Columns - Index(['id', 'keyword', 'location', 'text'], dtype='object')\n",
            "Memory Usage - 0.10 MB\n"
          ],
          "name": "stdout"
        }
      ]
    },
    {
      "cell_type": "code",
      "metadata": {
        "tags": [],
        "output_cleared": false,
        "source_hash": "33e89837",
        "execution_millis": 635,
        "deepnote_to_be_reexecuted": false,
        "cell_id": "00004-528044a5-3c32-4a2a-a9ba-a6d7cb2f7c37",
        "execution_start": 1617894027239,
        "deepnote_cell_type": "code",
        "colab": {
          "base_uri": "https://localhost:8080/",
          "height": 197
        },
        "id": "w3RjtALhgUgs",
        "outputId": "0af49210-fb90-4624-a29f-253933be4295"
      },
      "source": [
        "train_data.head()"
      ],
      "execution_count": 3,
      "outputs": [
        {
          "output_type": "execute_result",
          "data": {
            "text/html": [
              "<div>\n",
              "<style scoped>\n",
              "    .dataframe tbody tr th:only-of-type {\n",
              "        vertical-align: middle;\n",
              "    }\n",
              "\n",
              "    .dataframe tbody tr th {\n",
              "        vertical-align: top;\n",
              "    }\n",
              "\n",
              "    .dataframe thead th {\n",
              "        text-align: right;\n",
              "    }\n",
              "</style>\n",
              "<table border=\"1\" class=\"dataframe\">\n",
              "  <thead>\n",
              "    <tr style=\"text-align: right;\">\n",
              "      <th></th>\n",
              "      <th>id</th>\n",
              "      <th>keyword</th>\n",
              "      <th>location</th>\n",
              "      <th>text</th>\n",
              "      <th>target</th>\n",
              "    </tr>\n",
              "  </thead>\n",
              "  <tbody>\n",
              "    <tr>\n",
              "      <th>0</th>\n",
              "      <td>1</td>\n",
              "      <td>NaN</td>\n",
              "      <td>NaN</td>\n",
              "      <td>Our Deeds are the Reason of this #earthquake M...</td>\n",
              "      <td>1</td>\n",
              "    </tr>\n",
              "    <tr>\n",
              "      <th>1</th>\n",
              "      <td>4</td>\n",
              "      <td>NaN</td>\n",
              "      <td>NaN</td>\n",
              "      <td>Forest fire near La Ronge Sask. Canada</td>\n",
              "      <td>1</td>\n",
              "    </tr>\n",
              "    <tr>\n",
              "      <th>2</th>\n",
              "      <td>5</td>\n",
              "      <td>NaN</td>\n",
              "      <td>NaN</td>\n",
              "      <td>All residents asked to 'shelter in place' are ...</td>\n",
              "      <td>1</td>\n",
              "    </tr>\n",
              "    <tr>\n",
              "      <th>3</th>\n",
              "      <td>6</td>\n",
              "      <td>NaN</td>\n",
              "      <td>NaN</td>\n",
              "      <td>13,000 people receive #wildfires evacuation or...</td>\n",
              "      <td>1</td>\n",
              "    </tr>\n",
              "    <tr>\n",
              "      <th>4</th>\n",
              "      <td>7</td>\n",
              "      <td>NaN</td>\n",
              "      <td>NaN</td>\n",
              "      <td>Just got sent this photo from Ruby #Alaska as ...</td>\n",
              "      <td>1</td>\n",
              "    </tr>\n",
              "  </tbody>\n",
              "</table>\n",
              "</div>"
            ],
            "text/plain": [
              "   id keyword  ...                                               text target\n",
              "0   1     NaN  ...  Our Deeds are the Reason of this #earthquake M...      1\n",
              "1   4     NaN  ...             Forest fire near La Ronge Sask. Canada      1\n",
              "2   5     NaN  ...  All residents asked to 'shelter in place' are ...      1\n",
              "3   6     NaN  ...  13,000 people receive #wildfires evacuation or...      1\n",
              "4   7     NaN  ...  Just got sent this photo from Ruby #Alaska as ...      1\n",
              "\n",
              "[5 rows x 5 columns]"
            ]
          },
          "metadata": {
            "tags": []
          },
          "execution_count": 3
        }
      ]
    },
    {
      "cell_type": "code",
      "metadata": {
        "tags": [],
        "output_cleared": false,
        "source_hash": "74dc1ffb",
        "execution_millis": 178,
        "deepnote_to_be_reexecuted": false,
        "cell_id": "00005-4d4aa59d-0f6a-440d-981f-c57d64c049f8",
        "execution_start": 1617894027699,
        "deepnote_cell_type": "code",
        "colab": {
          "base_uri": "https://localhost:8080/",
          "height": 197
        },
        "id": "YuR7s6rpgUgt",
        "outputId": "b2d26c3c-9a0b-440b-9dd9-1805d4852d12"
      },
      "source": [
        "test_data.head()"
      ],
      "execution_count": 4,
      "outputs": [
        {
          "output_type": "execute_result",
          "data": {
            "text/html": [
              "<div>\n",
              "<style scoped>\n",
              "    .dataframe tbody tr th:only-of-type {\n",
              "        vertical-align: middle;\n",
              "    }\n",
              "\n",
              "    .dataframe tbody tr th {\n",
              "        vertical-align: top;\n",
              "    }\n",
              "\n",
              "    .dataframe thead th {\n",
              "        text-align: right;\n",
              "    }\n",
              "</style>\n",
              "<table border=\"1\" class=\"dataframe\">\n",
              "  <thead>\n",
              "    <tr style=\"text-align: right;\">\n",
              "      <th></th>\n",
              "      <th>id</th>\n",
              "      <th>keyword</th>\n",
              "      <th>location</th>\n",
              "      <th>text</th>\n",
              "    </tr>\n",
              "  </thead>\n",
              "  <tbody>\n",
              "    <tr>\n",
              "      <th>0</th>\n",
              "      <td>0</td>\n",
              "      <td>NaN</td>\n",
              "      <td>NaN</td>\n",
              "      <td>Just happened a terrible car crash</td>\n",
              "    </tr>\n",
              "    <tr>\n",
              "      <th>1</th>\n",
              "      <td>2</td>\n",
              "      <td>NaN</td>\n",
              "      <td>NaN</td>\n",
              "      <td>Heard about #earthquake is different cities, s...</td>\n",
              "    </tr>\n",
              "    <tr>\n",
              "      <th>2</th>\n",
              "      <td>3</td>\n",
              "      <td>NaN</td>\n",
              "      <td>NaN</td>\n",
              "      <td>there is a forest fire at spot pond, geese are...</td>\n",
              "    </tr>\n",
              "    <tr>\n",
              "      <th>3</th>\n",
              "      <td>9</td>\n",
              "      <td>NaN</td>\n",
              "      <td>NaN</td>\n",
              "      <td>Apocalypse lighting. #Spokane #wildfires</td>\n",
              "    </tr>\n",
              "    <tr>\n",
              "      <th>4</th>\n",
              "      <td>11</td>\n",
              "      <td>NaN</td>\n",
              "      <td>NaN</td>\n",
              "      <td>Typhoon Soudelor kills 28 in China and Taiwan</td>\n",
              "    </tr>\n",
              "  </tbody>\n",
              "</table>\n",
              "</div>"
            ],
            "text/plain": [
              "   id keyword location                                               text\n",
              "0   0     NaN      NaN                 Just happened a terrible car crash\n",
              "1   2     NaN      NaN  Heard about #earthquake is different cities, s...\n",
              "2   3     NaN      NaN  there is a forest fire at spot pond, geese are...\n",
              "3   9     NaN      NaN           Apocalypse lighting. #Spokane #wildfires\n",
              "4  11     NaN      NaN      Typhoon Soudelor kills 28 in China and Taiwan"
            ]
          },
          "metadata": {
            "tags": []
          },
          "execution_count": 4
        }
      ]
    },
    {
      "cell_type": "code",
      "metadata": {
        "tags": [],
        "output_cleared": false,
        "source_hash": "198bef5",
        "execution_millis": 81,
        "deepnote_to_be_reexecuted": false,
        "cell_id": "00006-2954681a-bf44-4558-80c6-b84f508f9820",
        "execution_start": 1617894027796,
        "deepnote_cell_type": "code",
        "colab": {
          "base_uri": "https://localhost:8080/"
        },
        "id": "BFfG9IzngUgu",
        "outputId": "65901d4a-1c70-42cd-d196-c608255407fc"
      },
      "source": [
        "print(\"Distinct keywords for test data: {}\".format(test_data.keyword.drop_duplicates().count()))\n",
        "print(\"Distinct keywords for test data: {}\".format(train_data.keyword.drop_duplicates().count()))"
      ],
      "execution_count": 5,
      "outputs": [
        {
          "output_type": "stream",
          "text": [
            "Distinct keywords for test data: 221\n",
            "Distinct keywords for test data: 221\n"
          ],
          "name": "stdout"
        }
      ]
    },
    {
      "cell_type": "code",
      "metadata": {
        "tags": [],
        "output_cleared": false,
        "source_hash": "1f7ca3b1",
        "execution_millis": 11,
        "deepnote_to_be_reexecuted": false,
        "cell_id": "00007-86c5ca97-3e2f-411d-b1dc-8f8e4e8a5bd3",
        "execution_start": 1617894029150,
        "deepnote_cell_type": "code",
        "colab": {
          "base_uri": "https://localhost:8080/"
        },
        "id": "1jhVGz3vgUgu",
        "outputId": "a08d093c-26e8-40a3-b8d1-be5d49023a56"
      },
      "source": [
        "# Find count of words that are in both \n",
        "keywords = []\n",
        "for word in test_data.keyword.drop_duplicates():\n",
        "    keywords.append(word)\n",
        "for word in train_data.keyword.drop_duplicates():\n",
        "    if word not in keywords:\n",
        "        keywords.append(word)\n",
        "\n",
        "print(\"Count of words in training data that aren't in test data: {}\".format(len(keywords) - test_data.keyword.drop_duplicates().count()))"
      ],
      "execution_count": 6,
      "outputs": [
        {
          "output_type": "stream",
          "text": [
            "Count of words in training data that aren't in test data: 1\n"
          ],
          "name": "stdout"
        }
      ]
    },
    {
      "cell_type": "markdown",
      "metadata": {
        "tags": [],
        "output_cleared": false,
        "cell_id": "00008-c6526973-6c63-4fc2-be4b-4b8ef94b6991",
        "deepnote_cell_type": "markdown",
        "id": "JcjqlU6fgUgv"
      },
      "source": [
        "Both datasets have the same number of keywords. There is one keyword in training dataset that isn't in testing dataset. "
      ]
    },
    {
      "cell_type": "code",
      "metadata": {
        "tags": [],
        "output_cleared": false,
        "source_hash": "2c250b3a",
        "execution_millis": 20,
        "deepnote_to_be_reexecuted": false,
        "cell_id": "00009-fe890b1a-4f4b-4a93-aec9-e7d8fedd0d18",
        "execution_start": 1617894029836,
        "deepnote_cell_type": "code",
        "colab": {
          "base_uri": "https://localhost:8080/"
        },
        "id": "lDNyH4bcgUgw",
        "outputId": "943de9a9-3004-4ef2-d39c-1e436d498a92"
      },
      "source": [
        "train_data.target.value_counts()"
      ],
      "execution_count": 7,
      "outputs": [
        {
          "output_type": "execute_result",
          "data": {
            "text/plain": [
              "0    4342\n",
              "1    3271\n",
              "Name: target, dtype: int64"
            ]
          },
          "metadata": {
            "tags": []
          },
          "execution_count": 7
        }
      ]
    },
    {
      "cell_type": "code",
      "metadata": {
        "tags": [],
        "output_cleared": false,
        "source_hash": "773472cc",
        "execution_millis": 269,
        "deepnote_to_be_reexecuted": false,
        "cell_id": "00010-2b284002-409c-4c65-921d-4fa8198dd612",
        "execution_start": 1617894030739,
        "deepnote_cell_type": "code",
        "colab": {
          "base_uri": "https://localhost:8080/",
          "height": 613
        },
        "id": "i07_YC9IgUgw",
        "outputId": "74025a31-48e4-4410-c38a-7709b692b07f"
      },
      "source": [
        "import matplotlib.pyplot as plt\n",
        "\n",
        "plt.figure(figsize=(30,10))\n",
        "plt.title(\"Train Data: target\", fontsize=20)\n",
        "train_data.target.value_counts().plot(kind=\"pie\",\n",
        "                                    labels=[\"Real\", \"Fake\"],\n",
        "                                    wedgeprops=dict(width=.7),\n",
        "                                    autopct=\"%1.0f%%\",\n",
        "                                    startangle=-20,\n",
        "                                    textprops={\"fontsize\": 15})"
      ],
      "execution_count": 8,
      "outputs": [
        {
          "output_type": "execute_result",
          "data": {
            "text/plain": [
              "<matplotlib.axes._subplots.AxesSubplot at 0x7f7124a16d10>"
            ]
          },
          "metadata": {
            "tags": []
          },
          "execution_count": 8
        },
        {
          "output_type": "display_data",
          "data": {
            "image/png": "[encoded data removed]",
            "text/plain": [
              "<Figure size 2160x720 with 1 Axes>"
            ]
          },
          "metadata": {
            "tags": []
          }
        }
      ]
    },
    {
      "cell_type": "markdown",
      "metadata": {
        "tags": [],
        "output_cleared": false,
        "cell_id": "00011-4eb24dc4-1489-44bc-ac9f-a5f0cd2b6170",
        "deepnote_cell_type": "markdown",
        "id": "nfdfGyPQgUgx"
      },
      "source": [
        "There are a few more real examples than there are fake ones, it's good that it's a faily even split, it will be good to have plenty of both instances to work with."
      ]
    },
    {
      "cell_type": "markdown",
      "metadata": {
        "tags": [],
        "cell_id": "00011-d67fa81f-6bec-4987-84e0-4d8caf2335c1",
        "deepnote_cell_type": "markdown",
        "id": "5ZBh6pA2gUgx"
      },
      "source": [
        "Now we preprocess the data."
      ]
    },
    {
      "cell_type": "code",
      "metadata": {
        "tags": [],
        "output_cleared": false,
        "source_hash": "9075bbb0",
        "execution_millis": 136,
        "deepnote_to_be_reexecuted": false,
        "cell_id": "00012-bb31f8d6-81b7-418d-993b-dedf54d4a580",
        "execution_start": 1617894032865,
        "deepnote_cell_type": "code",
        "colab": {
          "base_uri": "https://localhost:8080/"
        },
        "id": "mjiyrQzHgUgy",
        "outputId": "e6c3c498-9aa5-4f7f-bbc5-1bdf8ffefa28"
      },
      "source": [
        "train_data.text.head()"
      ],
      "execution_count": 9,
      "outputs": [
        {
          "output_type": "execute_result",
          "data": {
            "text/plain": [
              "0    Our Deeds are the Reason of this #earthquake M...\n",
              "1               Forest fire near La Ronge Sask. Canada\n",
              "2    All residents asked to 'shelter in place' are ...\n",
              "3    13,000 people receive #wildfires evacuation or...\n",
              "4    Just got sent this photo from Ruby #Alaska as ...\n",
              "Name: text, dtype: object"
            ]
          },
          "metadata": {
            "tags": []
          },
          "execution_count": 9
        }
      ]
    },
    {
      "cell_type": "code",
      "metadata": {
        "tags": [],
        "output_cleared": false,
        "source_hash": "6864db81",
        "execution_millis": 7488,
        "deepnote_to_be_reexecuted": false,
        "cell_id": "00013-9868aa9a-1db6-43bb-b416-9d6975dcbfff",
        "execution_start": 1617894033934,
        "deepnote_cell_type": "code",
        "colab": {
          "base_uri": "https://localhost:8080/"
        },
        "id": "BNOUojE1gUgy",
        "outputId": "2ac12c14-30f9-4fa2-9975-005a6cc1e110"
      },
      "source": [
        "!pip install nltk==3.5\n",
        "import nltk; nltk.download(\"stopwords\")\n",
        "!pip install textblob==0.15.3\n",
        "!python -m textblob.download_corpora\n",
        "\n",
        "def preprocessing_data(data):\n",
        "    # Change all text to lowercase\n",
        "    data.text = data.text.apply(lambda x: \" \".join(x.lower() for x in x.split()))\n",
        "    \n",
        "    # Remove punctuation \n",
        "    data.text = data.text.str.replace(\"[^\\w\\s]\",\"\")\n",
        "\n",
        "    # Remove stopwords\n",
        "    from nltk.corpus import stopwords\n",
        "    stop = stopwords.words(\"english\")\n",
        "    data.text = data.text.apply(lambda x: \" \".join(x for x in x.split() if x not in stop))\n",
        "\n",
        "    # Lemmatize words\n",
        "    from textblob import Word\n",
        "    data.text = data.text.apply(lambda x: \" \".join([Word(word).lemmatize() for word in x.split()]))\n",
        "\n",
        "    # Remove words with length below 3\n",
        "    data.text = data.text.apply(lambda x: \" \".join(x for x in x.split() if len(x) > 2))\n",
        "\n",
        "    # Remove rare words\n",
        "    freq = pd.Series(\" \".join(data).split()).value_counts()[-10:]\n",
        "    freq = list(freq.index)\n",
        "    data.text = data.text.apply(lambda x: \" \".join(x for x in x.split() if x not in freq))\n",
        "\n",
        "    # Remove common words\n",
        "    freq = pd.Series(\" \".join(data).split()).value_counts()[:10]\n",
        "    freq = list(freq.index) \n",
        "    data.text = data.text.apply(lambda x: \" \".join(x for x in x.split() if x not in freq))\n",
        "\n",
        "    return data"
      ],
      "execution_count": 10,
      "outputs": [
        {
          "output_type": "stream",
          "text": [
            "Requirement already satisfied: nltk==3.5 in /usr/local/lib/python3.7/dist-packages (3.5)\n",
            "Requirement already satisfied: joblib in /usr/local/lib/python3.7/dist-packages (from nltk==3.5) (1.0.1)\n",
            "Requirement already satisfied: click in /usr/local/lib/python3.7/dist-packages (from nltk==3.5) (7.1.2)\n",
            "Requirement already satisfied: regex in /usr/local/lib/python3.7/dist-packages (from nltk==3.5) (2019.12.20)\n",
            "Requirement already satisfied: tqdm in /usr/local/lib/python3.7/dist-packages (from nltk==3.5) (4.41.1)\n"
          ],
          "name": "stdout"
        },
        {
          "output_type": "stream",
          "text": [
            "[nltk_data] Downloading package stopwords to /root/nltk_data...\n",
            "[nltk_data]   Package stopwords is already up-to-date!\n"
          ],
          "name": "stderr"
        },
        {
          "output_type": "stream",
          "text": [
            "Requirement already satisfied: textblob==0.15.3 in /usr/local/lib/python3.7/dist-packages (0.15.3)\n",
            "Requirement already satisfied: nltk>=3.1 in /usr/local/lib/python3.7/dist-packages (from textblob==0.15.3) (3.5)\n",
            "Requirement already satisfied: regex in /usr/local/lib/python3.7/dist-packages (from nltk>=3.1->textblob==0.15.3) (2019.12.20)\n",
            "Requirement already satisfied: click in /usr/local/lib/python3.7/dist-packages (from nltk>=3.1->textblob==0.15.3) (7.1.2)\n",
            "Requirement already satisfied: tqdm in /usr/local/lib/python3.7/dist-packages (from nltk>=3.1->textblob==0.15.3) (4.41.1)\n",
            "Requirement already satisfied: joblib in /usr/local/lib/python3.7/dist-packages (from nltk>=3.1->textblob==0.15.3) (1.0.1)\n",
            "[nltk_data] Downloading package brown to /root/nltk_data...\n",
            "[nltk_data]   Package brown is already up-to-date!\n",
            "[nltk_data] Downloading package punkt to /root/nltk_data...\n",
            "[nltk_data]   Package punkt is already up-to-date!\n",
            "[nltk_data] Downloading package wordnet to /root/nltk_data...\n",
            "[nltk_data]   Package wordnet is already up-to-date!\n",
            "[nltk_data] Downloading package averaged_perceptron_tagger to\n",
            "[nltk_data]     /root/nltk_data...\n",
            "[nltk_data]   Package averaged_perceptron_tagger is already up-to-\n",
            "[nltk_data]       date!\n",
            "[nltk_data] Downloading package conll2000 to /root/nltk_data...\n",
            "[nltk_data]   Package conll2000 is already up-to-date!\n",
            "[nltk_data] Downloading package movie_reviews to /root/nltk_data...\n",
            "[nltk_data]   Package movie_reviews is already up-to-date!\n",
            "Finished.\n"
          ],
          "name": "stdout"
        }
      ]
    },
    {
      "cell_type": "code",
      "metadata": {
        "tags": [],
        "output_cleared": false,
        "source_hash": "b2f2eb2e",
        "execution_millis": 1101,
        "deepnote_to_be_reexecuted": false,
        "cell_id": "00014-659b2051-33ae-477c-baf4-ff2c8d59d57f",
        "execution_start": 1617894041410,
        "deepnote_cell_type": "code",
        "id": "ISGZN5ZQgUgz"
      },
      "source": [
        "train_data = preprocessing_data(train_data)\n",
        "test_data = preprocessing_data(test_data)"
      ],
      "execution_count": 11,
      "outputs": []
    },
    {
      "cell_type": "code",
      "metadata": {
        "tags": [],
        "output_cleared": false,
        "source_hash": "33e89837",
        "execution_millis": 435,
        "deepnote_to_be_reexecuted": false,
        "cell_id": "00015-ebeb8451-67df-451f-a70e-d0b46140430f",
        "execution_start": 1617894042517,
        "deepnote_cell_type": "code",
        "colab": {
          "base_uri": "https://localhost:8080/",
          "height": 197
        },
        "id": "eArsLeHLgUg0",
        "outputId": "d2cf7535-02c9-4731-b295-110f81344fd7"
      },
      "source": [
        "train_data.head()"
      ],
      "execution_count": 12,
      "outputs": [
        {
          "output_type": "execute_result",
          "data": {
            "text/html": [
              "<div>\n",
              "<style scoped>\n",
              "    .dataframe tbody tr th:only-of-type {\n",
              "        vertical-align: middle;\n",
              "    }\n",
              "\n",
              "    .dataframe tbody tr th {\n",
              "        vertical-align: top;\n",
              "    }\n",
              "\n",
              "    .dataframe thead th {\n",
              "        text-align: right;\n",
              "    }\n",
              "</style>\n",
              "<table border=\"1\" class=\"dataframe\">\n",
              "  <thead>\n",
              "    <tr style=\"text-align: right;\">\n",
              "      <th></th>\n",
              "      <th>id</th>\n",
              "      <th>keyword</th>\n",
              "      <th>location</th>\n",
              "      <th>text</th>\n",
              "      <th>target</th>\n",
              "    </tr>\n",
              "  </thead>\n",
              "  <tbody>\n",
              "    <tr>\n",
              "      <th>0</th>\n",
              "      <td>1</td>\n",
              "      <td>NaN</td>\n",
              "      <td>NaN</td>\n",
              "      <td>deed reason earthquake may allah forgive</td>\n",
              "      <td>1</td>\n",
              "    </tr>\n",
              "    <tr>\n",
              "      <th>1</th>\n",
              "      <td>4</td>\n",
              "      <td>NaN</td>\n",
              "      <td>NaN</td>\n",
              "      <td>forest fire near ronge sask canada</td>\n",
              "      <td>1</td>\n",
              "    </tr>\n",
              "    <tr>\n",
              "      <th>2</th>\n",
              "      <td>5</td>\n",
              "      <td>NaN</td>\n",
              "      <td>NaN</td>\n",
              "      <td>resident asked shelter place notified officer ...</td>\n",
              "      <td>1</td>\n",
              "    </tr>\n",
              "    <tr>\n",
              "      <th>3</th>\n",
              "      <td>6</td>\n",
              "      <td>NaN</td>\n",
              "      <td>NaN</td>\n",
              "      <td>13000 people receive wildfire evacuation order...</td>\n",
              "      <td>1</td>\n",
              "    </tr>\n",
              "    <tr>\n",
              "      <th>4</th>\n",
              "      <td>7</td>\n",
              "      <td>NaN</td>\n",
              "      <td>NaN</td>\n",
              "      <td>got sent photo ruby alaska smoke wildfire pour...</td>\n",
              "      <td>1</td>\n",
              "    </tr>\n",
              "  </tbody>\n",
              "</table>\n",
              "</div>"
            ],
            "text/plain": [
              "   id keyword  ...                                               text target\n",
              "0   1     NaN  ...           deed reason earthquake may allah forgive      1\n",
              "1   4     NaN  ...                 forest fire near ronge sask canada      1\n",
              "2   5     NaN  ...  resident asked shelter place notified officer ...      1\n",
              "3   6     NaN  ...  13000 people receive wildfire evacuation order...      1\n",
              "4   7     NaN  ...  got sent photo ruby alaska smoke wildfire pour...      1\n",
              "\n",
              "[5 rows x 5 columns]"
            ]
          },
          "metadata": {
            "tags": []
          },
          "execution_count": 12
        }
      ]
    },
    {
      "cell_type": "code",
      "metadata": {
        "tags": [],
        "output_cleared": false,
        "source_hash": "74dc1ffb",
        "execution_millis": 394,
        "deepnote_to_be_reexecuted": false,
        "cell_id": "00016-f4e5bf7e-6806-4d51-90a7-88d11ed23fff",
        "execution_start": 1617894042561,
        "deepnote_cell_type": "code",
        "colab": {
          "base_uri": "https://localhost:8080/",
          "height": 197
        },
        "id": "EGg65hA3gUg0",
        "outputId": "8c72f87d-9518-481b-8550-3546284eeaf8"
      },
      "source": [
        "test_data.head()"
      ],
      "execution_count": 13,
      "outputs": [
        {
          "output_type": "execute_result",
          "data": {
            "text/html": [
              "<div>\n",
              "<style scoped>\n",
              "    .dataframe tbody tr th:only-of-type {\n",
              "        vertical-align: middle;\n",
              "    }\n",
              "\n",
              "    .dataframe tbody tr th {\n",
              "        vertical-align: top;\n",
              "    }\n",
              "\n",
              "    .dataframe thead th {\n",
              "        text-align: right;\n",
              "    }\n",
              "</style>\n",
              "<table border=\"1\" class=\"dataframe\">\n",
              "  <thead>\n",
              "    <tr style=\"text-align: right;\">\n",
              "      <th></th>\n",
              "      <th>id</th>\n",
              "      <th>keyword</th>\n",
              "      <th>location</th>\n",
              "      <th>text</th>\n",
              "    </tr>\n",
              "  </thead>\n",
              "  <tbody>\n",
              "    <tr>\n",
              "      <th>0</th>\n",
              "      <td>0</td>\n",
              "      <td>NaN</td>\n",
              "      <td>NaN</td>\n",
              "      <td>happened terrible car crash</td>\n",
              "    </tr>\n",
              "    <tr>\n",
              "      <th>1</th>\n",
              "      <td>2</td>\n",
              "      <td>NaN</td>\n",
              "      <td>NaN</td>\n",
              "      <td>heard earthquake different city stay safe ever...</td>\n",
              "    </tr>\n",
              "    <tr>\n",
              "      <th>2</th>\n",
              "      <td>3</td>\n",
              "      <td>NaN</td>\n",
              "      <td>NaN</td>\n",
              "      <td>forest fire spot pond goose fleeing across str...</td>\n",
              "    </tr>\n",
              "    <tr>\n",
              "      <th>3</th>\n",
              "      <td>9</td>\n",
              "      <td>NaN</td>\n",
              "      <td>NaN</td>\n",
              "      <td>apocalypse lighting spokane wildfire</td>\n",
              "    </tr>\n",
              "    <tr>\n",
              "      <th>4</th>\n",
              "      <td>11</td>\n",
              "      <td>NaN</td>\n",
              "      <td>NaN</td>\n",
              "      <td>typhoon soudelor kill china taiwan</td>\n",
              "    </tr>\n",
              "  </tbody>\n",
              "</table>\n",
              "</div>"
            ],
            "text/plain": [
              "   id keyword location                                               text\n",
              "0   0     NaN      NaN                        happened terrible car crash\n",
              "1   2     NaN      NaN  heard earthquake different city stay safe ever...\n",
              "2   3     NaN      NaN  forest fire spot pond goose fleeing across str...\n",
              "3   9     NaN      NaN               apocalypse lighting spokane wildfire\n",
              "4  11     NaN      NaN                 typhoon soudelor kill china taiwan"
            ]
          },
          "metadata": {
            "tags": []
          },
          "execution_count": 13
        }
      ]
    },
    {
      "cell_type": "code",
      "metadata": {
        "id": "MRgCrXjthPED"
      },
      "source": [
        "from sklearn import feature_extraction\n",
        "from sklearn.metrics import accuracy_score\n",
        "from sklearn.linear_model import LogisticRegression\n",
        "from sklearn.feature_extraction.text import TfidfVectorizer\n",
        "from sklearn.metrics import accuracy_score"
      ],
      "execution_count": 14,
      "outputs": []
    },
    {
      "cell_type": "markdown",
      "metadata": {
        "id": "GMhsGD35hEan"
      },
      "source": [
        "## Logistic Regression"
      ]
    },
    {
      "cell_type": "code",
      "metadata": {
        "colab": {
          "base_uri": "https://localhost:8080/"
        },
        "id": "qJp-DwUnhUsA",
        "outputId": "87103789-27a4-4795-a3df-532263422606"
      },
      "source": [
        "vectorizer = feature_extraction.text.CountVectorizer()\n",
        "train_vectors = vectorizer.fit_transform(train_data[\"text\"])\n",
        "test_vectors = vectorizer.transform(test_data[\"text\"])\n",
        "\n",
        "print(train_vectors.shape)\n",
        "print(test_vectors.shape)"
      ],
      "execution_count": 15,
      "outputs": [
        {
          "output_type": "stream",
          "text": [
            "(7613, 20858)\n",
            "(3263, 20858)\n"
          ],
          "name": "stdout"
        }
      ]
    },
    {
      "cell_type": "code",
      "metadata": {
        "colab": {
          "base_uri": "https://localhost:8080/"
        },
        "id": "qNc6GRI5hcYo",
        "outputId": "9ffe8c41-371f-41a7-d522-9f568b82e4ac"
      },
      "source": [
        "# create logistic regression model\n",
        "model = LogisticRegression(max_iter=1000)\n",
        "model.fit(train_vectors, train_data[\"target\"])"
      ],
      "execution_count": 16,
      "outputs": [
        {
          "output_type": "execute_result",
          "data": {
            "text/plain": [
              "LogisticRegression(C=1.0, class_weight=None, dual=False, fit_intercept=True,\n",
              "                   intercept_scaling=1, l1_ratio=None, max_iter=1000,\n",
              "                   multi_class='auto', n_jobs=None, penalty='l2',\n",
              "                   random_state=None, solver='lbfgs', tol=0.0001, verbose=0,\n",
              "                   warm_start=False)"
            ]
          },
          "metadata": {
            "tags": []
          },
          "execution_count": 16
        }
      ]
    },
    {
      "cell_type": "code",
      "metadata": {
        "id": "41D2IV_Ghhgn"
      },
      "source": [
        "# save the predictions on the testing data to submit to kaggle\n",
        "df = pd.DataFrame()\n",
        "test_preds = model.predict(test_vectors)\n",
        "df[\"id\"] = test_data[\"id\"]\n",
        "df[\"target\"] = test_preds\n",
        "df.to_csv(\"logistic_regression.csv\", index=False)"
      ],
      "execution_count": 17,
      "outputs": []
    },
    {
      "cell_type": "markdown",
      "metadata": {
        "id": "pa4wCS-cg0g0"
      },
      "source": [
        "## SVM"
      ]
    },
    {
      "cell_type": "code",
      "metadata": {
        "tags": [],
        "cell_id": "00017-675d1a4a-143e-4834-8c4e-a568db4930b4",
        "deepnote_to_be_reexecuted": false,
        "source_hash": "dfb131eb",
        "execution_millis": 77,
        "execution_start": 1617894042611,
        "deepnote_cell_type": "code",
        "id": "akvPsM95gUg1"
      },
      "source": [
        "X_train = train_data[\"text\"]\n",
        "y_train = train_data[\"target\"]\n",
        "X_test = test_data[\"text\"]\n",
        "\n",
        "vectorizer = TfidfVectorizer()\n",
        "X_train = vectorizer.fit_transform(X_train)"
      ],
      "execution_count": 18,
      "outputs": []
    },
    {
      "cell_type": "code",
      "metadata": {
        "tags": [],
        "cell_id": "00018-47016025-f4e4-4e22-abf9-d6429e52a3b5",
        "deepnote_to_be_reexecuted": false,
        "source_hash": "ef6f8860",
        "execution_millis": 7516,
        "execution_start": 1617894042722,
        "deepnote_cell_type": "code",
        "colab": {
          "base_uri": "https://localhost:8080/"
        },
        "id": "XJTxFgAmgUg1",
        "outputId": "dda05ee5-743e-43f3-96af-633c149e2022"
      },
      "source": [
        "from sklearn import svm\n",
        "\n",
        "svm = svm.SVC(C=100)\n",
        "\n",
        "svm.fit(X_train, y_train)"
      ],
      "execution_count": 19,
      "outputs": [
        {
          "output_type": "execute_result",
          "data": {
            "text/plain": [
              "SVC(C=100, break_ties=False, cache_size=200, class_weight=None, coef0=0.0,\n",
              "    decision_function_shape='ovr', degree=3, gamma='scale', kernel='rbf',\n",
              "    max_iter=-1, probability=False, random_state=None, shrinking=True,\n",
              "    tol=0.001, verbose=False)"
            ]
          },
          "metadata": {
            "tags": []
          },
          "execution_count": 19
        }
      ]
    },
    {
      "cell_type": "code",
      "metadata": {
        "tags": [],
        "cell_id": "00019-05320b9a-fb8c-4944-8b95-a89047ac1f02",
        "deepnote_to_be_reexecuted": false,
        "source_hash": "3656e2f3",
        "execution_millis": 1997,
        "execution_start": 1617894050267,
        "deepnote_cell_type": "code",
        "id": "Go7eLoDNgUg2"
      },
      "source": [
        "X_test = vectorizer.transform(X_test)\n",
        "test_preds = svm.predict(X_test)\n",
        "\n",
        "df = pd.DataFrame()\n",
        "df[\"id\"] = test_data[\"id\"]\n",
        "df[\"target\"] = test_preds \n",
        "df.to_csv(\"svm.csv\", index=False)"
      ],
      "execution_count": 20,
      "outputs": []
    },
    {
      "cell_type": "markdown",
      "metadata": {
        "id": "l9zy-S_5iBiq"
      },
      "source": [
        "## LSTM"
      ]
    },
    {
      "cell_type": "code",
      "metadata": {
        "tags": [],
        "cell_id": "00020-2e5cab5c-e169-47b1-a355-e3389d65a180",
        "deepnote_cell_type": "code",
        "id": "zm2zfS9HgUg3"
      },
      "source": [
        "from keras.preprocessing.text import Tokenizer\n",
        "from keras.preprocessing.sequence import pad_sequences\n",
        "from keras.models import Sequential\n",
        "from keras.optimizers import Adam\n",
        "from keras.layers import Dense, Embedding, LSTM, SpatialDropout1D\n",
        "from keras.callbacks import EarlyStopping\n",
        "from keras.layers import Dropout"
      ],
      "execution_count": 21,
      "outputs": []
    },
    {
      "cell_type": "code",
      "metadata": {
        "colab": {
          "base_uri": "https://localhost:8080/"
        },
        "id": "Ktyg7Yg-iHAE",
        "outputId": "7a8d4baf-bf75-4f35-bc05-e09b7d372727"
      },
      "source": [
        "# The maximum number of words to be used. (most frequent)\n",
        "MAX_SEQUENCE_LENGTH = 25\n",
        "EMBEDDING_DIM = 128\n",
        "\n",
        "tokenizer = Tokenizer(lower=False)\n",
        "tokenizer.fit_on_texts(train_data['text'].values)\n",
        "word_index = tokenizer.word_index\n",
        "print(f\"Found {len(word_index)} unique tokens\")"
      ],
      "execution_count": 22,
      "outputs": [
        {
          "output_type": "stream",
          "text": [
            "Found 20956 unique tokens\n"
          ],
          "name": "stdout"
        }
      ]
    },
    {
      "cell_type": "code",
      "metadata": {
        "colab": {
          "base_uri": "https://localhost:8080/"
        },
        "id": "42n6r_xkiNVA",
        "outputId": "d04d0d14-e2a7-447c-c2ae-5c2d63e8f1b8"
      },
      "source": [
        "X_train = tokenizer.texts_to_sequences(train_data['text'].values)\n",
        "X_train = pad_sequences(X_train, maxlen=MAX_SEQUENCE_LENGTH)\n",
        "Y_train = train_data['target'].values\n",
        "Y_train = Y_train.reshape((-1, 1))\n",
        "\n",
        "X_test = tokenizer.texts_to_sequences(test_data['text'].values)\n",
        "X_test = pad_sequences(X_test, maxlen=MAX_SEQUENCE_LENGTH)\n",
        "\n",
        "print(X_train.shape, Y_train.shape)\n",
        "print(X_test.shape)"
      ],
      "execution_count": 23,
      "outputs": [
        {
          "output_type": "stream",
          "text": [
            "(7613, 25) (7613, 1)\n",
            "(3263, 25)\n"
          ],
          "name": "stdout"
        }
      ]
    },
    {
      "cell_type": "code",
      "metadata": {
        "colab": {
          "base_uri": "https://localhost:8080/"
        },
        "id": "jyaCjBfsiUMH",
        "outputId": "66784a7a-1a7e-4f29-af8c-812a2a355ce7"
      },
      "source": [
        "model = Sequential()\n",
        "model.add(Embedding(len(tokenizer.word_counts) + 1, EMBEDDING_DIM, input_length=X_train.shape[1]))\n",
        "model.add(SpatialDropout1D(0.2))\n",
        "model.add(LSTM(128))\n",
        "model.add(Dropout(0.2))\n",
        "model.add(Dense(64, activation='relu'))\n",
        "model.add(Dropout(0.2))\n",
        "model.add(Dense(1, activation='sigmoid'))\n",
        "optimizer = Adam(learning_rate=0.0001)\n",
        "model.compile(loss='binary_crossentropy', optimizer=optimizer, metrics=['accuracy'])\n",
        "print(model.summary())"
      ],
      "execution_count": 24,
      "outputs": [
        {
          "output_type": "stream",
          "text": [
            "Model: \"sequential\"\n",
            "_________________________________________________________________\n",
            "Layer (type)                 Output Shape              Param #   \n",
            "=================================================================\n",
            "embedding (Embedding)        (None, 25, 128)           2682496   \n",
            "_________________________________________________________________\n",
            "spatial_dropout1d (SpatialDr (None, 25, 128)           0         \n",
            "_________________________________________________________________\n",
            "lstm (LSTM)                  (None, 128)               131584    \n",
            "_________________________________________________________________\n",
            "dropout (Dropout)            (None, 128)               0         \n",
            "_________________________________________________________________\n",
            "dense (Dense)                (None, 64)                8256      \n",
            "_________________________________________________________________\n",
            "dropout_1 (Dropout)          (None, 64)                0         \n",
            "_________________________________________________________________\n",
            "dense_1 (Dense)              (None, 1)                 65        \n",
            "=================================================================\n",
            "Total params: 2,822,401\n",
            "Trainable params: 2,822,401\n",
            "Non-trainable params: 0\n",
            "_________________________________________________________________\n",
            "None\n"
          ],
          "name": "stdout"
        }
      ]
    },
    {
      "cell_type": "code",
      "metadata": {
        "colab": {
          "base_uri": "https://localhost:8080/"
        },
        "id": "OoNwJl4qiWyB",
        "outputId": "995bbaa8-a6a1-4097-93e0-a2edefe8d04a"
      },
      "source": [
        "epochs = 10\n",
        "batch_size = 64\n",
        "\n",
        "history = model.fit(X_train, Y_train, epochs=epochs, batch_size=batch_size,validation_split=0.2)"
      ],
      "execution_count": 25,
      "outputs": [
        {
          "output_type": "stream",
          "text": [
            "Epoch 1/10\n",
            "96/96 [==============================] - 8s 37ms/step - loss: 0.6894 - accuracy: 0.5469 - val_loss: 0.6882 - val_accuracy: 0.5345\n",
            "Epoch 2/10\n",
            "96/96 [==============================] - 3s 31ms/step - loss: 0.6656 - accuracy: 0.5787 - val_loss: 0.6675 - val_accuracy: 0.5469\n",
            "Epoch 3/10\n",
            "96/96 [==============================] - 3s 30ms/step - loss: 0.6196 - accuracy: 0.6757 - val_loss: 0.5950 - val_accuracy: 0.7150\n",
            "Epoch 4/10\n",
            "96/96 [==============================] - 3s 30ms/step - loss: 0.4718 - accuracy: 0.8141 - val_loss: 0.4745 - val_accuracy: 0.7787\n",
            "Epoch 5/10\n",
            "96/96 [==============================] - 3s 30ms/step - loss: 0.3159 - accuracy: 0.8799 - val_loss: 0.4788 - val_accuracy: 0.7702\n",
            "Epoch 6/10\n",
            "96/96 [==============================] - 3s 30ms/step - loss: 0.2388 - accuracy: 0.9085 - val_loss: 0.5217 - val_accuracy: 0.7511\n",
            "Epoch 7/10\n",
            "96/96 [==============================] - 3s 29ms/step - loss: 0.1946 - accuracy: 0.9266 - val_loss: 0.5118 - val_accuracy: 0.7669\n",
            "Epoch 8/10\n",
            "96/96 [==============================] - 3s 30ms/step - loss: 0.1618 - accuracy: 0.9437 - val_loss: 0.5586 - val_accuracy: 0.7656\n",
            "Epoch 9/10\n",
            "96/96 [==============================] - 3s 30ms/step - loss: 0.1209 - accuracy: 0.9576 - val_loss: 0.6117 - val_accuracy: 0.7564\n",
            "Epoch 10/10\n",
            "96/96 [==============================] - 3s 29ms/step - loss: 0.1056 - accuracy: 0.9627 - val_loss: 0.6229 - val_accuracy: 0.7577\n"
          ],
          "name": "stdout"
        }
      ]
    },
    {
      "cell_type": "code",
      "metadata": {
        "colab": {
          "base_uri": "https://localhost:8080/",
          "height": 294
        },
        "id": "4yzo1waLNQhV",
        "outputId": "c7661d2b-cf1d-4f35-f7e9-a6acaba47bd9"
      },
      "source": [
        "# plot accuracy\n",
        "plt.plot(history.history['accuracy'])\n",
        "plt.plot(history.history['val_accuracy'])\n",
        "plt.title('model accuracy')\n",
        "plt.ylabel('accuracy')\n",
        "plt.xlabel('epoch')\n",
        "plt.legend(['train', 'test'], loc='upper left')\n",
        "plt.show()"
      ],
      "execution_count": 26,
      "outputs": [
        {
          "output_type": "display_data",
          "data": {
            "image/png": "[encoded data removed]",
            "text/plain": [
              "<Figure size 432x288 with 1 Axes>"
            ]
          },
          "metadata": {
            "tags": [],
            "needs_background": "light"
          }
        }
      ]
    },
    {
      "cell_type": "code",
      "metadata": {
        "colab": {
          "base_uri": "https://localhost:8080/",
          "height": 294
        },
        "id": "bMLCTdaENSST",
        "outputId": "3212a6f6-8ba9-44c5-8bb3-de8a6b812bbd"
      },
      "source": [
        "# plot loss\n",
        "plt.plot(history.history['loss'])\n",
        "plt.plot(history.history['val_loss'])\n",
        "plt.title('model loss')\n",
        "plt.ylabel('loss')\n",
        "plt.xlabel('epoch')\n",
        "plt.legend(['train', 'test'], loc='upper left')\n",
        "plt.show()"
      ],
      "execution_count": 27,
      "outputs": [
        {
          "output_type": "display_data",
          "data": {
            "image/png": "[encoded data removed]",
            "text/plain": [
              "<Figure size 432x288 with 1 Axes>"
            ]
          },
          "metadata": {
            "tags": [],
            "needs_background": "light"
          }
        }
      ]
    },
    {
      "cell_type": "code",
      "metadata": {
        "id": "ktcrJw29iYyh"
      },
      "source": [
        "df = pd.DataFrame()\n",
        "raw_preds = model.predict(X_test)\n",
        "test_preds = np.where(raw_preds > 0.5, 1, 0)\n",
        "df[\"id\"] = test_data[\"id\"]\n",
        "df[\"target\"] = test_preds\n",
        "df.to_csv(\"lstm.csv\", index=False)"
      ],
      "execution_count": 28,
      "outputs": []
    },
    {
      "cell_type": "code",
      "metadata": {
        "id": "aiQaLpj8jFeL"
      },
      "source": [
        "# nice - this gets 0.77811 accuracy"
      ],
      "execution_count": 29,
      "outputs": []
    },
    {
      "cell_type": "markdown",
      "metadata": {
        "id": "Ivvp4GP4-Lag"
      },
      "source": [
        "## Bidirectional LSTM"
      ]
    },
    {
      "cell_type": "code",
      "metadata": {
        "id": "UIhTz5jl-uO1"
      },
      "source": [
        "from keras.layers import Bidirectional"
      ],
      "execution_count": 30,
      "outputs": []
    },
    {
      "cell_type": "code",
      "metadata": {
        "colab": {
          "base_uri": "https://localhost:8080/"
        },
        "id": "uKWK0VYH-Kwo",
        "outputId": "e95c8f02-0608-42de-abf6-6a811fbf02e2"
      },
      "source": [
        "bi_lstm_model = Sequential()\n",
        "bi_lstm_model.add(Embedding(len(tokenizer.word_counts) + 1, EMBEDDING_DIM, input_length=X_train.shape[1]))\n",
        "bi_lstm_model.add(Bidirectional(LSTM(64, return_sequences=True)))\n",
        "bi_lstm_model.add(Bidirectional(LSTM(64)))\n",
        "bi_lstm_model.add(Dense(16, activation='relu'))\n",
        "bi_lstm_model.add(Dense(1, activation='sigmoid'))\n",
        "optimizer = Adam(learning_rate=0.00002)\n",
        "bi_lstm_model.compile(loss='binary_crossentropy', optimizer=optimizer, metrics=['accuracy'])\n",
        "print(bi_lstm_model.summary())"
      ],
      "execution_count": 43,
      "outputs": [
        {
          "output_type": "stream",
          "text": [
            "Model: \"sequential_3\"\n",
            "_________________________________________________________________\n",
            "Layer (type)                 Output Shape              Param #   \n",
            "=================================================================\n",
            "embedding_3 (Embedding)      (None, 25, 128)           2682496   \n",
            "_________________________________________________________________\n",
            "bidirectional_4 (Bidirection (None, 25, 128)           98816     \n",
            "_________________________________________________________________\n",
            "bidirectional_5 (Bidirection (None, 128)               98816     \n",
            "_________________________________________________________________\n",
            "dense_6 (Dense)              (None, 16)                2064      \n",
            "_________________________________________________________________\n",
            "dense_7 (Dense)              (None, 1)                 17        \n",
            "=================================================================\n",
            "Total params: 2,882,209\n",
            "Trainable params: 2,882,209\n",
            "Non-trainable params: 0\n",
            "_________________________________________________________________\n",
            "None\n"
          ],
          "name": "stdout"
        }
      ]
    },
    {
      "cell_type": "code",
      "metadata": {
        "colab": {
          "base_uri": "https://localhost:8080/"
        },
        "id": "OF2w4K0G_EGu",
        "outputId": "44cad54d-0469-4223-c86e-98179bb668ad"
      },
      "source": [
        "epochs = 10\n",
        "batch_size = 64\n",
        "\n",
        "history = bi_lstm_model.fit(X_train, Y_train, epochs=epochs, batch_size=batch_size,validation_split=0.2)"
      ],
      "execution_count": 44,
      "outputs": [
        {
          "output_type": "stream",
          "text": [
            "Epoch 1/10\n",
            "96/96 [==============================] - 10s 49ms/step - loss: 0.6874 - accuracy: 0.5817 - val_loss: 0.6885 - val_accuracy: 0.5345\n",
            "Epoch 2/10\n",
            "96/96 [==============================] - 4s 38ms/step - loss: 0.6783 - accuracy: 0.5827 - val_loss: 0.6889 - val_accuracy: 0.5345\n",
            "Epoch 3/10\n",
            "96/96 [==============================] - 3s 36ms/step - loss: 0.6769 - accuracy: 0.5722 - val_loss: 0.6885 - val_accuracy: 0.5345\n",
            "Epoch 4/10\n",
            "96/96 [==============================] - 3s 36ms/step - loss: 0.6756 - accuracy: 0.5687 - val_loss: 0.6861 - val_accuracy: 0.5345\n",
            "Epoch 5/10\n",
            "96/96 [==============================] - 3s 36ms/step - loss: 0.6685 - accuracy: 0.5719 - val_loss: 0.6793 - val_accuracy: 0.5345\n",
            "Epoch 6/10\n",
            "96/96 [==============================] - 4s 37ms/step - loss: 0.6483 - accuracy: 0.5865 - val_loss: 0.6606 - val_accuracy: 0.5712\n",
            "Epoch 7/10\n",
            "96/96 [==============================] - 3s 36ms/step - loss: 0.6157 - accuracy: 0.6742 - val_loss: 0.6326 - val_accuracy: 0.6684\n",
            "Epoch 8/10\n",
            "96/96 [==============================] - 3s 36ms/step - loss: 0.5379 - accuracy: 0.7846 - val_loss: 0.5586 - val_accuracy: 0.7380\n",
            "Epoch 9/10\n",
            "96/96 [==============================] - 3s 36ms/step - loss: 0.3975 - accuracy: 0.8605 - val_loss: 0.5208 - val_accuracy: 0.7610\n",
            "Epoch 10/10\n",
            "96/96 [==============================] - 4s 37ms/step - loss: 0.2859 - accuracy: 0.8940 - val_loss: 0.5337 - val_accuracy: 0.7531\n"
          ],
          "name": "stdout"
        }
      ]
    },
    {
      "cell_type": "code",
      "metadata": {
        "colab": {
          "base_uri": "https://localhost:8080/",
          "height": 294
        },
        "id": "9JIgRHQwNEHF",
        "outputId": "7ceccf23-c470-4b57-989d-a59c232c1d87"
      },
      "source": [
        "# plot accuracy\n",
        "plt.plot(history.history['accuracy'])\n",
        "plt.plot(history.history['val_accuracy'])\n",
        "plt.title('model accuracy')\n",
        "plt.ylabel('accuracy')\n",
        "plt.xlabel('epoch')\n",
        "plt.legend(['train', 'test'], loc='upper left')\n",
        "plt.show()"
      ],
      "execution_count": 45,
      "outputs": [
        {
          "output_type": "display_data",
          "data": {
            "image/png": "[encoded data removed]",
            "text/plain": [
              "<Figure size 432x288 with 1 Axes>"
            ]
          },
          "metadata": {
            "tags": [],
            "needs_background": "light"
          }
        }
      ]
    },
    {
      "cell_type": "code",
      "metadata": {
        "colab": {
          "base_uri": "https://localhost:8080/",
          "height": 294
        },
        "id": "N3_CAaRoNGp9",
        "outputId": "f4b0194c-8d20-4432-82cc-f55690487f87"
      },
      "source": [
        "# plot loss\n",
        "plt.plot(history.history['loss'])\n",
        "plt.plot(history.history['val_loss'])\n",
        "plt.title('model loss')\n",
        "plt.ylabel('loss')\n",
        "plt.xlabel('epoch')\n",
        "plt.legend(['train', 'test'], loc='upper left')\n",
        "plt.show()"
      ],
      "execution_count": 46,
      "outputs": [
        {
          "output_type": "display_data",
          "data": {
            "image/png": "[encoded data removed]",
            "text/plain": [
              "<Figure size 432x288 with 1 Axes>"
            ]
          },
          "metadata": {
            "tags": [],
            "needs_background": "light"
          }
        }
      ]
    },
    {
      "cell_type": "code",
      "metadata": {
        "id": "3cpbN5Xx_VCl"
      },
      "source": [
        "df = pd.DataFrame()\n",
        "raw_preds = bi_lstm_model.predict(X_test)\n",
        "test_preds = np.where(raw_preds > 0.5, 1, 0)\n",
        "df[\"id\"] = test_data[\"id\"]\n",
        "df[\"target\"] = test_preds\n",
        "df.to_csv(\"bi_dir_lstm.csv\", index=False)"
      ],
      "execution_count": 47,
      "outputs": []
    },
    {
      "cell_type": "code",
      "metadata": {
        "id": "L3bBQfauAcRZ"
      },
      "source": [
        "# this gets about 0.79. Not much improvement"
      ],
      "execution_count": 36,
      "outputs": []
    },
    {
      "cell_type": "code",
      "metadata": {
        "id": "gKWJCf_-MXFp"
      },
      "source": [
        ""
      ],
      "execution_count": 36,
      "outputs": []
    }
  ]
}