{
  "cells": [
    {
      "cell_type": "markdown",
      "source": "# NLP - Disaster Data",
      "metadata": {
        "tags": [],
        "output_cleared": false,
        "cell_id": "00000-d31ee0f1-54ab-446e-adc3-6dc6c0f0d273",
        "deepnote_cell_type": "markdown"
      }
    },
    {
      "cell_type": "code",
      "metadata": {
        "tags": [],
        "output_cleared": false,
        "source_hash": "124f3ce4",
        "execution_millis": 1,
        "deepnote_to_be_reexecuted": false,
        "cell_id": "00002-dee8c0b3-b99a-42db-bc73-d2041dd76b96",
        "execution_start": 1617894026660,
        "deepnote_cell_type": "code"
      },
      "source": "import pandas as pd\n\ntrain_data = pd.read_csv(\"/home/jovyan/work/train.csv\")\ntest_data = pd.read_csv(\"/home/jovyan/work/test.csv\")",
      "execution_count": 19,
      "outputs": []
    },
    {
      "cell_type": "code",
      "metadata": {
        "tags": [],
        "output_cleared": false,
        "source_hash": "d36b4982",
        "execution_millis": 657,
        "deepnote_to_be_reexecuted": false,
        "cell_id": "00003-3b258036-3925-4be1-8219-b08b9ac85294",
        "execution_start": 1617894027000,
        "deepnote_cell_type": "code"
      },
      "source": "print(\"Training Data:\")\nprint(\"Shape - {}\".format(train_data.shape))\nprint(\"Columns - {}\".format(train_data.columns))\nprint(\"Memory Usage - {:.2f} MB\".format(train_data.memory_usage().sum() / 1024**2))\n\nprint(\"\\nTesting Data:\")\nprint(\"Shape - {}\".format(test_data.shape))\nprint(\"Columns - {}\".format(test_data.columns))\nprint(\"Memory Usage - {:.2f} MB\".format(test_data.memory_usage().sum() / 1024**2))\n",
      "execution_count": 20,
      "outputs": [
        {
          "name": "stdout",
          "text": "Training Data:\nShape - (7613, 5)\nColumns - Index(['id', 'keyword', 'location', 'text', 'target'], dtype='object')\nMemory Usage - 0.29 MB\n\nTesting Data:\nShape - (3263, 4)\nColumns - Index(['id', 'keyword', 'location', 'text'], dtype='object')\nMemory Usage - 0.10 MB\n",
          "output_type": "stream"
        }
      ]
    },
    {
      "cell_type": "code",
      "metadata": {
        "tags": [],
        "output_cleared": false,
        "source_hash": "33e89837",
        "execution_millis": 635,
        "deepnote_to_be_reexecuted": false,
        "cell_id": "00004-528044a5-3c32-4a2a-a9ba-a6d7cb2f7c37",
        "execution_start": 1617894027239,
        "deepnote_cell_type": "code"
      },
      "source": "train_data.head()",
      "execution_count": 21,
      "outputs": [
        {
          "output_type": "execute_result",
          "execution_count": 21,
          "data": {
            "application/vnd.deepnote.dataframe.v2+json": {
              "row_count": 5,
              "column_count": 5,
              "columns": [
                {
                  "name": "id",
                  "dtype": "int64",
                  "stats": {
                    "unique_count": 5,
                    "nan_count": 0,
                    "min": 1,
                    "max": 7,
                    "histogram": [
                      {
                        "bin_start": 1,
                        "bin_end": 1.6,
                        "count": 1
                      },
                      {
                        "bin_start": 1.6,
                        "bin_end": 2.2,
                        "count": 0
                      },
                      {
                        "bin_start": 2.2,
                        "bin_end": 2.8,
                        "count": 0
                      },
                      {
                        "bin_start": 2.8,
                        "bin_end": 3.4,
                        "count": 0
                      },
                      {
                        "bin_start": 3.4,
                        "bin_end": 4,
                        "count": 0
                      },
                      {
                        "bin_start": 4,
                        "bin_end": 4.6,
                        "count": 1
                      },
                      {
                        "bin_start": 4.6,
                        "bin_end": 5.2,
                        "count": 1
                      },
                      {
                        "bin_start": 5.2,
                        "bin_end": 5.8,
                        "count": 0
                      },
                      {
                        "bin_start": 5.8,
                        "bin_end": 6.3999999999999995,
                        "count": 1
                      },
                      {
                        "bin_start": 6.3999999999999995,
                        "bin_end": 7,
                        "count": 1
                      }
                    ]
                  }
                },
                {
                  "name": "keyword",
                  "dtype": "object",
                  "stats": {
                    "unique_count": 0,
                    "nan_count": 5,
                    "categories": [
                      {
                        "name": "Missing",
                        "count": 5
                      }
                    ]
                  }
                },
                {
                  "name": "location",
                  "dtype": "object",
                  "stats": {
                    "unique_count": 0,
                    "nan_count": 5,
                    "categories": [
                      {
                        "name": "Missing",
                        "count": 5
                      }
                    ]
                  }
                },
                {
                  "name": "text",
                  "dtype": "object",
                  "stats": {
                    "unique_count": 5,
                    "nan_count": 0,
                    "categories": [
                      {
                        "name": "Our Deeds are the Reason of this #earthquake May ALLAH Forgive us all",
                        "count": 1
                      },
                      {
                        "name": "Forest fire near La Ronge Sask. Canada",
                        "count": 1
                      },
                      {
                        "name": "3 others",
                        "count": 3
                      }
                    ]
                  }
                },
                {
                  "name": "target",
                  "dtype": "int64",
                  "stats": {
                    "unique_count": 1,
                    "nan_count": 0,
                    "min": 1,
                    "max": 1,
                    "histogram": [
                      {
                        "bin_start": 0.5,
                        "bin_end": 0.6,
                        "count": 0
                      },
                      {
                        "bin_start": 0.6,
                        "bin_end": 0.7,
                        "count": 0
                      },
                      {
                        "bin_start": 0.7,
                        "bin_end": 0.8,
                        "count": 0
                      },
                      {
                        "bin_start": 0.8,
                        "bin_end": 0.9,
                        "count": 0
                      },
                      {
                        "bin_start": 0.9,
                        "bin_end": 1,
                        "count": 0
                      },
                      {
                        "bin_start": 1,
                        "bin_end": 1.1,
                        "count": 5
                      },
                      {
                        "bin_start": 1.1,
                        "bin_end": 1.2000000000000002,
                        "count": 0
                      },
                      {
                        "bin_start": 1.2000000000000002,
                        "bin_end": 1.3,
                        "count": 0
                      },
                      {
                        "bin_start": 1.3,
                        "bin_end": 1.4,
                        "count": 0
                      },
                      {
                        "bin_start": 1.4,
                        "bin_end": 1.5,
                        "count": 0
                      }
                    ]
                  }
                },
                {
                  "name": "_deepnote_index_column",
                  "dtype": "int64"
                }
              ],
              "rows_top": [
                {
                  "id": 1,
                  "keyword": "nan",
                  "location": "nan",
                  "text": "Our Deeds are the Reason of this #earthquake May ALLAH Forgive us all",
                  "target": 1,
                  "_deepnote_index_column": 0
                },
                {
                  "id": 4,
                  "keyword": "nan",
                  "location": "nan",
                  "text": "Forest fire near La Ronge Sask. Canada",
                  "target": 1,
                  "_deepnote_index_column": 1
                },
                {
                  "id": 5,
                  "keyword": "nan",
                  "location": "nan",
                  "text": "All residents asked to 'shelter in place' are being notified by officers. No other evacuation or shelter in place orders are expected",
                  "target": 1,
                  "_deepnote_index_column": 2
                },
                {
                  "id": 6,
                  "keyword": "nan",
                  "location": "nan",
                  "text": "13,000 people receive #wildfires evacuation orders in California ",
                  "target": 1,
                  "_deepnote_index_column": 3
                },
                {
                  "id": 7,
                  "keyword": "nan",
                  "location": "nan",
                  "text": "Just got sent this photo from Ruby #Alaska as smoke from #wildfires pours into a school ",
                  "target": 1,
                  "_deepnote_index_column": 4
                }
              ],
              "rows_bottom": null
            },
            "text/plain": "   id keyword location                                               text  \\\n0   1     NaN      NaN  Our Deeds are the Reason of this #earthquake M...   \n1   4     NaN      NaN             Forest fire near La Ronge Sask. Canada   \n2   5     NaN      NaN  All residents asked to 'shelter in place' are ...   \n3   6     NaN      NaN  13,000 people receive #wildfires evacuation or...   \n4   7     NaN      NaN  Just got sent this photo from Ruby #Alaska as ...   \n\n   target  \n0       1  \n1       1  \n2       1  \n3       1  \n4       1  ",
            "text/html": "<div>\n<style scoped>\n    .dataframe tbody tr th:only-of-type {\n        vertical-align: middle;\n    }\n\n    .dataframe tbody tr th {\n        vertical-align: top;\n    }\n\n    .dataframe thead th {\n        text-align: right;\n    }\n</style>\n<table border=\"1\" class=\"dataframe\">\n  <thead>\n    <tr style=\"text-align: right;\">\n      <th></th>\n      <th>id</th>\n      <th>keyword</th>\n      <th>location</th>\n      <th>text</th>\n      <th>target</th>\n    </tr>\n  </thead>\n  <tbody>\n    <tr>\n      <th>0</th>\n      <td>1</td>\n      <td>NaN</td>\n      <td>NaN</td>\n      <td>Our Deeds are the Reason of this #earthquake M...</td>\n      <td>1</td>\n    </tr>\n    <tr>\n      <th>1</th>\n      <td>4</td>\n      <td>NaN</td>\n      <td>NaN</td>\n      <td>Forest fire near La Ronge Sask. Canada</td>\n      <td>1</td>\n    </tr>\n    <tr>\n      <th>2</th>\n      <td>5</td>\n      <td>NaN</td>\n      <td>NaN</td>\n      <td>All residents asked to 'shelter in place' are ...</td>\n      <td>1</td>\n    </tr>\n    <tr>\n      <th>3</th>\n      <td>6</td>\n      <td>NaN</td>\n      <td>NaN</td>\n      <td>13,000 people receive #wildfires evacuation or...</td>\n      <td>1</td>\n    </tr>\n    <tr>\n      <th>4</th>\n      <td>7</td>\n      <td>NaN</td>\n      <td>NaN</td>\n      <td>Just got sent this photo from Ruby #Alaska as ...</td>\n      <td>1</td>\n    </tr>\n  </tbody>\n</table>\n</div>"
          },
          "metadata": {}
        }
      ]
    },
    {
      "cell_type": "code",
      "metadata": {
        "tags": [],
        "output_cleared": false,
        "source_hash": "74dc1ffb",
        "execution_millis": 178,
        "deepnote_to_be_reexecuted": false,
        "cell_id": "00005-4d4aa59d-0f6a-440d-981f-c57d64c049f8",
        "execution_start": 1617894027699,
        "deepnote_cell_type": "code"
      },
      "source": "test_data.head()",
      "execution_count": 22,
      "outputs": [
        {
          "output_type": "execute_result",
          "execution_count": 22,
          "data": {
            "application/vnd.deepnote.dataframe.v2+json": {
              "row_count": 5,
              "column_count": 4,
              "columns": [
                {
                  "name": "id",
                  "dtype": "int64",
                  "stats": {
                    "unique_count": 5,
                    "nan_count": 0,
                    "min": 0,
                    "max": 11,
                    "histogram": [
                      {
                        "bin_start": 0,
                        "bin_end": 1.1,
                        "count": 1
                      },
                      {
                        "bin_start": 1.1,
                        "bin_end": 2.2,
                        "count": 1
                      },
                      {
                        "bin_start": 2.2,
                        "bin_end": 3.3000000000000003,
                        "count": 1
                      },
                      {
                        "bin_start": 3.3000000000000003,
                        "bin_end": 4.4,
                        "count": 0
                      },
                      {
                        "bin_start": 4.4,
                        "bin_end": 5.5,
                        "count": 0
                      },
                      {
                        "bin_start": 5.5,
                        "bin_end": 6.6000000000000005,
                        "count": 0
                      },
                      {
                        "bin_start": 6.6000000000000005,
                        "bin_end": 7.700000000000001,
                        "count": 0
                      },
                      {
                        "bin_start": 7.700000000000001,
                        "bin_end": 8.8,
                        "count": 0
                      },
                      {
                        "bin_start": 8.8,
                        "bin_end": 9.9,
                        "count": 1
                      },
                      {
                        "bin_start": 9.9,
                        "bin_end": 11,
                        "count": 1
                      }
                    ]
                  }
                },
                {
                  "name": "keyword",
                  "dtype": "object",
                  "stats": {
                    "unique_count": 0,
                    "nan_count": 5,
                    "categories": [
                      {
                        "name": "Missing",
                        "count": 5
                      }
                    ]
                  }
                },
                {
                  "name": "location",
                  "dtype": "object",
                  "stats": {
                    "unique_count": 0,
                    "nan_count": 5,
                    "categories": [
                      {
                        "name": "Missing",
                        "count": 5
                      }
                    ]
                  }
                },
                {
                  "name": "text",
                  "dtype": "object",
                  "stats": {
                    "unique_count": 5,
                    "nan_count": 0,
                    "categories": [
                      {
                        "name": "Just happened a terrible car crash",
                        "count": 1
                      },
                      {
                        "name": "Heard about #earthquake is different cities, stay safe everyone.",
                        "count": 1
                      },
                      {
                        "name": "3 others",
                        "count": 3
                      }
                    ]
                  }
                },
                {
                  "name": "_deepnote_index_column",
                  "dtype": "int64"
                }
              ],
              "rows_top": [
                {
                  "id": 0,
                  "keyword": "nan",
                  "location": "nan",
                  "text": "Just happened a terrible car crash",
                  "_deepnote_index_column": 0
                },
                {
                  "id": 2,
                  "keyword": "nan",
                  "location": "nan",
                  "text": "Heard about #earthquake is different cities, stay safe everyone.",
                  "_deepnote_index_column": 1
                },
                {
                  "id": 3,
                  "keyword": "nan",
                  "location": "nan",
                  "text": "there is a forest fire at spot pond, geese are fleeing across the street, I cannot save them all",
                  "_deepnote_index_column": 2
                },
                {
                  "id": 9,
                  "keyword": "nan",
                  "location": "nan",
                  "text": "Apocalypse lighting. #Spokane #wildfires",
                  "_deepnote_index_column": 3
                },
                {
                  "id": 11,
                  "keyword": "nan",
                  "location": "nan",
                  "text": "Typhoon Soudelor kills 28 in China and Taiwan",
                  "_deepnote_index_column": 4
                }
              ],
              "rows_bottom": null
            },
            "text/plain": "   id keyword location                                               text\n0   0     NaN      NaN                 Just happened a terrible car crash\n1   2     NaN      NaN  Heard about #earthquake is different cities, s...\n2   3     NaN      NaN  there is a forest fire at spot pond, geese are...\n3   9     NaN      NaN           Apocalypse lighting. #Spokane #wildfires\n4  11     NaN      NaN      Typhoon Soudelor kills 28 in China and Taiwan",
            "text/html": "<div>\n<style scoped>\n    .dataframe tbody tr th:only-of-type {\n        vertical-align: middle;\n    }\n\n    .dataframe tbody tr th {\n        vertical-align: top;\n    }\n\n    .dataframe thead th {\n        text-align: right;\n    }\n</style>\n<table border=\"1\" class=\"dataframe\">\n  <thead>\n    <tr style=\"text-align: right;\">\n      <th></th>\n      <th>id</th>\n      <th>keyword</th>\n      <th>location</th>\n      <th>text</th>\n    </tr>\n  </thead>\n  <tbody>\n    <tr>\n      <th>0</th>\n      <td>0</td>\n      <td>NaN</td>\n      <td>NaN</td>\n      <td>Just happened a terrible car crash</td>\n    </tr>\n    <tr>\n      <th>1</th>\n      <td>2</td>\n      <td>NaN</td>\n      <td>NaN</td>\n      <td>Heard about #earthquake is different cities, s...</td>\n    </tr>\n    <tr>\n      <th>2</th>\n      <td>3</td>\n      <td>NaN</td>\n      <td>NaN</td>\n      <td>there is a forest fire at spot pond, geese are...</td>\n    </tr>\n    <tr>\n      <th>3</th>\n      <td>9</td>\n      <td>NaN</td>\n      <td>NaN</td>\n      <td>Apocalypse lighting. #Spokane #wildfires</td>\n    </tr>\n    <tr>\n      <th>4</th>\n      <td>11</td>\n      <td>NaN</td>\n      <td>NaN</td>\n      <td>Typhoon Soudelor kills 28 in China and Taiwan</td>\n    </tr>\n  </tbody>\n</table>\n</div>"
          },
          "metadata": {}
        }
      ]
    },
    {
      "cell_type": "code",
      "metadata": {
        "tags": [],
        "output_cleared": false,
        "source_hash": "198bef5",
        "execution_millis": 81,
        "deepnote_to_be_reexecuted": false,
        "cell_id": "00006-2954681a-bf44-4558-80c6-b84f508f9820",
        "execution_start": 1617894027796,
        "deepnote_cell_type": "code"
      },
      "source": "print(\"Distinct keywords for test data: {}\".format(test_data.keyword.drop_duplicates().count()))\nprint(\"Distinct keywords for test data: {}\".format(train_data.keyword.drop_duplicates().count()))",
      "execution_count": 23,
      "outputs": [
        {
          "name": "stdout",
          "text": "Distinct keywords for test data: 221\nDistinct keywords for test data: 221\n",
          "output_type": "stream"
        }
      ]
    },
    {
      "cell_type": "code",
      "metadata": {
        "tags": [],
        "output_cleared": false,
        "source_hash": "1f7ca3b1",
        "execution_millis": 11,
        "deepnote_to_be_reexecuted": false,
        "cell_id": "00007-86c5ca97-3e2f-411d-b1dc-8f8e4e8a5bd3",
        "execution_start": 1617894029150,
        "deepnote_cell_type": "code"
      },
      "source": "# Find count of words that are in both \nkeywords = []\nfor word in test_data.keyword.drop_duplicates():\n    keywords.append(word)\nfor word in train_data.keyword.drop_duplicates():\n    if word not in keywords:\n        keywords.append(word)\n\nprint(\"Count of words in training data that aren't in test data: {}\".format(len(keywords) - test_data.keyword.drop_duplicates().count()))",
      "execution_count": 24,
      "outputs": [
        {
          "name": "stdout",
          "text": "Count of words in training data that aren't in test data: 1\n",
          "output_type": "stream"
        }
      ]
    },
    {
      "cell_type": "markdown",
      "source": "Both datasets have the same number of keywords. There is one keyword in training dataset that isn't in testing dataset. ",
      "metadata": {
        "tags": [],
        "output_cleared": false,
        "cell_id": "00008-c6526973-6c63-4fc2-be4b-4b8ef94b6991",
        "deepnote_cell_type": "markdown"
      }
    },
    {
      "cell_type": "code",
      "metadata": {
        "tags": [],
        "output_cleared": false,
        "source_hash": "2c250b3a",
        "execution_millis": 20,
        "deepnote_to_be_reexecuted": false,
        "cell_id": "00009-fe890b1a-4f4b-4a93-aec9-e7d8fedd0d18",
        "execution_start": 1617894029836,
        "deepnote_cell_type": "code"
      },
      "source": "train_data.target.value_counts()",
      "execution_count": 25,
      "outputs": [
        {
          "output_type": "execute_result",
          "execution_count": 25,
          "data": {
            "text/plain": "0    4342\n1    3271\nName: target, dtype: int64"
          },
          "metadata": {}
        }
      ]
    },
    {
      "cell_type": "code",
      "metadata": {
        "tags": [],
        "output_cleared": false,
        "source_hash": "773472cc",
        "execution_millis": 269,
        "deepnote_to_be_reexecuted": false,
        "cell_id": "00010-2b284002-409c-4c65-921d-4fa8198dd612",
        "execution_start": 1617894030739,
        "deepnote_cell_type": "code"
      },
      "source": "import matplotlib.pyplot as plt\n\nplt.figure(figsize=(30,10))\nplt.title(\"Train Data: target\", fontsize=20)\ntrain_data.target.value_counts().plot(kind=\"pie\",\n                                    labels=[\"Real\", \"Fake\"],\n                                    wedgeprops=dict(width=.7),\n                                    autopct=\"%1.0f%%\",\n                                    startangle=-20,\n                                    textprops={\"fontsize\": 15})",
      "execution_count": 26,
      "outputs": [
        {
          "output_type": "execute_result",
          "execution_count": 26,
          "data": {
            "text/plain": "<AxesSubplot:title={'center':'Train Data: target'}, ylabel='target'>"
          },
          "metadata": {}
        },
        {
          "data": {
            "text/plain": "<Figure size 2160x720 with 1 Axes>",
            "image/png": "[encoded data removed]"
          },
          "metadata": {},
          "output_type": "display_data"
        }
      ]
    },
    {
      "cell_type": "markdown",
      "source": "There are a few more real examples than there are fake ones, it's good that it's a faily even split, it will be good to have plenty of both instances to work with.",
      "metadata": {
        "tags": [],
        "output_cleared": false,
        "cell_id": "00011-4eb24dc4-1489-44bc-ac9f-a5f0cd2b6170",
        "deepnote_cell_type": "markdown"
      }
    },
    {
      "cell_type": "markdown",
      "source": "Now we preprocess the data.",
      "metadata": {
        "tags": [],
        "cell_id": "00011-d67fa81f-6bec-4987-84e0-4d8caf2335c1",
        "deepnote_cell_type": "markdown"
      }
    },
    {
      "cell_type": "code",
      "metadata": {
        "tags": [],
        "output_cleared": false,
        "source_hash": "9075bbb0",
        "execution_millis": 136,
        "deepnote_to_be_reexecuted": false,
        "cell_id": "00012-bb31f8d6-81b7-418d-993b-dedf54d4a580",
        "execution_start": 1617894032865,
        "deepnote_cell_type": "code"
      },
      "source": "train_data.text.head()",
      "execution_count": 27,
      "outputs": [
        {
          "output_type": "execute_result",
          "execution_count": 27,
          "data": {
            "text/plain": "0    Our Deeds are the Reason of this #earthquake M...\n1               Forest fire near La Ronge Sask. Canada\n2    All residents asked to 'shelter in place' are ...\n3    13,000 people receive #wildfires evacuation or...\n4    Just got sent this photo from Ruby #Alaska as ...\nName: text, dtype: object"
          },
          "metadata": {}
        }
      ]
    },
    {
      "cell_type": "code",
      "metadata": {
        "tags": [],
        "output_cleared": false,
        "source_hash": "6864db81",
        "execution_millis": 7488,
        "deepnote_to_be_reexecuted": false,
        "cell_id": "00013-9868aa9a-1db6-43bb-b416-9d6975dcbfff",
        "execution_start": 1617894033934,
        "deepnote_cell_type": "code"
      },
      "source": "!pip install nltk==3.5\nimport nltk; nltk.download(\"stopwords\")\n!pip install textblob==0.15.3\n!python -m textblob.download_corpora\n\ndef preprocessing_data(data):\n    # Change all text to lowercase\n    data.text = data.text.apply(lambda x: \" \".join(x.lower() for x in x.split()))\n    \n    # Remove punctuation \n    data.text = data.text.str.replace(\"[^\\w\\s]\",\"\")\n\n    # Remove stopwords\n    from nltk.corpus import stopwords\n    stop = stopwords.words(\"english\")\n    data.text = data.text.apply(lambda x: \" \".join(x for x in x.split() if x not in stop))\n\n    # Lemmatize words\n    from textblob import Word\n    data.text = data.text.apply(lambda x: \" \".join([Word(word).lemmatize() for word in x.split()]))\n\n    # Remove words with length below 3\n    data.text = data.text.apply(lambda x: \" \".join(x for x in x.split() if len(x) > 2))\n\n    # Remove rare words\n    freq = pd.Series(\" \".join(data).split()).value_counts()[-10:]\n    freq = list(freq.index)\n    data.text = data.text.apply(lambda x: \" \".join(x for x in x.split() if x not in freq))\n\n    # Remove common words\n    freq = pd.Series(\" \".join(data).split()).value_counts()[:10]\n    freq = list(freq.index) \n    data.text = data.text.apply(lambda x: \" \".join(x for x in x.split() if x not in freq))\n\n    return data",
      "execution_count": 28,
      "outputs": [
        {
          "name": "stdout",
          "text": "Requirement already satisfied: nltk==3.5 in /shared-libs/python3.7/py/lib/python3.7/site-packages (3.5)\nRequirement already satisfied: regex in /shared-libs/python3.7/py/lib/python3.7/site-packages (from nltk==3.5) (2020.11.13)\nRequirement already satisfied: joblib in /shared-libs/python3.7/py/lib/python3.7/site-packages (from nltk==3.5) (1.0.1)\nRequirement already satisfied: tqdm in /shared-libs/python3.7/py/lib/python3.7/site-packages (from nltk==3.5) (4.59.0)\nRequirement already satisfied: click in /shared-libs/python3.7/py/lib/python3.7/site-packages (from nltk==3.5) (7.1.2)\n\u001b[33mWARNING: You are using pip version 20.1.1; however, version 21.0.1 is available.\nYou should consider upgrading via the '/root/venv/bin/python -m pip install --upgrade pip' command.\u001b[0m\n[nltk_data] Downloading package stopwords to /root/nltk_data...\n[nltk_data]   Package stopwords is already up-to-date!\nRequirement already satisfied: textblob==0.15.3 in /shared-libs/python3.7/py/lib/python3.7/site-packages (0.15.3)\nRequirement already satisfied: nltk>=3.1 in /shared-libs/python3.7/py/lib/python3.7/site-packages (from textblob==0.15.3) (3.5)\nRequirement already satisfied: regex in /shared-libs/python3.7/py/lib/python3.7/site-packages (from nltk>=3.1->textblob==0.15.3) (2020.11.13)\nRequirement already satisfied: tqdm in /shared-libs/python3.7/py/lib/python3.7/site-packages (from nltk>=3.1->textblob==0.15.3) (4.59.0)\nRequirement already satisfied: joblib in /shared-libs/python3.7/py/lib/python3.7/site-packages (from nltk>=3.1->textblob==0.15.3) (1.0.1)\nRequirement already satisfied: click in /shared-libs/python3.7/py/lib/python3.7/site-packages (from nltk>=3.1->textblob==0.15.3) (7.1.2)\n\u001b[33mWARNING: You are using pip version 20.1.1; however, version 21.0.1 is available.\nYou should consider upgrading via the '/root/venv/bin/python -m pip install --upgrade pip' command.\u001b[0m\n[nltk_data] Downloading package brown to /root/nltk_data...\n[nltk_data]   Package brown is already up-to-date!\n[nltk_data] Downloading package punkt to /root/nltk_data...\n[nltk_data]   Package punkt is already up-to-date!\n[nltk_data] Downloading package wordnet to /root/nltk_data...\n[nltk_data]   Package wordnet is already up-to-date!\n[nltk_data] Downloading package averaged_perceptron_tagger to\n[nltk_data]     /root/nltk_data...\n[nltk_data]   Package averaged_perceptron_tagger is already up-to-\n[nltk_data]       date!\n[nltk_data] Downloading package conll2000 to /root/nltk_data...\n[nltk_data]   Package conll2000 is already up-to-date!\n[nltk_data] Downloading package movie_reviews to /root/nltk_data...\n[nltk_data]   Package movie_reviews is already up-to-date!\nFinished.\n",
          "output_type": "stream"
        }
      ]
    },
    {
      "cell_type": "code",
      "metadata": {
        "tags": [],
        "output_cleared": false,
        "source_hash": "b2f2eb2e",
        "execution_millis": 1101,
        "deepnote_to_be_reexecuted": false,
        "cell_id": "00014-659b2051-33ae-477c-baf4-ff2c8d59d57f",
        "execution_start": 1617894041410,
        "deepnote_cell_type": "code"
      },
      "source": "train_data = preprocessing_data(train_data)\ntest_data = preprocessing_data(test_data)",
      "execution_count": 29,
      "outputs": [
        {
          "name": "stderr",
          "text": "/shared-libs/python3.7/py-core/lib/python3.7/site-packages/ipykernel_launcher.py:11: FutureWarning: The default value of regex will change from True to False in a future version.\n  # This is added back by InteractiveShellApp.init_path()\n",
          "output_type": "stream"
        }
      ]
    },
    {
      "cell_type": "code",
      "metadata": {
        "tags": [],
        "output_cleared": false,
        "source_hash": "33e89837",
        "execution_millis": 435,
        "deepnote_to_be_reexecuted": false,
        "cell_id": "00015-ebeb8451-67df-451f-a70e-d0b46140430f",
        "execution_start": 1617894042517,
        "deepnote_cell_type": "code"
      },
      "source": "train_data.head()",
      "execution_count": 30,
      "outputs": [
        {
          "output_type": "execute_result",
          "execution_count": 30,
          "data": {
            "application/vnd.deepnote.dataframe.v2+json": {
              "row_count": 5,
              "column_count": 5,
              "columns": [
                {
                  "name": "id",
                  "dtype": "int64",
                  "stats": {
                    "unique_count": 5,
                    "nan_count": 0,
                    "min": 1,
                    "max": 7,
                    "histogram": [
                      {
                        "bin_start": 1,
                        "bin_end": 1.6,
                        "count": 1
                      },
                      {
                        "bin_start": 1.6,
                        "bin_end": 2.2,
                        "count": 0
                      },
                      {
                        "bin_start": 2.2,
                        "bin_end": 2.8,
                        "count": 0
                      },
                      {
                        "bin_start": 2.8,
                        "bin_end": 3.4,
                        "count": 0
                      },
                      {
                        "bin_start": 3.4,
                        "bin_end": 4,
                        "count": 0
                      },
                      {
                        "bin_start": 4,
                        "bin_end": 4.6,
                        "count": 1
                      },
                      {
                        "bin_start": 4.6,
                        "bin_end": 5.2,
                        "count": 1
                      },
                      {
                        "bin_start": 5.2,
                        "bin_end": 5.8,
                        "count": 0
                      },
                      {
                        "bin_start": 5.8,
                        "bin_end": 6.3999999999999995,
                        "count": 1
                      },
                      {
                        "bin_start": 6.3999999999999995,
                        "bin_end": 7,
                        "count": 1
                      }
                    ]
                  }
                },
                {
                  "name": "keyword",
                  "dtype": "object",
                  "stats": {
                    "unique_count": 0,
                    "nan_count": 5,
                    "categories": [
                      {
                        "name": "Missing",
                        "count": 5
                      }
                    ]
                  }
                },
                {
                  "name": "location",
                  "dtype": "object",
                  "stats": {
                    "unique_count": 0,
                    "nan_count": 5,
                    "categories": [
                      {
                        "name": "Missing",
                        "count": 5
                      }
                    ]
                  }
                },
                {
                  "name": "text",
                  "dtype": "object",
                  "stats": {
                    "unique_count": 5,
                    "nan_count": 0,
                    "categories": [
                      {
                        "name": "deed reason earthquake may allah forgive",
                        "count": 1
                      },
                      {
                        "name": "forest fire near ronge sask canada",
                        "count": 1
                      },
                      {
                        "name": "3 others",
                        "count": 3
                      }
                    ]
                  }
                },
                {
                  "name": "target",
                  "dtype": "int64",
                  "stats": {
                    "unique_count": 1,
                    "nan_count": 0,
                    "min": 1,
                    "max": 1,
                    "histogram": [
                      {
                        "bin_start": 0.5,
                        "bin_end": 0.6,
                        "count": 0
                      },
                      {
                        "bin_start": 0.6,
                        "bin_end": 0.7,
                        "count": 0
                      },
                      {
                        "bin_start": 0.7,
                        "bin_end": 0.8,
                        "count": 0
                      },
                      {
                        "bin_start": 0.8,
                        "bin_end": 0.9,
                        "count": 0
                      },
                      {
                        "bin_start": 0.9,
                        "bin_end": 1,
                        "count": 0
                      },
                      {
                        "bin_start": 1,
                        "bin_end": 1.1,
                        "count": 5
                      },
                      {
                        "bin_start": 1.1,
                        "bin_end": 1.2000000000000002,
                        "count": 0
                      },
                      {
                        "bin_start": 1.2000000000000002,
                        "bin_end": 1.3,
                        "count": 0
                      },
                      {
                        "bin_start": 1.3,
                        "bin_end": 1.4,
                        "count": 0
                      },
                      {
                        "bin_start": 1.4,
                        "bin_end": 1.5,
                        "count": 0
                      }
                    ]
                  }
                },
                {
                  "name": "_deepnote_index_column",
                  "dtype": "int64"
                }
              ],
              "rows_top": [
                {
                  "id": 1,
                  "keyword": "nan",
                  "location": "nan",
                  "text": "deed reason earthquake may allah forgive",
                  "target": 1,
                  "_deepnote_index_column": 0
                },
                {
                  "id": 4,
                  "keyword": "nan",
                  "location": "nan",
                  "text": "forest fire near ronge sask canada",
                  "target": 1,
                  "_deepnote_index_column": 1
                },
                {
                  "id": 5,
                  "keyword": "nan",
                  "location": "nan",
                  "text": "resident asked shelter place notified officer evacuation shelter place order expected",
                  "target": 1,
                  "_deepnote_index_column": 2
                },
                {
                  "id": 6,
                  "keyword": "nan",
                  "location": "nan",
                  "text": "13000 people receive wildfire evacuation order california",
                  "target": 1,
                  "_deepnote_index_column": 3
                },
                {
                  "id": 7,
                  "keyword": "nan",
                  "location": "nan",
                  "text": "got sent photo ruby alaska smoke wildfire pours school",
                  "target": 1,
                  "_deepnote_index_column": 4
                }
              ],
              "rows_bottom": null
            },
            "text/plain": "   id keyword location                                               text  \\\n0   1     NaN      NaN           deed reason earthquake may allah forgive   \n1   4     NaN      NaN                 forest fire near ronge sask canada   \n2   5     NaN      NaN  resident asked shelter place notified officer ...   \n3   6     NaN      NaN  13000 people receive wildfire evacuation order...   \n4   7     NaN      NaN  got sent photo ruby alaska smoke wildfire pour...   \n\n   target  \n0       1  \n1       1  \n2       1  \n3       1  \n4       1  ",
            "text/html": "<div>\n<style scoped>\n    .dataframe tbody tr th:only-of-type {\n        vertical-align: middle;\n    }\n\n    .dataframe tbody tr th {\n        vertical-align: top;\n    }\n\n    .dataframe thead th {\n        text-align: right;\n    }\n</style>\n<table border=\"1\" class=\"dataframe\">\n  <thead>\n    <tr style=\"text-align: right;\">\n      <th></th>\n      <th>id</th>\n      <th>keyword</th>\n      <th>location</th>\n      <th>text</th>\n      <th>target</th>\n    </tr>\n  </thead>\n  <tbody>\n    <tr>\n      <th>0</th>\n      <td>1</td>\n      <td>NaN</td>\n      <td>NaN</td>\n      <td>deed reason earthquake may allah forgive</td>\n      <td>1</td>\n    </tr>\n    <tr>\n      <th>1</th>\n      <td>4</td>\n      <td>NaN</td>\n      <td>NaN</td>\n      <td>forest fire near ronge sask canada</td>\n      <td>1</td>\n    </tr>\n    <tr>\n      <th>2</th>\n      <td>5</td>\n      <td>NaN</td>\n      <td>NaN</td>\n      <td>resident asked shelter place notified officer ...</td>\n      <td>1</td>\n    </tr>\n    <tr>\n      <th>3</th>\n      <td>6</td>\n      <td>NaN</td>\n      <td>NaN</td>\n      <td>13000 people receive wildfire evacuation order...</td>\n      <td>1</td>\n    </tr>\n    <tr>\n      <th>4</th>\n      <td>7</td>\n      <td>NaN</td>\n      <td>NaN</td>\n      <td>got sent photo ruby alaska smoke wildfire pour...</td>\n      <td>1</td>\n    </tr>\n  </tbody>\n</table>\n</div>"
          },
          "metadata": {}
        }
      ]
    },
    {
      "cell_type": "code",
      "metadata": {
        "tags": [],
        "output_cleared": false,
        "source_hash": "74dc1ffb",
        "execution_millis": 394,
        "deepnote_to_be_reexecuted": false,
        "cell_id": "00016-f4e5bf7e-6806-4d51-90a7-88d11ed23fff",
        "execution_start": 1617894042561,
        "deepnote_cell_type": "code"
      },
      "source": "test_data.head()",
      "execution_count": 31,
      "outputs": [
        {
          "output_type": "execute_result",
          "execution_count": 31,
          "data": {
            "application/vnd.deepnote.dataframe.v2+json": {
              "row_count": 5,
              "column_count": 4,
              "columns": [
                {
                  "name": "id",
                  "dtype": "int64",
                  "stats": {
                    "unique_count": 5,
                    "nan_count": 0,
                    "min": 0,
                    "max": 11,
                    "histogram": [
                      {
                        "bin_start": 0,
                        "bin_end": 1.1,
                        "count": 1
                      },
                      {
                        "bin_start": 1.1,
                        "bin_end": 2.2,
                        "count": 1
                      },
                      {
                        "bin_start": 2.2,
                        "bin_end": 3.3000000000000003,
                        "count": 1
                      },
                      {
                        "bin_start": 3.3000000000000003,
                        "bin_end": 4.4,
                        "count": 0
                      },
                      {
                        "bin_start": 4.4,
                        "bin_end": 5.5,
                        "count": 0
                      },
                      {
                        "bin_start": 5.5,
                        "bin_end": 6.6000000000000005,
                        "count": 0
                      },
                      {
                        "bin_start": 6.6000000000000005,
                        "bin_end": 7.700000000000001,
                        "count": 0
                      },
                      {
                        "bin_start": 7.700000000000001,
                        "bin_end": 8.8,
                        "count": 0
                      },
                      {
                        "bin_start": 8.8,
                        "bin_end": 9.9,
                        "count": 1
                      },
                      {
                        "bin_start": 9.9,
                        "bin_end": 11,
                        "count": 1
                      }
                    ]
                  }
                },
                {
                  "name": "keyword",
                  "dtype": "object",
                  "stats": {
                    "unique_count": 0,
                    "nan_count": 5,
                    "categories": [
                      {
                        "name": "Missing",
                        "count": 5
                      }
                    ]
                  }
                },
                {
                  "name": "location",
                  "dtype": "object",
                  "stats": {
                    "unique_count": 0,
                    "nan_count": 5,
                    "categories": [
                      {
                        "name": "Missing",
                        "count": 5
                      }
                    ]
                  }
                },
                {
                  "name": "text",
                  "dtype": "object",
                  "stats": {
                    "unique_count": 5,
                    "nan_count": 0,
                    "categories": [
                      {
                        "name": "happened terrible car crash",
                        "count": 1
                      },
                      {
                        "name": "heard earthquake different city stay safe everyone",
                        "count": 1
                      },
                      {
                        "name": "3 others",
                        "count": 3
                      }
                    ]
                  }
                },
                {
                  "name": "_deepnote_index_column",
                  "dtype": "int64"
                }
              ],
              "rows_top": [
                {
                  "id": 0,
                  "keyword": "nan",
                  "location": "nan",
                  "text": "happened terrible car crash",
                  "_deepnote_index_column": 0
                },
                {
                  "id": 2,
                  "keyword": "nan",
                  "location": "nan",
                  "text": "heard earthquake different city stay safe everyone",
                  "_deepnote_index_column": 1
                },
                {
                  "id": 3,
                  "keyword": "nan",
                  "location": "nan",
                  "text": "forest fire spot pond goose fleeing across street cannot save",
                  "_deepnote_index_column": 2
                },
                {
                  "id": 9,
                  "keyword": "nan",
                  "location": "nan",
                  "text": "apocalypse lighting spokane wildfire",
                  "_deepnote_index_column": 3
                },
                {
                  "id": 11,
                  "keyword": "nan",
                  "location": "nan",
                  "text": "typhoon soudelor kill china taiwan",
                  "_deepnote_index_column": 4
                }
              ],
              "rows_bottom": null
            },
            "text/plain": "   id keyword location                                               text\n0   0     NaN      NaN                        happened terrible car crash\n1   2     NaN      NaN  heard earthquake different city stay safe ever...\n2   3     NaN      NaN  forest fire spot pond goose fleeing across str...\n3   9     NaN      NaN               apocalypse lighting spokane wildfire\n4  11     NaN      NaN                 typhoon soudelor kill china taiwan",
            "text/html": "<div>\n<style scoped>\n    .dataframe tbody tr th:only-of-type {\n        vertical-align: middle;\n    }\n\n    .dataframe tbody tr th {\n        vertical-align: top;\n    }\n\n    .dataframe thead th {\n        text-align: right;\n    }\n</style>\n<table border=\"1\" class=\"dataframe\">\n  <thead>\n    <tr style=\"text-align: right;\">\n      <th></th>\n      <th>id</th>\n      <th>keyword</th>\n      <th>location</th>\n      <th>text</th>\n    </tr>\n  </thead>\n  <tbody>\n    <tr>\n      <th>0</th>\n      <td>0</td>\n      <td>NaN</td>\n      <td>NaN</td>\n      <td>happened terrible car crash</td>\n    </tr>\n    <tr>\n      <th>1</th>\n      <td>2</td>\n      <td>NaN</td>\n      <td>NaN</td>\n      <td>heard earthquake different city stay safe ever...</td>\n    </tr>\n    <tr>\n      <th>2</th>\n      <td>3</td>\n      <td>NaN</td>\n      <td>NaN</td>\n      <td>forest fire spot pond goose fleeing across str...</td>\n    </tr>\n    <tr>\n      <th>3</th>\n      <td>9</td>\n      <td>NaN</td>\n      <td>NaN</td>\n      <td>apocalypse lighting spokane wildfire</td>\n    </tr>\n    <tr>\n      <th>4</th>\n      <td>11</td>\n      <td>NaN</td>\n      <td>NaN</td>\n      <td>typhoon soudelor kill china taiwan</td>\n    </tr>\n  </tbody>\n</table>\n</div>"
          },
          "metadata": {}
        }
      ]
    },
    {
      "cell_type": "code",
      "source": "from sklearn.feature_extraction.text import TfidfVectorizer\n\nX_train = train_data[\"text\"]\ny_train = train_data[\"target\"]\nX_test = test_data[\"text\"]\n\nvectorizer = TfidfVectorizer()\nX_train = vectorizer.fit_transform(X_train)",
      "metadata": {
        "tags": [],
        "cell_id": "00017-675d1a4a-143e-4834-8c4e-a568db4930b4",
        "deepnote_to_be_reexecuted": false,
        "source_hash": "dfb131eb",
        "execution_millis": 77,
        "execution_start": 1617894042611,
        "deepnote_cell_type": "code"
      },
      "outputs": [],
      "execution_count": 32
    },
    {
      "cell_type": "code",
      "source": "from sklearn import svm\n\nsvm = svm.SVC(C=100)\n\nsvm.fit(X_train, y_train)",
      "metadata": {
        "tags": [],
        "cell_id": "00018-47016025-f4e4-4e22-abf9-d6429e52a3b5",
        "deepnote_to_be_reexecuted": false,
        "source_hash": "ef6f8860",
        "execution_millis": 7516,
        "execution_start": 1617894042722,
        "deepnote_cell_type": "code"
      },
      "outputs": [
        {
          "output_type": "execute_result",
          "execution_count": 33,
          "data": {
            "text/plain": "SVC(C=100)"
          },
          "metadata": {}
        }
      ],
      "execution_count": 33
    },
    {
      "cell_type": "code",
      "source": "from sklearn.metrics import accuracy_score\n\nX_test = vectorizer.transform(X_test)\ntest_preds = svm.predict(X_test)\n\ndf = pd.DataFrame()\ndf[\"id\"] = test_data[\"id\"]\ndf[\"target\"] = test_preds \ndf.to_csv(\"svm.csv\", index=False)",
      "metadata": {
        "tags": [],
        "cell_id": "00019-05320b9a-fb8c-4944-8b95-a89047ac1f02",
        "deepnote_to_be_reexecuted": false,
        "source_hash": "3656e2f3",
        "execution_millis": 1997,
        "execution_start": 1617894050267,
        "deepnote_cell_type": "code"
      },
      "outputs": [],
      "execution_count": 34
    },
    {
      "cell_type": "code",
      "source": "",
      "metadata": {
        "tags": [],
        "cell_id": "00020-2e5cab5c-e169-47b1-a355-e3389d65a180",
        "deepnote_cell_type": "code"
      },
      "outputs": [],
      "execution_count": null
    },
    {
      "cell_type": "markdown",
      "source": "<a style='text-decoration:none;line-height:16px;display:flex;color:#5B5B62;padding:10px;justify-content:end;' href='https://deepnote.com?utm_source=created-in-deepnote-cell&projectId=c78c5abb-b247-4c0f-b58d-e41858636e8c' target=\"_blank\">\n<img alt='Created in deepnote.com' style='display:inline;max-height:16px;margin:0px;margin-right:7.5px;' src='data:image/svg+xml;base64,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' > </img>\nCreated in <span style='font-weight:600;margin-left:4px;'>Deepnote</span></a>",
      "metadata": {
        "tags": [],
        "created_in_deepnote_cell": true,
        "deepnote_cell_type": "markdown"
      }
    }
  ],
  "nbformat": 4,
  "nbformat_minor": 2,
  "metadata": {
    "orig_nbformat": 2,
    "deepnote_notebook_id": "c4a13d9a-9adf-48b2-96f2-208711a47f35",
    "deepnote_execution_queue": [],
    "deepnote": {}
  }
}