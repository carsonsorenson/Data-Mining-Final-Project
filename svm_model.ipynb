{
  "nbformat": 4,
  "nbformat_minor": 0,
  "metadata": {
    "orig_nbformat": 2,
    "deepnote_notebook_id": "c4a13d9a-9adf-48b2-96f2-208711a47f35",
    "deepnote_execution_queue": [],
    "deepnote": {},
    "colab": {
      "name": "svm_model.ipynb",
      "provenance": [],
      "collapsed_sections": [],
      "toc_visible": true
    },
    "language_info": {
      "name": "python"
    },
    "kernelspec": {
      "name": "python3",
      "display_name": "Python 3"
    },
    "accelerator": "GPU"
  },
  "cells": [
    {
      "cell_type": "markdown",
      "metadata": {
        "tags": [],
        "output_cleared": false,
        "cell_id": "00000-d31ee0f1-54ab-446e-adc3-6dc6c0f0d273",
        "deepnote_cell_type": "markdown",
        "id": "qAfDiglRgUgn"
      },
      "source": [
        "# NLP - Disaster Data"
      ]
    },
    {
      "cell_type": "code",
      "metadata": {
        "tags": [],
        "output_cleared": false,
        "source_hash": "124f3ce4",
        "execution_millis": 1,
        "deepnote_to_be_reexecuted": false,
        "cell_id": "00002-dee8c0b3-b99a-42db-bc73-d2041dd76b96",
        "execution_start": 1617894026660,
        "deepnote_cell_type": "code",
        "id": "szgSF7tvgUgq"
      },
      "source": [
        "import pandas as pd\n",
        "import numpy as np\n",
        "\n",
        "train_data = pd.read_csv(\"train.csv\")\n",
        "test_data = pd.read_csv(\"test.csv\")"
      ],
      "execution_count": 33,
      "outputs": []
    },
    {
      "cell_type": "code",
      "metadata": {
        "tags": [],
        "output_cleared": false,
        "source_hash": "d36b4982",
        "execution_millis": 657,
        "deepnote_to_be_reexecuted": false,
        "cell_id": "00003-3b258036-3925-4be1-8219-b08b9ac85294",
        "execution_start": 1617894027000,
        "deepnote_cell_type": "code",
        "colab": {
          "base_uri": "https://localhost:8080/"
        },
        "id": "qXgw7u-RgUgr",
        "outputId": "dc5538a8-30ec-4996-a966-ef7fc2008cba"
      },
      "source": [
        "print(\"Training Data:\")\n",
        "print(\"Shape - {}\".format(train_data.shape))\n",
        "print(\"Columns - {}\".format(train_data.columns))\n",
        "print(\"Memory Usage - {:.2f} MB\".format(train_data.memory_usage().sum() / 1024**2))\n",
        "\n",
        "print(\"\\nTesting Data:\")\n",
        "print(\"Shape - {}\".format(test_data.shape))\n",
        "print(\"Columns - {}\".format(test_data.columns))\n",
        "print(\"Memory Usage - {:.2f} MB\".format(test_data.memory_usage().sum() / 1024**2))\n"
      ],
      "execution_count": 34,
      "outputs": [
        {
          "output_type": "stream",
          "text": [
            "Training Data:\n",
            "Shape - (7613, 5)\n",
            "Columns - Index(['id', 'keyword', 'location', 'text', 'target'], dtype='object')\n",
            "Memory Usage - 0.29 MB\n",
            "\n",
            "Testing Data:\n",
            "Shape - (3263, 4)\n",
            "Columns - Index(['id', 'keyword', 'location', 'text'], dtype='object')\n",
            "Memory Usage - 0.10 MB\n"
          ],
          "name": "stdout"
        }
      ]
    },
    {
      "cell_type": "code",
      "metadata": {
        "tags": [],
        "output_cleared": false,
        "source_hash": "33e89837",
        "execution_millis": 635,
        "deepnote_to_be_reexecuted": false,
        "cell_id": "00004-528044a5-3c32-4a2a-a9ba-a6d7cb2f7c37",
        "execution_start": 1617894027239,
        "deepnote_cell_type": "code",
        "colab": {
          "base_uri": "https://localhost:8080/",
          "height": 194
        },
        "id": "w3RjtALhgUgs",
        "outputId": "1c0ae346-eebf-4189-bf90-60fd9ffc87bc"
      },
      "source": [
        "train_data.head()"
      ],
      "execution_count": 35,
      "outputs": [
        {
          "output_type": "execute_result",
          "data": {
            "text/html": [
              "<div>\n",
              "<style scoped>\n",
              "    .dataframe tbody tr th:only-of-type {\n",
              "        vertical-align: middle;\n",
              "    }\n",
              "\n",
              "    .dataframe tbody tr th {\n",
              "        vertical-align: top;\n",
              "    }\n",
              "\n",
              "    .dataframe thead th {\n",
              "        text-align: right;\n",
              "    }\n",
              "</style>\n",
              "<table border=\"1\" class=\"dataframe\">\n",
              "  <thead>\n",
              "    <tr style=\"text-align: right;\">\n",
              "      <th></th>\n",
              "      <th>id</th>\n",
              "      <th>keyword</th>\n",
              "      <th>location</th>\n",
              "      <th>text</th>\n",
              "      <th>target</th>\n",
              "    </tr>\n",
              "  </thead>\n",
              "  <tbody>\n",
              "    <tr>\n",
              "      <th>0</th>\n",
              "      <td>1</td>\n",
              "      <td>NaN</td>\n",
              "      <td>NaN</td>\n",
              "      <td>Our Deeds are the Reason of this #earthquake M...</td>\n",
              "      <td>1</td>\n",
              "    </tr>\n",
              "    <tr>\n",
              "      <th>1</th>\n",
              "      <td>4</td>\n",
              "      <td>NaN</td>\n",
              "      <td>NaN</td>\n",
              "      <td>Forest fire near La Ronge Sask. Canada</td>\n",
              "      <td>1</td>\n",
              "    </tr>\n",
              "    <tr>\n",
              "      <th>2</th>\n",
              "      <td>5</td>\n",
              "      <td>NaN</td>\n",
              "      <td>NaN</td>\n",
              "      <td>All residents asked to 'shelter in place' are ...</td>\n",
              "      <td>1</td>\n",
              "    </tr>\n",
              "    <tr>\n",
              "      <th>3</th>\n",
              "      <td>6</td>\n",
              "      <td>NaN</td>\n",
              "      <td>NaN</td>\n",
              "      <td>13,000 people receive #wildfires evacuation or...</td>\n",
              "      <td>1</td>\n",
              "    </tr>\n",
              "    <tr>\n",
              "      <th>4</th>\n",
              "      <td>7</td>\n",
              "      <td>NaN</td>\n",
              "      <td>NaN</td>\n",
              "      <td>Just got sent this photo from Ruby #Alaska as ...</td>\n",
              "      <td>1</td>\n",
              "    </tr>\n",
              "  </tbody>\n",
              "</table>\n",
              "</div>"
            ],
            "text/plain": [
              "   id keyword  ...                                               text target\n",
              "0   1     NaN  ...  Our Deeds are the Reason of this #earthquake M...      1\n",
              "1   4     NaN  ...             Forest fire near La Ronge Sask. Canada      1\n",
              "2   5     NaN  ...  All residents asked to 'shelter in place' are ...      1\n",
              "3   6     NaN  ...  13,000 people receive #wildfires evacuation or...      1\n",
              "4   7     NaN  ...  Just got sent this photo from Ruby #Alaska as ...      1\n",
              "\n",
              "[5 rows x 5 columns]"
            ]
          },
          "metadata": {
            "tags": []
          },
          "execution_count": 35
        }
      ]
    },
    {
      "cell_type": "code",
      "metadata": {
        "tags": [],
        "output_cleared": false,
        "source_hash": "74dc1ffb",
        "execution_millis": 178,
        "deepnote_to_be_reexecuted": false,
        "cell_id": "00005-4d4aa59d-0f6a-440d-981f-c57d64c049f8",
        "execution_start": 1617894027699,
        "deepnote_cell_type": "code",
        "colab": {
          "base_uri": "https://localhost:8080/",
          "height": 194
        },
        "id": "YuR7s6rpgUgt",
        "outputId": "577ce0d6-d124-4f00-f8ff-24e03d6eecea"
      },
      "source": [
        "test_data.head()"
      ],
      "execution_count": 36,
      "outputs": [
        {
          "output_type": "execute_result",
          "data": {
            "text/html": [
              "<div>\n",
              "<style scoped>\n",
              "    .dataframe tbody tr th:only-of-type {\n",
              "        vertical-align: middle;\n",
              "    }\n",
              "\n",
              "    .dataframe tbody tr th {\n",
              "        vertical-align: top;\n",
              "    }\n",
              "\n",
              "    .dataframe thead th {\n",
              "        text-align: right;\n",
              "    }\n",
              "</style>\n",
              "<table border=\"1\" class=\"dataframe\">\n",
              "  <thead>\n",
              "    <tr style=\"text-align: right;\">\n",
              "      <th></th>\n",
              "      <th>id</th>\n",
              "      <th>keyword</th>\n",
              "      <th>location</th>\n",
              "      <th>text</th>\n",
              "    </tr>\n",
              "  </thead>\n",
              "  <tbody>\n",
              "    <tr>\n",
              "      <th>0</th>\n",
              "      <td>0</td>\n",
              "      <td>NaN</td>\n",
              "      <td>NaN</td>\n",
              "      <td>Just happened a terrible car crash</td>\n",
              "    </tr>\n",
              "    <tr>\n",
              "      <th>1</th>\n",
              "      <td>2</td>\n",
              "      <td>NaN</td>\n",
              "      <td>NaN</td>\n",
              "      <td>Heard about #earthquake is different cities, s...</td>\n",
              "    </tr>\n",
              "    <tr>\n",
              "      <th>2</th>\n",
              "      <td>3</td>\n",
              "      <td>NaN</td>\n",
              "      <td>NaN</td>\n",
              "      <td>there is a forest fire at spot pond, geese are...</td>\n",
              "    </tr>\n",
              "    <tr>\n",
              "      <th>3</th>\n",
              "      <td>9</td>\n",
              "      <td>NaN</td>\n",
              "      <td>NaN</td>\n",
              "      <td>Apocalypse lighting. #Spokane #wildfires</td>\n",
              "    </tr>\n",
              "    <tr>\n",
              "      <th>4</th>\n",
              "      <td>11</td>\n",
              "      <td>NaN</td>\n",
              "      <td>NaN</td>\n",
              "      <td>Typhoon Soudelor kills 28 in China and Taiwan</td>\n",
              "    </tr>\n",
              "  </tbody>\n",
              "</table>\n",
              "</div>"
            ],
            "text/plain": [
              "   id keyword location                                               text\n",
              "0   0     NaN      NaN                 Just happened a terrible car crash\n",
              "1   2     NaN      NaN  Heard about #earthquake is different cities, s...\n",
              "2   3     NaN      NaN  there is a forest fire at spot pond, geese are...\n",
              "3   9     NaN      NaN           Apocalypse lighting. #Spokane #wildfires\n",
              "4  11     NaN      NaN      Typhoon Soudelor kills 28 in China and Taiwan"
            ]
          },
          "metadata": {
            "tags": []
          },
          "execution_count": 36
        }
      ]
    },
    {
      "cell_type": "code",
      "metadata": {
        "tags": [],
        "output_cleared": false,
        "source_hash": "198bef5",
        "execution_millis": 81,
        "deepnote_to_be_reexecuted": false,
        "cell_id": "00006-2954681a-bf44-4558-80c6-b84f508f9820",
        "execution_start": 1617894027796,
        "deepnote_cell_type": "code",
        "colab": {
          "base_uri": "https://localhost:8080/"
        },
        "id": "BFfG9IzngUgu",
        "outputId": "df851f79-c4f0-4e81-db54-7d943ed0a737"
      },
      "source": [
        "print(\"Distinct keywords for test data: {}\".format(test_data.keyword.drop_duplicates().count()))\n",
        "print(\"Distinct keywords for test data: {}\".format(train_data.keyword.drop_duplicates().count()))"
      ],
      "execution_count": 37,
      "outputs": [
        {
          "output_type": "stream",
          "text": [
            "Distinct keywords for test data: 221\n",
            "Distinct keywords for test data: 221\n"
          ],
          "name": "stdout"
        }
      ]
    },
    {
      "cell_type": "code",
      "metadata": {
        "tags": [],
        "output_cleared": false,
        "source_hash": "1f7ca3b1",
        "execution_millis": 11,
        "deepnote_to_be_reexecuted": false,
        "cell_id": "00007-86c5ca97-3e2f-411d-b1dc-8f8e4e8a5bd3",
        "execution_start": 1617894029150,
        "deepnote_cell_type": "code",
        "colab": {
          "base_uri": "https://localhost:8080/"
        },
        "id": "1jhVGz3vgUgu",
        "outputId": "be9e7379-8ccf-4e01-c8cf-32bb958ffba9"
      },
      "source": [
        "# Find count of words that are in both \n",
        "keywords = []\n",
        "for word in test_data.keyword.drop_duplicates():\n",
        "    keywords.append(word)\n",
        "for word in train_data.keyword.drop_duplicates():\n",
        "    if word not in keywords:\n",
        "        keywords.append(word)\n",
        "\n",
        "print(\"Count of words in training data that aren't in test data: {}\".format(len(keywords) - test_data.keyword.drop_duplicates().count()))"
      ],
      "execution_count": 38,
      "outputs": [
        {
          "output_type": "stream",
          "text": [
            "Count of words in training data that aren't in test data: 1\n"
          ],
          "name": "stdout"
        }
      ]
    },
    {
      "cell_type": "markdown",
      "metadata": {
        "tags": [],
        "output_cleared": false,
        "cell_id": "00008-c6526973-6c63-4fc2-be4b-4b8ef94b6991",
        "deepnote_cell_type": "markdown",
        "id": "JcjqlU6fgUgv"
      },
      "source": [
        "Both datasets have the same number of keywords. There is one keyword in training dataset that isn't in testing dataset. "
      ]
    },
    {
      "cell_type": "code",
      "metadata": {
        "tags": [],
        "output_cleared": false,
        "source_hash": "2c250b3a",
        "execution_millis": 20,
        "deepnote_to_be_reexecuted": false,
        "cell_id": "00009-fe890b1a-4f4b-4a93-aec9-e7d8fedd0d18",
        "execution_start": 1617894029836,
        "deepnote_cell_type": "code",
        "colab": {
          "base_uri": "https://localhost:8080/"
        },
        "id": "lDNyH4bcgUgw",
        "outputId": "ef7bec81-85a9-458d-9110-0054183a1e11"
      },
      "source": [
        "train_data.target.value_counts()"
      ],
      "execution_count": 39,
      "outputs": [
        {
          "output_type": "execute_result",
          "data": {
            "text/plain": [
              "0    4342\n",
              "1    3271\n",
              "Name: target, dtype: int64"
            ]
          },
          "metadata": {
            "tags": []
          },
          "execution_count": 39
        }
      ]
    },
    {
      "cell_type": "code",
      "metadata": {
        "tags": [],
        "output_cleared": false,
        "source_hash": "773472cc",
        "execution_millis": 269,
        "deepnote_to_be_reexecuted": false,
        "cell_id": "00010-2b284002-409c-4c65-921d-4fa8198dd612",
        "execution_start": 1617894030739,
        "deepnote_cell_type": "code",
        "colab": {
          "base_uri": "https://localhost:8080/",
          "height": 614
        },
        "id": "i07_YC9IgUgw",
        "outputId": "7dec956b-c696-46f2-ea47-442aecb03b6e"
      },
      "source": [
        "import matplotlib.pyplot as plt\n",
        "\n",
        "plt.figure(figsize=(30,10))\n",
        "plt.title(\"Train Data: target\", fontsize=20)\n",
        "train_data.target.value_counts().plot(kind=\"pie\",\n",
        "                                    labels=[\"Real\", \"Fake\"],\n",
        "                                    wedgeprops=dict(width=.7),\n",
        "                                    autopct=\"%1.0f%%\",\n",
        "                                    startangle=-20,\n",
        "                                    textprops={\"fontsize\": 15})"
      ],
      "execution_count": 40,
      "outputs": [
        {
          "output_type": "execute_result",
          "data": {
            "text/plain": [
              "<matplotlib.axes._subplots.AxesSubplot at 0x7fcbb204cbd0>"
            ]
          },
          "metadata": {
            "tags": []
          },
          "execution_count": 40
        },
        {
          "output_type": "display_data",
          "data": {
            "image/png": "[encoded data removed]",
            "text/plain": [
              "<Figure size 2160x720 with 1 Axes>"
            ]
          },
          "metadata": {
            "tags": []
          }
        }
      ]
    },
    {
      "cell_type": "markdown",
      "metadata": {
        "tags": [],
        "output_cleared": false,
        "cell_id": "00011-4eb24dc4-1489-44bc-ac9f-a5f0cd2b6170",
        "deepnote_cell_type": "markdown",
        "id": "nfdfGyPQgUgx"
      },
      "source": [
        "There are a few more real examples than there are fake ones, it's good that it's a faily even split, it will be good to have plenty of both instances to work with."
      ]
    },
    {
      "cell_type": "markdown",
      "metadata": {
        "tags": [],
        "cell_id": "00011-d67fa81f-6bec-4987-84e0-4d8caf2335c1",
        "deepnote_cell_type": "markdown",
        "id": "5ZBh6pA2gUgx"
      },
      "source": [
        "Now we preprocess the data."
      ]
    },
    {
      "cell_type": "code",
      "metadata": {
        "tags": [],
        "output_cleared": false,
        "source_hash": "9075bbb0",
        "execution_millis": 136,
        "deepnote_to_be_reexecuted": false,
        "cell_id": "00012-bb31f8d6-81b7-418d-993b-dedf54d4a580",
        "execution_start": 1617894032865,
        "deepnote_cell_type": "code",
        "colab": {
          "base_uri": "https://localhost:8080/"
        },
        "id": "mjiyrQzHgUgy",
        "outputId": "0bb7ab42-746c-4848-fa6e-9db853cb3f79"
      },
      "source": [
        "train_data.text.head()"
      ],
      "execution_count": 41,
      "outputs": [
        {
          "output_type": "execute_result",
          "data": {
            "text/plain": [
              "0    Our Deeds are the Reason of this #earthquake M...\n",
              "1               Forest fire near La Ronge Sask. Canada\n",
              "2    All residents asked to 'shelter in place' are ...\n",
              "3    13,000 people receive #wildfires evacuation or...\n",
              "4    Just got sent this photo from Ruby #Alaska as ...\n",
              "Name: text, dtype: object"
            ]
          },
          "metadata": {
            "tags": []
          },
          "execution_count": 41
        }
      ]
    },
    {
      "cell_type": "code",
      "metadata": {
        "tags": [],
        "output_cleared": false,
        "source_hash": "6864db81",
        "execution_millis": 7488,
        "deepnote_to_be_reexecuted": false,
        "cell_id": "00013-9868aa9a-1db6-43bb-b416-9d6975dcbfff",
        "execution_start": 1617894033934,
        "deepnote_cell_type": "code",
        "colab": {
          "base_uri": "https://localhost:8080/"
        },
        "id": "BNOUojE1gUgy",
        "outputId": "bba0951c-4a84-4cb9-eb16-9e252c153c5f"
      },
      "source": [
        "!pip install nltk==3.5\n",
        "import nltk; nltk.download(\"stopwords\")\n",
        "!pip install textblob==0.15.3\n",
        "!python -m textblob.download_corpora\n",
        "\n",
        "def preprocessing_data(data):\n",
        "    # Change all text to lowercase\n",
        "    data.text = data.text.apply(lambda x: \" \".join(x.lower() for x in x.split()))\n",
        "    \n",
        "    # Remove punctuation \n",
        "    data.text = data.text.str.replace(\"[^\\w\\s]\",\"\")\n",
        "\n",
        "    # Remove stopwords\n",
        "    from nltk.corpus import stopwords\n",
        "    stop = stopwords.words(\"english\")\n",
        "    data.text = data.text.apply(lambda x: \" \".join(x for x in x.split() if x not in stop))\n",
        "\n",
        "    # Lemmatize words\n",
        "    from textblob import Word\n",
        "    data.text = data.text.apply(lambda x: \" \".join([Word(word).lemmatize() for word in x.split()]))\n",
        "\n",
        "    # Remove words with length below 3\n",
        "    data.text = data.text.apply(lambda x: \" \".join(x for x in x.split() if len(x) > 2))\n",
        "\n",
        "    # Remove rare words\n",
        "    freq = pd.Series(\" \".join(data).split()).value_counts()[-10:]\n",
        "    freq = list(freq.index)\n",
        "    data.text = data.text.apply(lambda x: \" \".join(x for x in x.split() if x not in freq))\n",
        "\n",
        "    # Remove common words\n",
        "    freq = pd.Series(\" \".join(data).split()).value_counts()[:10]\n",
        "    freq = list(freq.index) \n",
        "    data.text = data.text.apply(lambda x: \" \".join(x for x in x.split() if x not in freq))\n",
        "\n",
        "    return data"
      ],
      "execution_count": 42,
      "outputs": [
        {
          "output_type": "stream",
          "text": [
            "Requirement already satisfied: nltk==3.5 in /usr/local/lib/python3.7/dist-packages (3.5)\n",
            "Requirement already satisfied: tqdm in /usr/local/lib/python3.7/dist-packages (from nltk==3.5) (4.41.1)\n",
            "Requirement already satisfied: click in /usr/local/lib/python3.7/dist-packages (from nltk==3.5) (7.1.2)\n",
            "Requirement already satisfied: joblib in /usr/local/lib/python3.7/dist-packages (from nltk==3.5) (1.0.1)\n",
            "Requirement already satisfied: regex in /usr/local/lib/python3.7/dist-packages (from nltk==3.5) (2019.12.20)\n"
          ],
          "name": "stdout"
        },
        {
          "output_type": "stream",
          "text": [
            "[nltk_data] Downloading package stopwords to /root/nltk_data...\n",
            "[nltk_data]   Package stopwords is already up-to-date!\n"
          ],
          "name": "stderr"
        },
        {
          "output_type": "stream",
          "text": [
            "Requirement already satisfied: textblob==0.15.3 in /usr/local/lib/python3.7/dist-packages (0.15.3)\n",
            "Requirement already satisfied: nltk>=3.1 in /usr/local/lib/python3.7/dist-packages (from textblob==0.15.3) (3.5)\n",
            "Requirement already satisfied: joblib in /usr/local/lib/python3.7/dist-packages (from nltk>=3.1->textblob==0.15.3) (1.0.1)\n",
            "Requirement already satisfied: tqdm in /usr/local/lib/python3.7/dist-packages (from nltk>=3.1->textblob==0.15.3) (4.41.1)\n",
            "Requirement already satisfied: regex in /usr/local/lib/python3.7/dist-packages (from nltk>=3.1->textblob==0.15.3) (2019.12.20)\n",
            "Requirement already satisfied: click in /usr/local/lib/python3.7/dist-packages (from nltk>=3.1->textblob==0.15.3) (7.1.2)\n",
            "[nltk_data] Downloading package brown to /root/nltk_data...\n",
            "[nltk_data]   Package brown is already up-to-date!\n",
            "[nltk_data] Downloading package punkt to /root/nltk_data...\n",
            "[nltk_data]   Package punkt is already up-to-date!\n",
            "[nltk_data] Downloading package wordnet to /root/nltk_data...\n",
            "[nltk_data]   Package wordnet is already up-to-date!\n",
            "[nltk_data] Downloading package averaged_perceptron_tagger to\n",
            "[nltk_data]     /root/nltk_data...\n",
            "[nltk_data]   Package averaged_perceptron_tagger is already up-to-\n",
            "[nltk_data]       date!\n",
            "[nltk_data] Downloading package conll2000 to /root/nltk_data...\n",
            "[nltk_data]   Package conll2000 is already up-to-date!\n",
            "[nltk_data] Downloading package movie_reviews to /root/nltk_data...\n",
            "[nltk_data]   Package movie_reviews is already up-to-date!\n",
            "Finished.\n"
          ],
          "name": "stdout"
        }
      ]
    },
    {
      "cell_type": "code",
      "metadata": {
        "tags": [],
        "output_cleared": false,
        "source_hash": "b2f2eb2e",
        "execution_millis": 1101,
        "deepnote_to_be_reexecuted": false,
        "cell_id": "00014-659b2051-33ae-477c-baf4-ff2c8d59d57f",
        "execution_start": 1617894041410,
        "deepnote_cell_type": "code",
        "id": "ISGZN5ZQgUgz"
      },
      "source": [
        "train_data = preprocessing_data(train_data)\n",
        "test_data = preprocessing_data(test_data)"
      ],
      "execution_count": 43,
      "outputs": []
    },
    {
      "cell_type": "code",
      "metadata": {
        "tags": [],
        "output_cleared": false,
        "source_hash": "33e89837",
        "execution_millis": 435,
        "deepnote_to_be_reexecuted": false,
        "cell_id": "00015-ebeb8451-67df-451f-a70e-d0b46140430f",
        "execution_start": 1617894042517,
        "deepnote_cell_type": "code",
        "colab": {
          "base_uri": "https://localhost:8080/",
          "height": 194
        },
        "id": "eArsLeHLgUg0",
        "outputId": "d16f30e1-81fe-482b-cb92-8d7827e8f0b9"
      },
      "source": [
        "train_data.head()"
      ],
      "execution_count": 44,
      "outputs": [
        {
          "output_type": "execute_result",
          "data": {
            "text/html": [
              "<div>\n",
              "<style scoped>\n",
              "    .dataframe tbody tr th:only-of-type {\n",
              "        vertical-align: middle;\n",
              "    }\n",
              "\n",
              "    .dataframe tbody tr th {\n",
              "        vertical-align: top;\n",
              "    }\n",
              "\n",
              "    .dataframe thead th {\n",
              "        text-align: right;\n",
              "    }\n",
              "</style>\n",
              "<table border=\"1\" class=\"dataframe\">\n",
              "  <thead>\n",
              "    <tr style=\"text-align: right;\">\n",
              "      <th></th>\n",
              "      <th>id</th>\n",
              "      <th>keyword</th>\n",
              "      <th>location</th>\n",
              "      <th>text</th>\n",
              "      <th>target</th>\n",
              "    </tr>\n",
              "  </thead>\n",
              "  <tbody>\n",
              "    <tr>\n",
              "      <th>0</th>\n",
              "      <td>1</td>\n",
              "      <td>NaN</td>\n",
              "      <td>NaN</td>\n",
              "      <td>deed reason earthquake may allah forgive</td>\n",
              "      <td>1</td>\n",
              "    </tr>\n",
              "    <tr>\n",
              "      <th>1</th>\n",
              "      <td>4</td>\n",
              "      <td>NaN</td>\n",
              "      <td>NaN</td>\n",
              "      <td>forest fire near ronge sask canada</td>\n",
              "      <td>1</td>\n",
              "    </tr>\n",
              "    <tr>\n",
              "      <th>2</th>\n",
              "      <td>5</td>\n",
              "      <td>NaN</td>\n",
              "      <td>NaN</td>\n",
              "      <td>resident asked shelter place notified officer ...</td>\n",
              "      <td>1</td>\n",
              "    </tr>\n",
              "    <tr>\n",
              "      <th>3</th>\n",
              "      <td>6</td>\n",
              "      <td>NaN</td>\n",
              "      <td>NaN</td>\n",
              "      <td>13000 people receive wildfire evacuation order...</td>\n",
              "      <td>1</td>\n",
              "    </tr>\n",
              "    <tr>\n",
              "      <th>4</th>\n",
              "      <td>7</td>\n",
              "      <td>NaN</td>\n",
              "      <td>NaN</td>\n",
              "      <td>got sent photo ruby alaska smoke wildfire pour...</td>\n",
              "      <td>1</td>\n",
              "    </tr>\n",
              "  </tbody>\n",
              "</table>\n",
              "</div>"
            ],
            "text/plain": [
              "   id keyword  ...                                               text target\n",
              "0   1     NaN  ...           deed reason earthquake may allah forgive      1\n",
              "1   4     NaN  ...                 forest fire near ronge sask canada      1\n",
              "2   5     NaN  ...  resident asked shelter place notified officer ...      1\n",
              "3   6     NaN  ...  13000 people receive wildfire evacuation order...      1\n",
              "4   7     NaN  ...  got sent photo ruby alaska smoke wildfire pour...      1\n",
              "\n",
              "[5 rows x 5 columns]"
            ]
          },
          "metadata": {
            "tags": []
          },
          "execution_count": 44
        }
      ]
    },
    {
      "cell_type": "code",
      "metadata": {
        "tags": [],
        "output_cleared": false,
        "source_hash": "74dc1ffb",
        "execution_millis": 394,
        "deepnote_to_be_reexecuted": false,
        "cell_id": "00016-f4e5bf7e-6806-4d51-90a7-88d11ed23fff",
        "execution_start": 1617894042561,
        "deepnote_cell_type": "code",
        "colab": {
          "base_uri": "https://localhost:8080/",
          "height": 194
        },
        "id": "EGg65hA3gUg0",
        "outputId": "5701d62f-15e2-4303-cf2e-b61e55a7c4bd"
      },
      "source": [
        "test_data.head()"
      ],
      "execution_count": 45,
      "outputs": [
        {
          "output_type": "execute_result",
          "data": {
            "text/html": [
              "<div>\n",
              "<style scoped>\n",
              "    .dataframe tbody tr th:only-of-type {\n",
              "        vertical-align: middle;\n",
              "    }\n",
              "\n",
              "    .dataframe tbody tr th {\n",
              "        vertical-align: top;\n",
              "    }\n",
              "\n",
              "    .dataframe thead th {\n",
              "        text-align: right;\n",
              "    }\n",
              "</style>\n",
              "<table border=\"1\" class=\"dataframe\">\n",
              "  <thead>\n",
              "    <tr style=\"text-align: right;\">\n",
              "      <th></th>\n",
              "      <th>id</th>\n",
              "      <th>keyword</th>\n",
              "      <th>location</th>\n",
              "      <th>text</th>\n",
              "    </tr>\n",
              "  </thead>\n",
              "  <tbody>\n",
              "    <tr>\n",
              "      <th>0</th>\n",
              "      <td>0</td>\n",
              "      <td>NaN</td>\n",
              "      <td>NaN</td>\n",
              "      <td>happened terrible car crash</td>\n",
              "    </tr>\n",
              "    <tr>\n",
              "      <th>1</th>\n",
              "      <td>2</td>\n",
              "      <td>NaN</td>\n",
              "      <td>NaN</td>\n",
              "      <td>heard earthquake different city stay safe ever...</td>\n",
              "    </tr>\n",
              "    <tr>\n",
              "      <th>2</th>\n",
              "      <td>3</td>\n",
              "      <td>NaN</td>\n",
              "      <td>NaN</td>\n",
              "      <td>forest fire spot pond goose fleeing across str...</td>\n",
              "    </tr>\n",
              "    <tr>\n",
              "      <th>3</th>\n",
              "      <td>9</td>\n",
              "      <td>NaN</td>\n",
              "      <td>NaN</td>\n",
              "      <td>apocalypse lighting spokane wildfire</td>\n",
              "    </tr>\n",
              "    <tr>\n",
              "      <th>4</th>\n",
              "      <td>11</td>\n",
              "      <td>NaN</td>\n",
              "      <td>NaN</td>\n",
              "      <td>typhoon soudelor kill china taiwan</td>\n",
              "    </tr>\n",
              "  </tbody>\n",
              "</table>\n",
              "</div>"
            ],
            "text/plain": [
              "   id keyword location                                               text\n",
              "0   0     NaN      NaN                        happened terrible car crash\n",
              "1   2     NaN      NaN  heard earthquake different city stay safe ever...\n",
              "2   3     NaN      NaN  forest fire spot pond goose fleeing across str...\n",
              "3   9     NaN      NaN               apocalypse lighting spokane wildfire\n",
              "4  11     NaN      NaN                 typhoon soudelor kill china taiwan"
            ]
          },
          "metadata": {
            "tags": []
          },
          "execution_count": 45
        }
      ]
    },
    {
      "cell_type": "code",
      "metadata": {
        "id": "MRgCrXjthPED"
      },
      "source": [
        "from sklearn import feature_extraction\n",
        "from sklearn.metrics import accuracy_score\n",
        "from sklearn.linear_model import LogisticRegression\n",
        "from sklearn.feature_extraction.text import TfidfVectorizer\n",
        "from sklearn.metrics import accuracy_score"
      ],
      "execution_count": 46,
      "outputs": []
    },
    {
      "cell_type": "markdown",
      "metadata": {
        "id": "GMhsGD35hEan"
      },
      "source": [
        "## Logistic Regression"
      ]
    },
    {
      "cell_type": "code",
      "metadata": {
        "colab": {
          "base_uri": "https://localhost:8080/"
        },
        "id": "qJp-DwUnhUsA",
        "outputId": "f9a851c6-596f-47d6-fb5f-32a2a70781e6"
      },
      "source": [
        "vectorizer = feature_extraction.text.CountVectorizer()\n",
        "train_vectors = vectorizer.fit_transform(train_data[\"text\"])\n",
        "test_vectors = vectorizer.transform(test_data[\"text\"])\n",
        "\n",
        "print(train_vectors.shape)\n",
        "print(test_vectors.shape)"
      ],
      "execution_count": 47,
      "outputs": [
        {
          "output_type": "stream",
          "text": [
            "(7613, 20858)\n",
            "(3263, 20858)\n"
          ],
          "name": "stdout"
        }
      ]
    },
    {
      "cell_type": "code",
      "metadata": {
        "colab": {
          "base_uri": "https://localhost:8080/"
        },
        "id": "qNc6GRI5hcYo",
        "outputId": "384b3d49-df01-4cc1-a78b-1fbabb4d9b2e"
      },
      "source": [
        "# create logistic regression model\n",
        "model = LogisticRegression(max_iter=1000)\n",
        "model.fit(train_vectors, train_data[\"target\"])"
      ],
      "execution_count": 48,
      "outputs": [
        {
          "output_type": "execute_result",
          "data": {
            "text/plain": [
              "LogisticRegression(C=1.0, class_weight=None, dual=False, fit_intercept=True,\n",
              "                   intercept_scaling=1, l1_ratio=None, max_iter=1000,\n",
              "                   multi_class='auto', n_jobs=None, penalty='l2',\n",
              "                   random_state=None, solver='lbfgs', tol=0.0001, verbose=0,\n",
              "                   warm_start=False)"
            ]
          },
          "metadata": {
            "tags": []
          },
          "execution_count": 48
        }
      ]
    },
    {
      "cell_type": "code",
      "metadata": {
        "id": "41D2IV_Ghhgn"
      },
      "source": [
        "# save the predictions on the testing data to submit to kaggle\n",
        "df = pd.DataFrame()\n",
        "test_preds = model.predict(test_vectors)\n",
        "df[\"id\"] = test_data[\"id\"]\n",
        "df[\"target\"] = test_preds\n",
        "df.to_csv(\"logistic_regression.csv\", index=False)"
      ],
      "execution_count": 49,
      "outputs": []
    },
    {
      "cell_type": "markdown",
      "metadata": {
        "id": "pa4wCS-cg0g0"
      },
      "source": [
        "## SVM"
      ]
    },
    {
      "cell_type": "code",
      "metadata": {
        "tags": [],
        "cell_id": "00017-675d1a4a-143e-4834-8c4e-a568db4930b4",
        "deepnote_to_be_reexecuted": false,
        "source_hash": "dfb131eb",
        "execution_millis": 77,
        "execution_start": 1617894042611,
        "deepnote_cell_type": "code",
        "id": "akvPsM95gUg1"
      },
      "source": [
        "X_train = train_data[\"text\"]\n",
        "y_train = train_data[\"target\"]\n",
        "X_test = test_data[\"text\"]\n",
        "\n",
        "vectorizer = TfidfVectorizer()\n",
        "X_train = vectorizer.fit_transform(X_train)"
      ],
      "execution_count": 50,
      "outputs": []
    },
    {
      "cell_type": "code",
      "metadata": {
        "tags": [],
        "cell_id": "00018-47016025-f4e4-4e22-abf9-d6429e52a3b5",
        "deepnote_to_be_reexecuted": false,
        "source_hash": "ef6f8860",
        "execution_millis": 7516,
        "execution_start": 1617894042722,
        "deepnote_cell_type": "code",
        "colab": {
          "base_uri": "https://localhost:8080/"
        },
        "id": "XJTxFgAmgUg1",
        "outputId": "cf6bca6c-d810-4c81-eb4d-fd3d3b5fae16"
      },
      "source": [
        "from sklearn import svm\n",
        "\n",
        "svm = svm.SVC(C=100)\n",
        "\n",
        "svm.fit(X_train, y_train)"
      ],
      "execution_count": 51,
      "outputs": [
        {
          "output_type": "execute_result",
          "data": {
            "text/plain": [
              "SVC(C=100, break_ties=False, cache_size=200, class_weight=None, coef0=0.0,\n",
              "    decision_function_shape='ovr', degree=3, gamma='scale', kernel='rbf',\n",
              "    max_iter=-1, probability=False, random_state=None, shrinking=True,\n",
              "    tol=0.001, verbose=False)"
            ]
          },
          "metadata": {
            "tags": []
          },
          "execution_count": 51
        }
      ]
    },
    {
      "cell_type": "code",
      "metadata": {
        "tags": [],
        "cell_id": "00019-05320b9a-fb8c-4944-8b95-a89047ac1f02",
        "deepnote_to_be_reexecuted": false,
        "source_hash": "3656e2f3",
        "execution_millis": 1997,
        "execution_start": 1617894050267,
        "deepnote_cell_type": "code",
        "id": "Go7eLoDNgUg2"
      },
      "source": [
        "X_test = vectorizer.transform(X_test)\n",
        "test_preds = svm.predict(X_test)\n",
        "\n",
        "df = pd.DataFrame()\n",
        "df[\"id\"] = test_data[\"id\"]\n",
        "df[\"target\"] = test_preds \n",
        "df.to_csv(\"svm.csv\", index=False)"
      ],
      "execution_count": 52,
      "outputs": []
    },
    {
      "cell_type": "markdown",
      "metadata": {
        "id": "l9zy-S_5iBiq"
      },
      "source": [
        "## LSTM"
      ]
    },
    {
      "cell_type": "code",
      "metadata": {
        "tags": [],
        "cell_id": "00020-2e5cab5c-e169-47b1-a355-e3389d65a180",
        "deepnote_cell_type": "code",
        "id": "zm2zfS9HgUg3"
      },
      "source": [
        "from keras.preprocessing.text import Tokenizer\n",
        "from keras.preprocessing.sequence import pad_sequences\n",
        "from keras.models import Sequential\n",
        "from keras.optimizers import Adam\n",
        "from keras.layers import Dense, Embedding, LSTM, SpatialDropout1D\n",
        "from keras.callbacks import EarlyStopping\n",
        "from keras.layers import Dropout"
      ],
      "execution_count": 53,
      "outputs": []
    },
    {
      "cell_type": "code",
      "metadata": {
        "colab": {
          "base_uri": "https://localhost:8080/"
        },
        "id": "Ktyg7Yg-iHAE",
        "outputId": "41845fa9-6cbf-4bd1-8bbf-8aff5533d78d"
      },
      "source": [
        "# The maximum number of words to be used. (most frequent)\n",
        "#MAX_NB_WORDS = 10000\n",
        "MAX_SEQUENCE_LENGTH = 24\n",
        "EMBEDDING_DIM = 128\n",
        "\n",
        "tokenizer = Tokenizer(lower=False)\n",
        "tokenizer.fit_on_texts(train_data['text'].values)\n",
        "word_index = tokenizer.word_index\n",
        "print(f\"Found {len(word_index)} unique tokens\")"
      ],
      "execution_count": 54,
      "outputs": [
        {
          "output_type": "stream",
          "text": [
            "Found 20956 unique tokens\n"
          ],
          "name": "stdout"
        }
      ]
    },
    {
      "cell_type": "code",
      "metadata": {
        "colab": {
          "base_uri": "https://localhost:8080/"
        },
        "id": "42n6r_xkiNVA",
        "outputId": "7871291f-06d2-4c3d-c3a8-abae046eaf3c"
      },
      "source": [
        "X_train = tokenizer.texts_to_sequences(train_data['text'].values)\n",
        "X_train = pad_sequences(X_train, maxlen=MAX_SEQUENCE_LENGTH)\n",
        "Y_train = train_data['target'].values\n",
        "Y_train = Y_train.reshape((-1, 1))\n",
        "\n",
        "X_test = tokenizer.texts_to_sequences(test_data['text'].values)\n",
        "X_test = pad_sequences(X_test, maxlen=MAX_SEQUENCE_LENGTH)\n",
        "\n",
        "print(X_train.shape, Y_train.shape)\n",
        "print(X_test.shape)"
      ],
      "execution_count": 55,
      "outputs": [
        {
          "output_type": "stream",
          "text": [
            "(7613, 24) (7613, 1)\n",
            "(3263, 24)\n"
          ],
          "name": "stdout"
        }
      ]
    },
    {
      "cell_type": "code",
      "metadata": {
        "colab": {
          "base_uri": "https://localhost:8080/"
        },
        "id": "jyaCjBfsiUMH",
        "outputId": "b690195b-84b4-4625-d6b6-fa9600b8c9ff"
      },
      "source": [
        "model = Sequential()\n",
        "model.add(Embedding(len(tokenizer.word_counts) + 1, EMBEDDING_DIM, input_length=X_train.shape[1]))\n",
        "model.add(SpatialDropout1D(0.2))\n",
        "model.add(LSTM(128))\n",
        "model.add(Dropout(0.2))\n",
        "model.add(Dense(64, activation='relu'))\n",
        "model.add(Dropout(0.2))\n",
        "model.add(Dense(1, activation='sigmoid'))\n",
        "optimizer = Adam(learning_rate=0.0001)\n",
        "model.compile(loss='binary_crossentropy', optimizer=optimizer, metrics=['accuracy'])\n",
        "print(model.summary())"
      ],
      "execution_count": 56,
      "outputs": [
        {
          "output_type": "stream",
          "text": [
            "Model: \"sequential_1\"\n",
            "_________________________________________________________________\n",
            "Layer (type)                 Output Shape              Param #   \n",
            "=================================================================\n",
            "embedding_1 (Embedding)      (None, 24, 128)           2682496   \n",
            "_________________________________________________________________\n",
            "spatial_dropout1d_1 (Spatial (None, 24, 128)           0         \n",
            "_________________________________________________________________\n",
            "lstm_1 (LSTM)                (None, 128)               131584    \n",
            "_________________________________________________________________\n",
            "dropout_2 (Dropout)          (None, 128)               0         \n",
            "_________________________________________________________________\n",
            "dense_2 (Dense)              (None, 64)                8256      \n",
            "_________________________________________________________________\n",
            "dropout_3 (Dropout)          (None, 64)                0         \n",
            "_________________________________________________________________\n",
            "dense_3 (Dense)              (None, 1)                 65        \n",
            "=================================================================\n",
            "Total params: 2,822,401\n",
            "Trainable params: 2,822,401\n",
            "Non-trainable params: 0\n",
            "_________________________________________________________________\n",
            "None\n"
          ],
          "name": "stdout"
        }
      ]
    },
    {
      "cell_type": "code",
      "metadata": {
        "colab": {
          "base_uri": "https://localhost:8080/"
        },
        "id": "OoNwJl4qiWyB",
        "outputId": "9746376b-fe75-4b00-810d-92a6625c5266"
      },
      "source": [
        "epochs = 10\n",
        "batch_size = 64\n",
        "\n",
        "history = model.fit(X_train, Y_train, epochs=epochs, batch_size=batch_size,validation_split=0.2)"
      ],
      "execution_count": 57,
      "outputs": [
        {
          "output_type": "stream",
          "text": [
            "Epoch 1/10\n",
            "96/96 [==============================] - 5s 32ms/step - loss: 0.6853 - accuracy: 0.5858 - val_loss: 0.6811 - val_accuracy: 0.5345\n",
            "Epoch 2/10\n",
            "96/96 [==============================] - 3s 29ms/step - loss: 0.6597 - accuracy: 0.5839 - val_loss: 0.6570 - val_accuracy: 0.5673\n",
            "Epoch 3/10\n",
            "96/96 [==============================] - 3s 28ms/step - loss: 0.6183 - accuracy: 0.6675 - val_loss: 0.5888 - val_accuracy: 0.7413\n",
            "Epoch 4/10\n",
            "96/96 [==============================] - 3s 29ms/step - loss: 0.4702 - accuracy: 0.8272 - val_loss: 0.4733 - val_accuracy: 0.7905\n",
            "Epoch 5/10\n",
            "96/96 [==============================] - 3s 29ms/step - loss: 0.3157 - accuracy: 0.8832 - val_loss: 0.4854 - val_accuracy: 0.7892\n",
            "Epoch 6/10\n",
            "96/96 [==============================] - 3s 28ms/step - loss: 0.2495 - accuracy: 0.9102 - val_loss: 0.4874 - val_accuracy: 0.7794\n",
            "Epoch 7/10\n",
            "96/96 [==============================] - 3s 28ms/step - loss: 0.1908 - accuracy: 0.9261 - val_loss: 0.5578 - val_accuracy: 0.7498\n",
            "Epoch 8/10\n",
            "96/96 [==============================] - 3s 28ms/step - loss: 0.1613 - accuracy: 0.9480 - val_loss: 0.5834 - val_accuracy: 0.7564\n",
            "Epoch 9/10\n",
            "96/96 [==============================] - 3s 29ms/step - loss: 0.1263 - accuracy: 0.9564 - val_loss: 0.5671 - val_accuracy: 0.7603\n",
            "Epoch 10/10\n",
            "96/96 [==============================] - 3s 29ms/step - loss: 0.1006 - accuracy: 0.9657 - val_loss: 0.5954 - val_accuracy: 0.7715\n"
          ],
          "name": "stdout"
        }
      ]
    },
    {
      "cell_type": "code",
      "metadata": {
        "id": "ktcrJw29iYyh"
      },
      "source": [
        "df = pd.DataFrame()\n",
        "raw_preds = model.predict(X_test)\n",
        "test_preds = np.where(raw_preds > 0.5, 1, 0)\n",
        "df[\"id\"] = test_data[\"id\"]\n",
        "df[\"target\"] = test_preds\n",
        "df.to_csv(\"lstm.csv\", index=False)"
      ],
      "execution_count": 58,
      "outputs": []
    },
    {
      "cell_type": "code",
      "metadata": {
        "id": "aiQaLpj8jFeL"
      },
      "source": [
        "# nice - this gets 0.77811 accuracy"
      ],
      "execution_count": 59,
      "outputs": []
    }
  ]
}